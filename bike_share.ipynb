{
 "cells": [
  {
   "cell_type": "code",
   "execution_count": 1,
   "id": "cdc3ab92-fbc5-4d7c-a5f3-1fb24406cfb2",
   "metadata": {},
   "outputs": [],
   "source": [
    "import pandas as pd\n",
    "import numpy as np"
   ]
  },
  {
   "cell_type": "markdown",
   "id": "bca726e4-07b5-4ec1-8bb5-a1f8e2fe3ae0",
   "metadata": {
    "tags": []
   },
   "source": [
    "# Business task:\n",
    "- Design marketing strategies aimed at converting casual riders into annual members \n",
    "- How to achieve these goals?\n",
    "    - Help marketing team understand: \n",
    "        - How do annual members and casual riders differ?\n",
    "        - Why would casual riders buy a membership?\n",
    "        - How would digital media affect marketing tactics?\n",
    "- Analyze historic bike trip data to identify trends\n",
    "\n",
    "# Data Sources Used\n",
    "- Data was sourced from:\n",
    "     - https://divvy-tripdata.s3.amazonaws.com/index.html\n",
    "    - 2020- 2021 bike share data (April 2020- March 2021)\n",
    " \n",
    "- The data consisted of 12 CSV files that had information on \n",
    "    - Ride ID\n",
    "    - Rideable type\n",
    "    - Starting station (name/ID)\n",
    "    - Ending station (name/ID)\n",
    "    - Rider type\n",
    "- Columns added to the data include\n",
    "    - Ride time \n",
    "    - hh:mm:ss \n",
    "    - minutes \n",
    "    - Day name\n",
    "    - Week name\n"
   ]
  },
  {
   "cell_type": "markdown",
   "id": "bc26d3f0-6e38-4757-91f8-e793928a020c",
   "metadata": {
    "tags": []
   },
   "source": [
    "# Summary Analysis \n",
    "\n",
    "1. On a high level, the data shows that early summer (May - July) and the weekends (Saturday/Sunday) see the most total bike traffic. Bike traffic was measured by total average ride duration and total number of riders per month/day. July saw the most average rider time (29.4 minutes) and August had the most average total riders (598,463 riders). Saturday had the most average rider time per day (27.8 min) and the most riders per day (51,484 riders).\n",
    "\n",
    "\n",
    "2. For the results of the casual versus member rider data, there were several unexpected results. Across both monthly and daily rider data, casual members have more ride duration on average than members. Casual riders had an average monthly ride duration of 31.9 min and an average daily duration of 34.4 min. Members had an average monthly ride duration of 15.2 minutes and an average daily duration of 15.5 minutes. \n",
    "\n",
    "3. While casual riders put in more time per ride, there were more total members that road on a monthly basis with an average of 159,626 riders versus 111,259 casual riders per month. For the daily breakdown, members had more total riders on weekdays (Monday-Friday); however, for the weekends, the trends were different. Casual members had more total riders on Saturdays on average and were nearly equal to member riders on Sundays.\n",
    "\t\n",
    "4. Lastly, member riders comprised of 59% of the total users and casual riders made up 41.%\n"
   ]
  },
  {
   "cell_type": "markdown",
   "id": "19a0f052-1714-4c94-bb20-96ee44387dbf",
   "metadata": {
    "tags": []
   },
   "source": [
    "## Key Findings \n",
    "1. There are less casual riders (41%) than members (59%)\n",
    "2. May-July have the most ride time across both groups\n",
    "3. July-August have the most total riders across both groups\n",
    "4. Casual riders (35.2 min/ride) put in over 200% the average rider time as members (15.5 min/ride)\n",
    "5. The weekends have the most rider duration across both groups.\n",
    "6. Saturdays have the most total riders across both groups. \n",
    "7. Members are more consistent with rider time throughout the week with a slight increases on weekends\n",
    "8. Casual riders spike significantly higher ride time on the weekends \n",
    "9. Casual riders have more total rides/ride time on Saturdays than members \n",
    "10. The top 5 stations were:\n",
    "    - Streeter Dr & Grand Ave\t\n",
    "    - Theater on the Lake\t\n",
    "    - Lake Shore Dr & Monroe St\t\n",
    "    - Clark St & Elm St\t\n",
    "    - Lake Shore Dr & North Blvd\t\n",
    "\n"
   ]
  },
  {
   "cell_type": "markdown",
   "id": "cce5a110-9237-4829-b427-949b87b7fb99",
   "metadata": {},
   "source": [
    "## Recommendations \n",
    "1. Focus marketing on casual riders with more marketing material targeted during the late spring/early summer period \n",
    "    - Conversion of casual users to members will be beneficial for long term growth\n",
    "    - Dive into reasons why becoming a member will not only be convienent, but a way to improve quality of life\n",
    "2. Create promotions that get casual riders to try the membership \n",
    "    - Promotions will help show that a membership is more economical for casual users\n",
    "    - Offer member perks that casual riders cannot get\n",
    "    - We believe in our product/service and believe that a demo of the membership benefits will help convert casual users\n",
    "3. Use digital marketing, social media, and a dedicated bikeshare app to reach more current casual riders and new riders \n",
    "    - In the internet age, reach/engagement/marketing is mostly powered via digital means \n",
    "    - Make Cyclistic a known name around our service area and have it associated with appealing images\n",
    "4. For the top stations:\n",
    "    - Consider increasing the bike capacity of those stations\n",
    "    - Dive into the \"why\" that drives the popularity of those stations"
   ]
  },
  {
   "cell_type": "markdown",
   "id": "dd32ab59-6d36-436e-b20f-5baf48610bd0",
   "metadata": {},
   "source": [
    "# Analysis:"
   ]
  },
  {
   "cell_type": "markdown",
   "id": "95b9a271-cf2b-4605-beab-6e6372b2e192",
   "metadata": {
    "tags": []
   },
   "source": [
    "# Objective 1:\n",
    "1. Import Data\n",
    "    - Read in the first 9 CSV files that corresponds to March 2020 to December 2020\n",
    "    - Read in the last 3 CSV files that corresponds to January 2021 to March 2021\n",
    "2. Drop columns that are not needed\n",
    "3. Set the appropriate data types"
   ]
  },
  {
   "cell_type": "markdown",
   "id": "c47d8252-200b-47c8-aa65-6fd459ce306b",
   "metadata": {},
   "source": [
    "### 1. Import CSV files"
   ]
  },
  {
   "cell_type": "code",
   "execution_count": 2,
   "id": "66d8c1c9-a0ce-4588-9efe-60d288fc9287",
   "metadata": {},
   "outputs": [],
   "source": [
    "d={}\n",
    "for i in range(4,13):\n",
    "    path=f'2020_{i}.csv'\n",
    "    d[i]=pd.read_csv(path)"
   ]
  },
  {
   "cell_type": "code",
   "execution_count": 3,
   "id": "ba8fb0be-e1e9-4f9e-9c06-c36a74df96de",
   "metadata": {},
   "outputs": [],
   "source": [
    "g = {}\n",
    "for i in range(1,4):\n",
    "    path=f'2021_{i}.csv'\n",
    "    g[i]=pd.read_csv(path)"
   ]
  },
  {
   "cell_type": "code",
   "execution_count": 4,
   "id": "923cd2b6-3eed-43fa-be67-fa2e9a560024",
   "metadata": {},
   "outputs": [],
   "source": [
    "# concatenate all of the imported CSV files\n",
    "df = pd.concat([g[1], g[2], g[3], d[4], d[5], d[6], d[7], d[8], d[9], d[10], d[11], d[12]])"
   ]
  },
  {
   "cell_type": "markdown",
   "id": "aa94a636-70ef-4359-84b3-f054c0b74a94",
   "metadata": {},
   "source": [
    "### 2. Drop columns"
   ]
  },
  {
   "cell_type": "markdown",
   "id": "a38f0f10-c4b3-4fa5-bd66-e50a299efb74",
   "metadata": {},
   "source": [
    "- Drop geographic collumns\n",
    "- Drop collumns I added back in September when i first did this whole project on Excel/SQL\n",
    "    - Columns: ride_length, day, month\n",
    "    - Will add these again in Python\n",
    "- Drop station names in favor of station ID"
   ]
  },
  {
   "cell_type": "code",
   "execution_count": 85,
   "id": "dc19ff16-b0be-4a57-a7e1-6a3c98721d0d",
   "metadata": {},
   "outputs": [],
   "source": [
    "df = df.drop(columns=['start_lat', 'start_lng', 'end_lng', 'end_lat', 'ride_length', 'day', 'month','start_station_name', 'end_station_name'])"
   ]
  },
  {
   "cell_type": "code",
   "execution_count": 6,
   "id": "d64feb4f-fbfc-4b79-b966-6abbbff02bab",
   "metadata": {},
   "outputs": [
    {
     "name": "stdout",
     "output_type": "stream",
     "text": [
      "<class 'pandas.core.frame.DataFrame'>\n",
      "Int64Index: 3489697 entries, 0 to 131572\n",
      "Data columns (total 16 columns):\n",
      " #   Column              Dtype  \n",
      "---  ------              -----  \n",
      " 0   ride_id             object \n",
      " 1   rideable_type       object \n",
      " 2   started_at          object \n",
      " 3   ended_at            object \n",
      " 4   start_station_name  object \n",
      " 5   start_station_id    object \n",
      " 6   end_station_name    object \n",
      " 7   end_station_id      object \n",
      " 8   start_lat           float64\n",
      " 9   start_lng           float64\n",
      " 10  end_lat             float64\n",
      " 11  end_lng             float64\n",
      " 12  member_casual       object \n",
      " 13  ride_length         object \n",
      " 14  day                 object \n",
      " 15  month               object \n",
      "dtypes: float64(4), object(12)\n",
      "memory usage: 2.4 GB\n"
     ]
    }
   ],
   "source": [
    "df.info(memory_usage='deep')"
   ]
  },
  {
   "cell_type": "markdown",
   "id": "082df9b4-ad9d-49fb-aac8-90f8ac58c88e",
   "metadata": {},
   "source": [
    "### 3. Set the correct data types "
   ]
  },
  {
   "cell_type": "code",
   "execution_count": 7,
   "id": "c3cba03b-256e-48bd-8c79-3849bccad4c1",
   "metadata": {},
   "outputs": [
    {
     "data": {
      "text/html": [
       "<div>\n",
       "<style scoped>\n",
       "    .dataframe tbody tr th:only-of-type {\n",
       "        vertical-align: middle;\n",
       "    }\n",
       "\n",
       "    .dataframe tbody tr th {\n",
       "        vertical-align: top;\n",
       "    }\n",
       "\n",
       "    .dataframe thead th {\n",
       "        text-align: right;\n",
       "    }\n",
       "</style>\n",
       "<table border=\"1\" class=\"dataframe\">\n",
       "  <thead>\n",
       "    <tr style=\"text-align: right;\">\n",
       "      <th></th>\n",
       "      <th>start_lat</th>\n",
       "      <th>start_lng</th>\n",
       "      <th>end_lat</th>\n",
       "      <th>end_lng</th>\n",
       "    </tr>\n",
       "  </thead>\n",
       "  <tbody>\n",
       "    <tr>\n",
       "      <th>count</th>\n",
       "      <td>3.404972e+06</td>\n",
       "      <td>3.404972e+06</td>\n",
       "      <td>3.400333e+06</td>\n",
       "      <td>3.400333e+06</td>\n",
       "    </tr>\n",
       "    <tr>\n",
       "      <th>mean</th>\n",
       "      <td>4.190407e+01</td>\n",
       "      <td>-8.764483e+01</td>\n",
       "      <td>4.190434e+01</td>\n",
       "      <td>-8.764511e+01</td>\n",
       "    </tr>\n",
       "    <tr>\n",
       "      <th>std</th>\n",
       "      <td>4.364574e-02</td>\n",
       "      <td>2.576471e-02</td>\n",
       "      <td>4.374345e-02</td>\n",
       "      <td>2.589770e-02</td>\n",
       "    </tr>\n",
       "    <tr>\n",
       "      <th>min</th>\n",
       "      <td>4.164000e+01</td>\n",
       "      <td>-8.787000e+01</td>\n",
       "      <td>4.154000e+01</td>\n",
       "      <td>-8.807000e+01</td>\n",
       "    </tr>\n",
       "    <tr>\n",
       "      <th>25%</th>\n",
       "      <td>4.188224e+01</td>\n",
       "      <td>-8.765887e+01</td>\n",
       "      <td>4.188266e+01</td>\n",
       "      <td>-8.765914e+01</td>\n",
       "    </tr>\n",
       "    <tr>\n",
       "      <th>50%</th>\n",
       "      <td>4.190000e+01</td>\n",
       "      <td>-8.764157e+01</td>\n",
       "      <td>4.190068e+01</td>\n",
       "      <td>-8.764182e+01</td>\n",
       "    </tr>\n",
       "    <tr>\n",
       "      <th>75%</th>\n",
       "      <td>4.193000e+01</td>\n",
       "      <td>-8.762773e+01</td>\n",
       "      <td>4.193060e+01</td>\n",
       "      <td>-8.762773e+01</td>\n",
       "    </tr>\n",
       "    <tr>\n",
       "      <th>max</th>\n",
       "      <td>4.208000e+01</td>\n",
       "      <td>-8.752000e+01</td>\n",
       "      <td>4.216000e+01</td>\n",
       "      <td>-8.744000e+01</td>\n",
       "    </tr>\n",
       "  </tbody>\n",
       "</table>\n",
       "</div>"
      ],
      "text/plain": [
       "          start_lat     start_lng       end_lat       end_lng\n",
       "count  3.404972e+06  3.404972e+06  3.400333e+06  3.400333e+06\n",
       "mean   4.190407e+01 -8.764483e+01  4.190434e+01 -8.764511e+01\n",
       "std    4.364574e-02  2.576471e-02  4.374345e-02  2.589770e-02\n",
       "min    4.164000e+01 -8.787000e+01  4.154000e+01 -8.807000e+01\n",
       "25%    4.188224e+01 -8.765887e+01  4.188266e+01 -8.765914e+01\n",
       "50%    4.190000e+01 -8.764157e+01  4.190068e+01 -8.764182e+01\n",
       "75%    4.193000e+01 -8.762773e+01  4.193060e+01 -8.762773e+01\n",
       "max    4.208000e+01 -8.752000e+01  4.216000e+01 -8.744000e+01"
      ]
     },
     "execution_count": 7,
     "metadata": {},
     "output_type": "execute_result"
    }
   ],
   "source": [
    "df.describe()"
   ]
  },
  {
   "cell_type": "code",
   "execution_count": 8,
   "id": "34fe8695-c0ba-418f-b188-1967ce305153",
   "metadata": {},
   "outputs": [],
   "source": [
    "df = df.astype({'ride_id':'string', 'rideable_type':'category', 'started_at':'Datetime64', 'ended_at':'Datetime64',\n",
    "                'start_station_id':'string', 'end_station_id':'string', 'member_casual':'category'})"
   ]
  },
  {
   "cell_type": "code",
   "execution_count": 9,
   "id": "4c29444b-3ef2-4979-9eae-b543d075c985",
   "metadata": {},
   "outputs": [
    {
     "name": "stdout",
     "output_type": "stream",
     "text": [
      "<class 'pandas.core.frame.DataFrame'>\n",
      "Int64Index: 3489697 entries, 0 to 131572\n",
      "Data columns (total 16 columns):\n",
      " #   Column              Dtype         \n",
      "---  ------              -----         \n",
      " 0   ride_id             string        \n",
      " 1   rideable_type       category      \n",
      " 2   started_at          datetime64[ns]\n",
      " 3   ended_at            datetime64[ns]\n",
      " 4   start_station_name  object        \n",
      " 5   start_station_id    string        \n",
      " 6   end_station_name    object        \n",
      " 7   end_station_id      string        \n",
      " 8   start_lat           float64       \n",
      " 9   start_lng           float64       \n",
      " 10  end_lat             float64       \n",
      " 11  end_lng             float64       \n",
      " 12  member_casual       category      \n",
      " 13  ride_length         object        \n",
      " 14  day                 object        \n",
      " 15  month               object        \n",
      "dtypes: category(2), datetime64[ns](2), float64(4), object(5), string(3)\n",
      "memory usage: 1.7 GB\n"
     ]
    }
   ],
   "source": [
    "df.info(memory_usage='deep')"
   ]
  },
  {
   "cell_type": "markdown",
   "id": "5c66edd7-1618-47ab-8c87-0e997749d2b1",
   "metadata": {},
   "source": [
    "# Objective 2:\n",
    "1. Drop Duplicate rows\n",
    "2. Remove rows with missing data"
   ]
  },
  {
   "cell_type": "code",
   "execution_count": 10,
   "id": "518e0121-3516-492e-a251-016b1a00c6d4",
   "metadata": {},
   "outputs": [
    {
     "data": {
      "text/plain": [
       "0"
      ]
     },
     "execution_count": 10,
     "metadata": {},
     "output_type": "execute_result"
    }
   ],
   "source": [
    "df.duplicated().sum()"
   ]
  },
  {
   "cell_type": "code",
   "execution_count": 11,
   "id": "e0c877f5-43af-4828-ab0c-f503a0a8ceed",
   "metadata": {},
   "outputs": [
    {
     "data": {
      "text/plain": [
       "ride_id                  0.000000\n",
       "rideable_type            0.000000\n",
       "started_at               0.000000\n",
       "ended_at                 0.000000\n",
       "start_station_name       3.628039\n",
       "start_station_id         3.647306\n",
       "end_station_name         4.280410\n",
       "end_station_id           4.294778\n",
       "start_lat                2.488273\n",
       "start_lng                2.488273\n",
       "end_lat                  2.628096\n",
       "end_lng                  2.628096\n",
       "member_casual            0.000000\n",
       "ride_length           4018.851579\n",
       "day                   4018.851579\n",
       "month                 4018.851579\n",
       "dtype: float64"
      ]
     },
     "execution_count": 11,
     "metadata": {},
     "output_type": "execute_result"
    }
   ],
   "source": [
    "(df.isna().sum() / df.count()) * 100"
   ]
  },
  {
   "cell_type": "markdown",
   "id": "9d981de6-3c3a-4383-82c8-d67f95c52548",
   "metadata": {},
   "source": [
    "The missing data occurs on station IDs only. Furthermore, the missing data only makes up ~ 4% of the total data in those columns. Since it is not clear if this data is MCAR (Missing Completely at Random),\n",
    "MAR (Missing at Random), or NMAR (Not Missing at Random), I will keep the missing data for the time being. There is a lot of data available for the rows."
   ]
  },
  {
   "cell_type": "markdown",
   "id": "576e8d8e-7c5a-4efe-bfcd-019fe36d08cc",
   "metadata": {},
   "source": [
    "# Objectve 3:\n",
    "\n",
    "1. Add ride_length column\n",
    "2. Add day column\n",
    "3. Add month column"
   ]
  },
  {
   "cell_type": "code",
   "execution_count": 12,
   "id": "af7d5d75-c003-49eb-a37b-1ac9e625eee9",
   "metadata": {},
   "outputs": [
    {
     "data": {
      "text/plain": [
       "0          January\n",
       "1          January\n",
       "2          January\n",
       "3          January\n",
       "4          January\n",
       "            ...   \n",
       "131568    December\n",
       "131569    December\n",
       "131570    December\n",
       "131571    December\n",
       "131572    December\n",
       "Name: started_at, Length: 3489697, dtype: object"
      ]
     },
     "execution_count": 12,
     "metadata": {},
     "output_type": "execute_result"
    }
   ],
   "source": [
    "df.started_at.dt.month_name()"
   ]
  },
  {
   "cell_type": "code",
   "execution_count": 13,
   "id": "5dd160c2-d458-4f86-863b-f30c518a1dad",
   "metadata": {},
   "outputs": [],
   "source": [
    "df = df.assign(\n",
    "    ride_length =round((df.ended_at - df.started_at).dt.total_seconds() / 60, 1),\n",
    "    day=df.started_at.dt.day_name().astype('category'),\n",
    "    month=df.started_at.dt.month_name().astype('category')\n",
    "    )"
   ]
  },
  {
   "cell_type": "code",
   "execution_count": 14,
   "id": "fb54e8af-963c-491d-92b3-97e7945359f3",
   "metadata": {},
   "outputs": [],
   "source": [
    "# set an order to categorical data \n",
    "\n",
    "df['month'] = df['month'].cat.set_categories(['January', 'February', 'March', 'April', 'May', 'June', 'July', 'August', 'September', 'October', 'November', 'December'],ordered=True)\n",
    "df['day'] = df['day'].cat.set_categories(['Monday', 'Tuesday', 'Wednesday', 'Thursday', 'Friday', 'Saturday', 'Sunday'],ordered=True)"
   ]
  },
  {
   "cell_type": "markdown",
   "id": "471280de-ed7c-4af4-8e4a-d062e63fafac",
   "metadata": {},
   "source": [
    "# Objective 4:\n",
    "1. Inspect data\n",
    "    - check unique values\n",
    "    - check validity of ranges\n",
    "2. Filter out any potentially erroneous data"
   ]
  },
  {
   "cell_type": "markdown",
   "id": "740888e8-8828-4e26-b2f6-6975d48e345e",
   "metadata": {},
   "source": [
    "Look at the unique values of categorical data that is less than 5:"
   ]
  },
  {
   "cell_type": "code",
   "execution_count": 15,
   "id": "39a8c534-bcf0-41a3-bddc-c2d3af7da3e3",
   "metadata": {},
   "outputs": [
    {
     "name": "stdout",
     "output_type": "stream",
     "text": [
      "rideable_type\n",
      "member_casual\n"
     ]
    }
   ],
   "source": [
    "for i,value in enumerate(df.nunique().values):\n",
    "    if value < 5:\n",
    "        print(df.nunique().index[i])"
   ]
  },
  {
   "cell_type": "code",
   "execution_count": 16,
   "id": "a32c7747-0b64-4328-b90b-f8b51048f97d",
   "metadata": {},
   "outputs": [
    {
     "data": {
      "text/plain": [
       "['electric_bike', 'classic_bike', 'docked_bike']\n",
       "Categories (3, object): ['classic_bike', 'docked_bike', 'electric_bike']"
      ]
     },
     "execution_count": 16,
     "metadata": {},
     "output_type": "execute_result"
    }
   ],
   "source": [
    "df.rideable_type.unique()"
   ]
  },
  {
   "cell_type": "code",
   "execution_count": 17,
   "id": "2551f6f2-bd0f-4f5c-baa1-20281053b0f0",
   "metadata": {},
   "outputs": [
    {
     "data": {
      "text/plain": [
       "['member', 'casual']\n",
       "Categories (2, object): ['casual', 'member']"
      ]
     },
     "execution_count": 17,
     "metadata": {},
     "output_type": "execute_result"
    }
   ],
   "source": [
    "df['member_casual'].unique()"
   ]
  },
  {
   "cell_type": "code",
   "execution_count": 18,
   "id": "b83a1e85-28db-45d2-ba1e-f1407fc77f15",
   "metadata": {},
   "outputs": [
    {
     "data": {
      "text/plain": [
       "Index(['ride_id', 'rideable_type', 'started_at', 'ended_at',\n",
       "       'start_station_name', 'start_station_id', 'end_station_name',\n",
       "       'end_station_id', 'start_lat', 'start_lng', 'end_lat', 'end_lng',\n",
       "       'member_casual', 'ride_length', 'day', 'month'],\n",
       "      dtype='object')"
      ]
     },
     "execution_count": 18,
     "metadata": {},
     "output_type": "execute_result"
    }
   ],
   "source": [
    "df.columns"
   ]
  },
  {
   "cell_type": "markdown",
   "id": "c4bf4d34-d2cd-4151-8500-394ea10d9ed5",
   "metadata": {},
   "source": [
    "Look at the ranges of key columns:\n",
    "- __Ride length:__ Do the ride times make sense?"
   ]
  },
  {
   "cell_type": "code",
   "execution_count": 19,
   "id": "9ead355e-f3f2-4459-84a0-6a39a99f488d",
   "metadata": {},
   "outputs": [
    {
     "data": {
      "text/plain": [
       "count    3.489697e+06\n",
       "mean     2.476787e+01\n",
       "std      3.904245e+02\n",
       "min     -2.905000e+04\n",
       "25%      7.900000e+00\n",
       "50%      1.450000e+01\n",
       "75%      2.660000e+01\n",
       "max      5.872000e+04\n",
       "Name: ride_length, dtype: float64"
      ]
     },
     "execution_count": 19,
     "metadata": {},
     "output_type": "execute_result"
    }
   ],
   "source": [
    "df.ride_length.describe()"
   ]
  },
  {
   "cell_type": "code",
   "execution_count": 20,
   "id": "612ce211-fda9-43a2-b5f7-ccf0b7964106",
   "metadata": {},
   "outputs": [
    {
     "data": {
      "text/plain": [
       "978.6666666666666"
      ]
     },
     "execution_count": 20,
     "metadata": {},
     "output_type": "execute_result"
    }
   ],
   "source": [
    "# how long is the longest ride in hours?\n",
    "df['ride_length'].max() / 60"
   ]
  },
  {
   "cell_type": "code",
   "execution_count": 21,
   "id": "af74d04e-95ca-43d8-9ab1-5f731d1d90d0",
   "metadata": {},
   "outputs": [
    {
     "data": {
      "text/plain": [
       "-484.1666666666667"
      ]
     },
     "execution_count": 21,
     "metadata": {},
     "output_type": "execute_result"
    }
   ],
   "source": [
    "# how long is the longest ride in hours?\n",
    "df['ride_length'].min() / 60"
   ]
  },
  {
   "cell_type": "markdown",
   "id": "88c615ee-7ef5-49e3-81c5-b8dfb745d465",
   "metadata": {},
   "source": [
    "The data shows that the maximum ride time is over 978 hours and the minimum ride time is -484 hours. This is obviously incorrect data."
   ]
  },
  {
   "cell_type": "code",
   "execution_count": 22,
   "id": "0cfdaece-dd1b-4820-85ac-10f728ab8ec8",
   "metadata": {},
   "outputs": [],
   "source": [
    "# remove rows that have a ride_length that's greater than 12 hours \n",
    "df = df.loc[df['ride_length'] < 60*12]"
   ]
  },
  {
   "cell_type": "code",
   "execution_count": 23,
   "id": "69780466-5f6f-4cac-b809-af71b025acc7",
   "metadata": {},
   "outputs": [
    {
     "data": {
      "text/plain": [
       "0.5"
      ]
     },
     "execution_count": 23,
     "metadata": {},
     "output_type": "execute_result"
    }
   ],
   "source": [
    "30/(60)"
   ]
  },
  {
   "cell_type": "code",
   "execution_count": 24,
   "id": "da795078-57dc-40ad-9dbb-2bd6ac533ed8",
   "metadata": {},
   "outputs": [],
   "source": [
    "# remove rows that have a ride length that's greater than 30 seconds\n",
    "df = df.loc[df['ride_length'] > .5]"
   ]
  },
  {
   "cell_type": "markdown",
   "id": "0611c2f3-0d9b-4233-b488-24183961adca",
   "metadata": {},
   "source": [
    "## Export Cleaned Data"
   ]
  },
  {
   "cell_type": "code",
   "execution_count": 55,
   "id": "1def0112-8e42-4851-b4cf-d0af62a0a741",
   "metadata": {},
   "outputs": [],
   "source": [
    "# df.to_csv('raw_cyclistic.csv', index=False)"
   ]
  },
  {
   "cell_type": "markdown",
   "id": "83738c0f-4e18-4537-8782-a6b0f4d11654",
   "metadata": {
    "tags": []
   },
   "source": [
    "# Objective 4\n",
    "1. Analysis \n",
    "    -  How do annual members and casual riders differ?\n",
    "    - Why would casual riders buy a membership?\n",
    "    - How would digital media affect marketing tactics?"
   ]
  },
  {
   "cell_type": "code",
   "execution_count": 56,
   "id": "b8ef78af-849c-4e0a-ae20-a68cf30cb293",
   "metadata": {},
   "outputs": [
    {
     "data": {
      "text/plain": [
       "Index(['ride_id', 'rideable_type', 'started_at', 'ended_at',\n",
       "       'start_station_name', 'start_station_id', 'end_station_name',\n",
       "       'end_station_id', 'start_lat', 'start_lng', 'end_lat', 'end_lng',\n",
       "       'member_casual', 'ride_length', 'day', 'month'],\n",
       "      dtype='object')"
      ]
     },
     "execution_count": 56,
     "metadata": {},
     "output_type": "execute_result"
    }
   ],
   "source": [
    "df.columns"
   ]
  },
  {
   "cell_type": "code",
   "execution_count": 57,
   "id": "6244de40-415f-45a1-8f65-f758810bb4cb",
   "metadata": {},
   "outputs": [
    {
     "data": {
      "text/html": [
       "<div>\n",
       "<style scoped>\n",
       "    .dataframe tbody tr th:only-of-type {\n",
       "        vertical-align: middle;\n",
       "    }\n",
       "\n",
       "    .dataframe tbody tr th {\n",
       "        vertical-align: top;\n",
       "    }\n",
       "\n",
       "    .dataframe thead th {\n",
       "        text-align: right;\n",
       "    }\n",
       "</style>\n",
       "<table border=\"1\" class=\"dataframe\">\n",
       "  <thead>\n",
       "    <tr style=\"text-align: right;\">\n",
       "      <th></th>\n",
       "      <th>mean_ride_time</th>\n",
       "      <th>rideable_mode</th>\n",
       "      <th>day_mode</th>\n",
       "      <th>month_mode</th>\n",
       "      <th>rider_count</th>\n",
       "    </tr>\n",
       "    <tr>\n",
       "      <th>member_casual</th>\n",
       "      <th></th>\n",
       "      <th></th>\n",
       "      <th></th>\n",
       "      <th></th>\n",
       "      <th></th>\n",
       "    </tr>\n",
       "  </thead>\n",
       "  <tbody>\n",
       "    <tr>\n",
       "      <th>casual</th>\n",
       "      <td>34.576481</td>\n",
       "      <td>docked_bike</td>\n",
       "      <td>Saturday</td>\n",
       "      <td>August</td>\n",
       "      <td>1409428</td>\n",
       "    </tr>\n",
       "    <tr>\n",
       "      <th>member</th>\n",
       "      <td>15.536882</td>\n",
       "      <td>docked_bike</td>\n",
       "      <td>Saturday</td>\n",
       "      <td>August</td>\n",
       "      <td>2027127</td>\n",
       "    </tr>\n",
       "  </tbody>\n",
       "</table>\n",
       "</div>"
      ],
      "text/plain": [
       "               mean_ride_time rideable_mode  day_mode month_mode  rider_count\n",
       "member_casual                                                                \n",
       "casual              34.576481   docked_bike  Saturday     August      1409428\n",
       "member              15.536882   docked_bike  Saturday     August      2027127"
      ]
     },
     "execution_count": 57,
     "metadata": {},
     "output_type": "execute_result"
    }
   ],
   "source": [
    "# member vs casual \n",
    "(df\n",
    " .groupby('member_casual')\n",
    " .agg(\n",
    "     mean_ride_time=('ride_length','mean'), \n",
    "     rideable_mode=('rideable_type', pd.Series.mode), \n",
    "     day_mode=('day', pd.Series.mode),\n",
    "     month_mode=('month', pd.Series.mode), \n",
    "     rider_count=('member_casual','count')\n",
    "     )\n",
    ")"
   ]
  },
  {
   "cell_type": "code",
   "execution_count": 58,
   "id": "133a279d-386b-498c-9695-38a8885557cf",
   "metadata": {},
   "outputs": [
    {
     "data": {
      "image/png": "[encoded data removed]",
      "text/plain": [
       "<Figure size 432x288 with 1 Axes>"
      ]
     },
     "metadata": {},
     "output_type": "display_data"
    }
   ],
   "source": [
    "(df\n",
    " .groupby('member_casual')\n",
    " .agg({'member_casual':'count'})\n",
    ").plot(kind='pie', subplots=True);"
   ]
  },
  {
   "cell_type": "code",
   "execution_count": 59,
   "id": "8fcd47be-7089-4a72-8f79-cde06281d21c",
   "metadata": {},
   "outputs": [
    {
     "data": {
      "image/png": "[encoded data removed]",
      "text/plain": [
       "<Figure size 432x288 with 1 Axes>"
      ]
     },
     "metadata": {
      "needs_background": "light"
     },
     "output_type": "display_data"
    }
   ],
   "source": [
    "(df\n",
    " .groupby('member_casual')\n",
    " .agg(mean_ride_time=('ride_length','mean'))\n",
    ").plot(kind='bar');"
   ]
  },
  {
   "cell_type": "markdown",
   "id": "5721c8c5-13d9-4994-9693-8334e2ababe0",
   "metadata": {},
   "source": [
    "# Monthly Breakdowns"
   ]
  },
  {
   "cell_type": "code",
   "execution_count": 60,
   "id": "439142df-9140-4f92-81b3-c9a477039aef",
   "metadata": {},
   "outputs": [
    {
     "data": {
      "text/html": [
       "<div>\n",
       "<style scoped>\n",
       "    .dataframe tbody tr th:only-of-type {\n",
       "        vertical-align: middle;\n",
       "    }\n",
       "\n",
       "    .dataframe tbody tr th {\n",
       "        vertical-align: top;\n",
       "    }\n",
       "\n",
       "    .dataframe thead th {\n",
       "        text-align: right;\n",
       "    }\n",
       "</style>\n",
       "<table border=\"1\" class=\"dataframe\">\n",
       "  <thead>\n",
       "    <tr style=\"text-align: right;\">\n",
       "      <th></th>\n",
       "      <th>mean_ride_time</th>\n",
       "      <th>ride_count</th>\n",
       "    </tr>\n",
       "    <tr>\n",
       "      <th>month</th>\n",
       "      <th></th>\n",
       "      <th></th>\n",
       "    </tr>\n",
       "  </thead>\n",
       "  <tbody>\n",
       "    <tr>\n",
       "      <th>January</th>\n",
       "      <td>13.810939</td>\n",
       "      <td>95761</td>\n",
       "    </tr>\n",
       "    <tr>\n",
       "      <th>February</th>\n",
       "      <td>17.370395</td>\n",
       "      <td>48793</td>\n",
       "    </tr>\n",
       "    <tr>\n",
       "      <th>March</th>\n",
       "      <td>19.657754</td>\n",
       "      <td>226121</td>\n",
       "    </tr>\n",
       "    <tr>\n",
       "      <th>April</th>\n",
       "      <td>22.799702</td>\n",
       "      <td>83900</td>\n",
       "    </tr>\n",
       "    <tr>\n",
       "      <th>May</th>\n",
       "      <td>28.833262</td>\n",
       "      <td>198013</td>\n",
       "    </tr>\n",
       "    <tr>\n",
       "      <th>June</th>\n",
       "      <td>27.798391</td>\n",
       "      <td>338850</td>\n",
       "    </tr>\n",
       "    <tr>\n",
       "      <th>July</th>\n",
       "      <td>29.326366</td>\n",
       "      <td>543597</td>\n",
       "    </tr>\n",
       "    <tr>\n",
       "      <th>August</th>\n",
       "      <td>25.508029</td>\n",
       "      <td>610938</td>\n",
       "    </tr>\n",
       "    <tr>\n",
       "      <th>September</th>\n",
       "      <td>22.043267</td>\n",
       "      <td>523823</td>\n",
       "    </tr>\n",
       "    <tr>\n",
       "      <th>October</th>\n",
       "      <td>18.346399</td>\n",
       "      <td>381036</td>\n",
       "    </tr>\n",
       "    <tr>\n",
       "      <th>November</th>\n",
       "      <td>18.035005</td>\n",
       "      <td>255880</td>\n",
       "    </tr>\n",
       "    <tr>\n",
       "      <th>December</th>\n",
       "      <td>14.584259</td>\n",
       "      <td>129843</td>\n",
       "    </tr>\n",
       "  </tbody>\n",
       "</table>\n",
       "</div>"
      ],
      "text/plain": [
       "           mean_ride_time  ride_count\n",
       "month                                \n",
       "January         13.810939       95761\n",
       "February        17.370395       48793\n",
       "March           19.657754      226121\n",
       "April           22.799702       83900\n",
       "May             28.833262      198013\n",
       "June            27.798391      338850\n",
       "July            29.326366      543597\n",
       "August          25.508029      610938\n",
       "September       22.043267      523823\n",
       "October         18.346399      381036\n",
       "November        18.035005      255880\n",
       "December        14.584259      129843"
      ]
     },
     "execution_count": 60,
     "metadata": {},
     "output_type": "execute_result"
    }
   ],
   "source": [
    "(df\n",
    " .groupby('month')\n",
    " .agg(mean_ride_time=('ride_length','mean'),\n",
    "      ride_count=('ride_id','count'))\n",
    ")"
   ]
  },
  {
   "cell_type": "code",
   "execution_count": 61,
   "id": "bd9db9ac-02f3-486d-8d30-70b69ae7f47a",
   "metadata": {},
   "outputs": [
    {
     "data": {
      "text/html": [
       "<div>\n",
       "<style scoped>\n",
       "    .dataframe tbody tr th:only-of-type {\n",
       "        vertical-align: middle;\n",
       "    }\n",
       "\n",
       "    .dataframe tbody tr th {\n",
       "        vertical-align: top;\n",
       "    }\n",
       "\n",
       "    .dataframe thead tr th {\n",
       "        text-align: left;\n",
       "    }\n",
       "\n",
       "    .dataframe thead tr:last-of-type th {\n",
       "        text-align: right;\n",
       "    }\n",
       "</style>\n",
       "<table border=\"1\" class=\"dataframe\">\n",
       "  <thead>\n",
       "    <tr>\n",
       "      <th></th>\n",
       "      <th colspan=\"2\" halign=\"left\">ride_length</th>\n",
       "    </tr>\n",
       "    <tr>\n",
       "      <th>member_casual</th>\n",
       "      <th>casual</th>\n",
       "      <th>member</th>\n",
       "    </tr>\n",
       "    <tr>\n",
       "      <th>month</th>\n",
       "      <th></th>\n",
       "      <th></th>\n",
       "    </tr>\n",
       "  </thead>\n",
       "  <tbody>\n",
       "    <tr>\n",
       "      <th>January</th>\n",
       "      <td>19.923615</td>\n",
       "      <td>12.408163</td>\n",
       "    </tr>\n",
       "    <tr>\n",
       "      <th>February</th>\n",
       "      <td>26.953490</td>\n",
       "      <td>14.918074</td>\n",
       "    </tr>\n",
       "    <tr>\n",
       "      <th>March</th>\n",
       "      <td>29.719860</td>\n",
       "      <td>13.806549</td>\n",
       "    </tr>\n",
       "    <tr>\n",
       "      <th>April</th>\n",
       "      <td>36.294319</td>\n",
       "      <td>17.592970</td>\n",
       "    </tr>\n",
       "    <tr>\n",
       "      <th>May</th>\n",
       "      <td>41.371726</td>\n",
       "      <td>19.204057</td>\n",
       "    </tr>\n",
       "    <tr>\n",
       "      <th>June</th>\n",
       "      <td>39.512740</td>\n",
       "      <td>18.161625</td>\n",
       "    </tr>\n",
       "    <tr>\n",
       "      <th>July</th>\n",
       "      <td>41.885326</td>\n",
       "      <td>17.296148</td>\n",
       "    </tr>\n",
       "    <tr>\n",
       "      <th>August</th>\n",
       "      <td>36.115418</td>\n",
       "      <td>16.268252</td>\n",
       "    </tr>\n",
       "    <tr>\n",
       "      <th>September</th>\n",
       "      <td>31.137239</td>\n",
       "      <td>15.083697</td>\n",
       "    </tr>\n",
       "    <tr>\n",
       "      <th>October</th>\n",
       "      <td>26.192658</td>\n",
       "      <td>13.676668</td>\n",
       "    </tr>\n",
       "    <tr>\n",
       "      <th>November</th>\n",
       "      <td>26.921611</td>\n",
       "      <td>13.469339</td>\n",
       "    </tr>\n",
       "    <tr>\n",
       "      <th>December</th>\n",
       "      <td>21.711420</td>\n",
       "      <td>12.471899</td>\n",
       "    </tr>\n",
       "  </tbody>\n",
       "</table>\n",
       "</div>"
      ],
      "text/plain": [
       "              ride_length           \n",
       "member_casual      casual     member\n",
       "month                               \n",
       "January         19.923615  12.408163\n",
       "February        26.953490  14.918074\n",
       "March           29.719860  13.806549\n",
       "April           36.294319  17.592970\n",
       "May             41.371726  19.204057\n",
       "June            39.512740  18.161625\n",
       "July            41.885326  17.296148\n",
       "August          36.115418  16.268252\n",
       "September       31.137239  15.083697\n",
       "October         26.192658  13.676668\n",
       "November        26.921611  13.469339\n",
       "December        21.711420  12.471899"
      ]
     },
     "execution_count": 61,
     "metadata": {},
     "output_type": "execute_result"
    }
   ],
   "source": [
    "(df\n",
    " .pivot_table(\n",
    "     index=df.month,\n",
    "    columns=df.member_casual, \n",
    "    aggfunc={'ride_length':'mean'})\n",
    ")"
   ]
  },
  {
   "cell_type": "code",
   "execution_count": 62,
   "id": "4db01aa4-0c45-40bc-9e8a-5ed8b9dc5c6f",
   "metadata": {},
   "outputs": [
    {
     "data": {
      "text/plain": [
       "<AxesSubplot:xlabel='month'>"
      ]
     },
     "execution_count": 62,
     "metadata": {},
     "output_type": "execute_result"
    },
    {
     "data": {
      "image/png": "[encoded data removed]",
      "text/plain": [
       "<Figure size 432x288 with 1 Axes>"
      ]
     },
     "metadata": {
      "needs_background": "light"
     },
     "output_type": "display_data"
    }
   ],
   "source": [
    "(df\n",
    " .groupby('month')\n",
    " .agg({'ride_length':'mean'})\n",
    ").plot(kind='bar')"
   ]
  },
  {
   "cell_type": "code",
   "execution_count": 63,
   "id": "acbd5ca6-f6be-4c34-a52a-64f44465d12c",
   "metadata": {},
   "outputs": [
    {
     "data": {
      "image/png": "[encoded data removed]",
      "text/plain": [
       "<Figure size 432x288 with 1 Axes>"
      ]
     },
     "metadata": {
      "needs_background": "light"
     },
     "output_type": "display_data"
    }
   ],
   "source": [
    "(df\n",
    " .pivot_table(\n",
    "     index=df.month,\n",
    "    columns=df.member_casual, \n",
    "    aggfunc={'ride_length':'mean'})\n",
    ").plot(kind='bar');"
   ]
  },
  {
   "cell_type": "code",
   "execution_count": 64,
   "id": "97e82b63-ed29-46ee-9252-91acb17ed594",
   "metadata": {},
   "outputs": [
    {
     "data": {
      "text/plain": [
       "<AxesSubplot:xlabel='month'>"
      ]
     },
     "execution_count": 64,
     "metadata": {},
     "output_type": "execute_result"
    },
    {
     "data": {
      "image/png": "[encoded data removed]",
      "text/plain": [
       "<Figure size 432x288 with 1 Axes>"
      ]
     },
     "metadata": {
      "needs_background": "light"
     },
     "output_type": "display_data"
    }
   ],
   "source": [
    "(df\n",
    " .groupby('month')\n",
    " .agg({'ride_id':'count'})\n",
    ").plot(kind='bar')"
   ]
  },
  {
   "cell_type": "code",
   "execution_count": 65,
   "id": "0485cecb-6ac6-44a3-8de4-dd48549d5fbb",
   "metadata": {},
   "outputs": [
    {
     "data": {
      "text/plain": [
       "<AxesSubplot:xlabel='month'>"
      ]
     },
     "execution_count": 65,
     "metadata": {},
     "output_type": "execute_result"
    },
    {
     "data": {
      "image/png": "[encoded data removed]",
      "text/plain": [
       "<Figure size 432x288 with 1 Axes>"
      ]
     },
     "metadata": {
      "needs_background": "light"
     },
     "output_type": "display_data"
    }
   ],
   "source": [
    "(df\n",
    " .pivot_table(\n",
    "     index='month',\n",
    "     columns=df.member_casual, \n",
    "     aggfunc={'ride_id':'count'})\n",
    ").plot(kind='bar')"
   ]
  },
  {
   "cell_type": "markdown",
   "id": "1d57bac7-8463-4e6d-8dab-8d42f49e3e7d",
   "metadata": {},
   "source": [
    "# Daily Breakdowns"
   ]
  },
  {
   "cell_type": "code",
   "execution_count": 66,
   "id": "3aaafc15-9596-4e5c-8a56-0daf743abc70",
   "metadata": {},
   "outputs": [
    {
     "data": {
      "text/html": [
       "<div>\n",
       "<style scoped>\n",
       "    .dataframe tbody tr th:only-of-type {\n",
       "        vertical-align: middle;\n",
       "    }\n",
       "\n",
       "    .dataframe tbody tr th {\n",
       "        vertical-align: top;\n",
       "    }\n",
       "\n",
       "    .dataframe thead th {\n",
       "        text-align: right;\n",
       "    }\n",
       "</style>\n",
       "<table border=\"1\" class=\"dataframe\">\n",
       "  <thead>\n",
       "    <tr style=\"text-align: right;\">\n",
       "      <th></th>\n",
       "      <th>ride_length</th>\n",
       "    </tr>\n",
       "    <tr>\n",
       "      <th>day</th>\n",
       "      <th></th>\n",
       "    </tr>\n",
       "  </thead>\n",
       "  <tbody>\n",
       "    <tr>\n",
       "      <th>Monday</th>\n",
       "      <td>21.701135</td>\n",
       "    </tr>\n",
       "    <tr>\n",
       "      <th>Tuesday</th>\n",
       "      <td>20.387137</td>\n",
       "    </tr>\n",
       "    <tr>\n",
       "      <th>Wednesday</th>\n",
       "      <td>20.181788</td>\n",
       "    </tr>\n",
       "    <tr>\n",
       "      <th>Thursday</th>\n",
       "      <td>20.614383</td>\n",
       "    </tr>\n",
       "    <tr>\n",
       "      <th>Friday</th>\n",
       "      <td>22.315567</td>\n",
       "    </tr>\n",
       "    <tr>\n",
       "      <th>Saturday</th>\n",
       "      <td>27.478834</td>\n",
       "    </tr>\n",
       "    <tr>\n",
       "      <th>Sunday</th>\n",
       "      <td>28.095070</td>\n",
       "    </tr>\n",
       "  </tbody>\n",
       "</table>\n",
       "</div>"
      ],
      "text/plain": [
       "           ride_length\n",
       "day                   \n",
       "Monday       21.701135\n",
       "Tuesday      20.387137\n",
       "Wednesday    20.181788\n",
       "Thursday     20.614383\n",
       "Friday       22.315567\n",
       "Saturday     27.478834\n",
       "Sunday       28.095070"
      ]
     },
     "execution_count": 66,
     "metadata": {},
     "output_type": "execute_result"
    }
   ],
   "source": [
    "(df\n",
    " .groupby('day')\n",
    " .agg({'ride_length':'mean'})\n",
    ")"
   ]
  },
  {
   "cell_type": "code",
   "execution_count": 67,
   "id": "02ef7d69-4145-407b-9b28-b30d9357f678",
   "metadata": {},
   "outputs": [
    {
     "data": {
      "text/html": [
       "<div>\n",
       "<style scoped>\n",
       "    .dataframe tbody tr th:only-of-type {\n",
       "        vertical-align: middle;\n",
       "    }\n",
       "\n",
       "    .dataframe tbody tr th {\n",
       "        vertical-align: top;\n",
       "    }\n",
       "\n",
       "    .dataframe thead tr th {\n",
       "        text-align: left;\n",
       "    }\n",
       "\n",
       "    .dataframe thead tr:last-of-type th {\n",
       "        text-align: right;\n",
       "    }\n",
       "</style>\n",
       "<table border=\"1\" class=\"dataframe\">\n",
       "  <thead>\n",
       "    <tr>\n",
       "      <th></th>\n",
       "      <th colspan=\"2\" halign=\"left\">ride_length</th>\n",
       "    </tr>\n",
       "    <tr>\n",
       "      <th>member_casual</th>\n",
       "      <th>casual</th>\n",
       "      <th>member</th>\n",
       "    </tr>\n",
       "    <tr>\n",
       "      <th>day</th>\n",
       "      <th></th>\n",
       "      <th></th>\n",
       "    </tr>\n",
       "  </thead>\n",
       "  <tbody>\n",
       "    <tr>\n",
       "      <th>Monday</th>\n",
       "      <td>33.996496</td>\n",
       "      <td>14.766577</td>\n",
       "    </tr>\n",
       "    <tr>\n",
       "      <th>Tuesday</th>\n",
       "      <td>31.641525</td>\n",
       "      <td>14.649854</td>\n",
       "    </tr>\n",
       "    <tr>\n",
       "      <th>Wednesday</th>\n",
       "      <td>30.748283</td>\n",
       "      <td>14.706371</td>\n",
       "    </tr>\n",
       "    <tr>\n",
       "      <th>Thursday</th>\n",
       "      <td>31.196986</td>\n",
       "      <td>14.768426</td>\n",
       "    </tr>\n",
       "    <tr>\n",
       "      <th>Friday</th>\n",
       "      <td>32.702458</td>\n",
       "      <td>15.256498</td>\n",
       "    </tr>\n",
       "    <tr>\n",
       "      <th>Saturday</th>\n",
       "      <td>37.370230</td>\n",
       "      <td>17.191049</td>\n",
       "    </tr>\n",
       "    <tr>\n",
       "      <th>Sunday</th>\n",
       "      <td>38.885451</td>\n",
       "      <td>17.402906</td>\n",
       "    </tr>\n",
       "  </tbody>\n",
       "</table>\n",
       "</div>"
      ],
      "text/plain": [
       "              ride_length           \n",
       "member_casual      casual     member\n",
       "day                                 \n",
       "Monday          33.996496  14.766577\n",
       "Tuesday         31.641525  14.649854\n",
       "Wednesday       30.748283  14.706371\n",
       "Thursday        31.196986  14.768426\n",
       "Friday          32.702458  15.256498\n",
       "Saturday        37.370230  17.191049\n",
       "Sunday          38.885451  17.402906"
      ]
     },
     "execution_count": 67,
     "metadata": {},
     "output_type": "execute_result"
    }
   ],
   "source": [
    "(df\n",
    " .pivot_table(\n",
    "     index=df.day,\n",
    "    columns=df.member_casual, \n",
    "    aggfunc={'ride_length':'mean'})\n",
    ")"
   ]
  },
  {
   "cell_type": "code",
   "execution_count": 68,
   "id": "c412c734-6286-4e6c-b616-6a7a9b4f7f0b",
   "metadata": {},
   "outputs": [
    {
     "data": {
      "text/plain": [
       "<AxesSubplot:xlabel='day'>"
      ]
     },
     "execution_count": 68,
     "metadata": {},
     "output_type": "execute_result"
    },
    {
     "data": {
      "image/png": "[encoded data removed]",
      "text/plain": [
       "<Figure size 432x288 with 1 Axes>"
      ]
     },
     "metadata": {
      "needs_background": "light"
     },
     "output_type": "display_data"
    }
   ],
   "source": [
    "(df\n",
    " .groupby('day')\n",
    " .agg({'ride_length':'mean'})\n",
    ").plot(kind='bar')"
   ]
  },
  {
   "cell_type": "code",
   "execution_count": 69,
   "id": "b6764216-d234-48fc-9af4-b3d759b6cad7",
   "metadata": {},
   "outputs": [
    {
     "data": {
      "text/plain": [
       "<AxesSubplot:xlabel='day'>"
      ]
     },
     "execution_count": 69,
     "metadata": {},
     "output_type": "execute_result"
    },
    {
     "data": {
      "image/png": "[encoded data removed]",
      "text/plain": [
       "<Figure size 432x288 with 1 Axes>"
      ]
     },
     "metadata": {
      "needs_background": "light"
     },
     "output_type": "display_data"
    }
   ],
   "source": [
    "(df\n",
    " .pivot_table(\n",
    "     index=df.day,\n",
    "    columns=df.member_casual, \n",
    "    aggfunc={'ride_length':'mean'})\n",
    ").plot(kind='bar')"
   ]
  },
  {
   "cell_type": "code",
   "execution_count": 70,
   "id": "891af1d2-aeea-4467-a4b2-2cef18663301",
   "metadata": {},
   "outputs": [],
   "source": [
    "daily_counts = (df\n",
    "                 .groupby([df.started_at.dt.isocalendar().week, df.day])\n",
    "                 .agg({'ride_id':'count'})\n",
    "                ).droplevel(0)"
   ]
  },
  {
   "cell_type": "code",
   "execution_count": 71,
   "id": "e8ede52c-8f09-46d9-9218-01f367c28bb4",
   "metadata": {},
   "outputs": [
    {
     "data": {
      "text/html": [
       "<div>\n",
       "<style scoped>\n",
       "    .dataframe tbody tr th:only-of-type {\n",
       "        vertical-align: middle;\n",
       "    }\n",
       "\n",
       "    .dataframe tbody tr th {\n",
       "        vertical-align: top;\n",
       "    }\n",
       "\n",
       "    .dataframe thead th {\n",
       "        text-align: right;\n",
       "    }\n",
       "</style>\n",
       "<table border=\"1\" class=\"dataframe\">\n",
       "  <thead>\n",
       "    <tr style=\"text-align: right;\">\n",
       "      <th></th>\n",
       "      <th>ride_id</th>\n",
       "    </tr>\n",
       "    <tr>\n",
       "      <th>day</th>\n",
       "      <th></th>\n",
       "    </tr>\n",
       "  </thead>\n",
       "  <tbody>\n",
       "    <tr>\n",
       "      <th>Monday</th>\n",
       "      <td>7795.584906</td>\n",
       "    </tr>\n",
       "    <tr>\n",
       "      <th>Tuesday</th>\n",
       "      <td>8002.641509</td>\n",
       "    </tr>\n",
       "    <tr>\n",
       "      <th>Wednesday</th>\n",
       "      <td>8636.792453</td>\n",
       "    </tr>\n",
       "    <tr>\n",
       "      <th>Thursday</th>\n",
       "      <td>8700.566038</td>\n",
       "    </tr>\n",
       "    <tr>\n",
       "      <th>Friday</th>\n",
       "      <td>9592.113208</td>\n",
       "    </tr>\n",
       "    <tr>\n",
       "      <th>Saturday</th>\n",
       "      <td>12274.509434</td>\n",
       "    </tr>\n",
       "    <tr>\n",
       "      <th>Sunday</th>\n",
       "      <td>9838.452830</td>\n",
       "    </tr>\n",
       "  </tbody>\n",
       "</table>\n",
       "</div>"
      ],
      "text/plain": [
       "                ride_id\n",
       "day                    \n",
       "Monday      7795.584906\n",
       "Tuesday     8002.641509\n",
       "Wednesday   8636.792453\n",
       "Thursday    8700.566038\n",
       "Friday      9592.113208\n",
       "Saturday   12274.509434\n",
       "Sunday      9838.452830"
      ]
     },
     "execution_count": 71,
     "metadata": {},
     "output_type": "execute_result"
    }
   ],
   "source": [
    "daily_counts.groupby('day').agg({'ride_id':'mean'})"
   ]
  },
  {
   "cell_type": "code",
   "execution_count": 72,
   "id": "49db08d5-723d-4880-8a16-874696421b23",
   "metadata": {},
   "outputs": [
    {
     "data": {
      "text/plain": [
       "<AxesSubplot:xlabel='day'>"
      ]
     },
     "execution_count": 72,
     "metadata": {},
     "output_type": "execute_result"
    },
    {
     "data": {
      "image/png": "[encoded data removed]",
      "text/plain": [
       "<Figure size 432x288 with 1 Axes>"
      ]
     },
     "metadata": {
      "needs_background": "light"
     },
     "output_type": "display_data"
    }
   ],
   "source": [
    "daily_counts.groupby('day').agg({'ride_id':'mean'}).plot(kind='bar')"
   ]
  },
  {
   "cell_type": "code",
   "execution_count": 73,
   "id": "c49ec435-116b-4329-9aa2-f1f1e3f51239",
   "metadata": {},
   "outputs": [],
   "source": [
    "daily_members = (df\n",
    "                 .groupby([df.started_at.dt.isocalendar().week, df.day, df.member_casual])\n",
    "                 .agg({'ride_id':'count'})\n",
    "                ).droplevel(0)                "
   ]
  },
  {
   "cell_type": "code",
   "execution_count": 74,
   "id": "bc90b01c-918e-4723-a8c9-06ef6a3b4616",
   "metadata": {},
   "outputs": [
    {
     "data": {
      "text/html": [
       "<div>\n",
       "<style scoped>\n",
       "    .dataframe tbody tr th:only-of-type {\n",
       "        vertical-align: middle;\n",
       "    }\n",
       "\n",
       "    .dataframe tbody tr th {\n",
       "        vertical-align: top;\n",
       "    }\n",
       "\n",
       "    .dataframe thead th {\n",
       "        text-align: right;\n",
       "    }\n",
       "</style>\n",
       "<table border=\"1\" class=\"dataframe\">\n",
       "  <thead>\n",
       "    <tr style=\"text-align: right;\">\n",
       "      <th>member_casual</th>\n",
       "      <th>casual</th>\n",
       "      <th>member</th>\n",
       "    </tr>\n",
       "    <tr>\n",
       "      <th>day</th>\n",
       "      <th></th>\n",
       "      <th></th>\n",
       "    </tr>\n",
       "  </thead>\n",
       "  <tbody>\n",
       "    <tr>\n",
       "      <th>Monday</th>\n",
       "      <td>2811.188679</td>\n",
       "      <td>4984.396226</td>\n",
       "    </tr>\n",
       "    <tr>\n",
       "      <th>Tuesday</th>\n",
       "      <td>2702.113208</td>\n",
       "      <td>5300.528302</td>\n",
       "    </tr>\n",
       "    <tr>\n",
       "      <th>Wednesday</th>\n",
       "      <td>2947.905660</td>\n",
       "      <td>5688.886792</td>\n",
       "    </tr>\n",
       "    <tr>\n",
       "      <th>Thursday</th>\n",
       "      <td>3096.018868</td>\n",
       "      <td>5604.547170</td>\n",
       "    </tr>\n",
       "    <tr>\n",
       "      <th>Friday</th>\n",
       "      <td>3881.207547</td>\n",
       "      <td>5710.905660</td>\n",
       "    </tr>\n",
       "    <tr>\n",
       "      <th>Saturday</th>\n",
       "      <td>6257.811321</td>\n",
       "      <td>6016.698113</td>\n",
       "    </tr>\n",
       "    <tr>\n",
       "      <th>Sunday</th>\n",
       "      <td>4896.735849</td>\n",
       "      <td>4941.716981</td>\n",
       "    </tr>\n",
       "  </tbody>\n",
       "</table>\n",
       "</div>"
      ],
      "text/plain": [
       "member_casual       casual       member\n",
       "day                                    \n",
       "Monday         2811.188679  4984.396226\n",
       "Tuesday        2702.113208  5300.528302\n",
       "Wednesday      2947.905660  5688.886792\n",
       "Thursday       3096.018868  5604.547170\n",
       "Friday         3881.207547  5710.905660\n",
       "Saturday       6257.811321  6016.698113\n",
       "Sunday         4896.735849  4941.716981"
      ]
     },
     "execution_count": 74,
     "metadata": {},
     "output_type": "execute_result"
    }
   ],
   "source": [
    "daily_members.pivot_table(\n",
    "    index='day',\n",
    "    columns='member_casual',\n",
    "    values='ride_id'\n",
    ")"
   ]
  },
  {
   "cell_type": "code",
   "execution_count": 75,
   "id": "ddcf512f-88b1-418a-987b-6418f6dba880",
   "metadata": {},
   "outputs": [
    {
     "data": {
      "text/plain": [
       "<AxesSubplot:xlabel='day'>"
      ]
     },
     "execution_count": 75,
     "metadata": {},
     "output_type": "execute_result"
    },
    {
     "data": {
      "image/png": "[encoded data removed]",
      "text/plain": [
       "<Figure size 432x288 with 1 Axes>"
      ]
     },
     "metadata": {
      "needs_background": "light"
     },
     "output_type": "display_data"
    }
   ],
   "source": [
    "daily_members.pivot_table(\n",
    "    index='day',\n",
    "    columns='member_casual',\n",
    "    values='ride_id'\n",
    ").plot(kind='bar')"
   ]
  },
  {
   "cell_type": "markdown",
   "id": "17e8b210-6b24-4510-8c26-dc24e9fedf27",
   "metadata": {},
   "source": [
    "# Most common stations:"
   ]
  },
  {
   "cell_type": "code",
   "execution_count": 76,
   "id": "5ec60a70-d312-4e77-a708-377428a1431f",
   "metadata": {},
   "outputs": [
    {
     "data": {
      "text/html": [
       "<div>\n",
       "<style scoped>\n",
       "    .dataframe tbody tr th:only-of-type {\n",
       "        vertical-align: middle;\n",
       "    }\n",
       "\n",
       "    .dataframe tbody tr th {\n",
       "        vertical-align: top;\n",
       "    }\n",
       "\n",
       "    .dataframe thead th {\n",
       "        text-align: right;\n",
       "    }\n",
       "</style>\n",
       "<table border=\"1\" class=\"dataframe\">\n",
       "  <thead>\n",
       "    <tr style=\"text-align: right;\">\n",
       "      <th></th>\n",
       "      <th>count</th>\n",
       "    </tr>\n",
       "    <tr>\n",
       "      <th>start_station_id</th>\n",
       "      <th></th>\n",
       "    </tr>\n",
       "  </thead>\n",
       "  <tbody>\n",
       "    <tr>\n",
       "      <th>35.0</th>\n",
       "      <td>27199</td>\n",
       "    </tr>\n",
       "    <tr>\n",
       "      <th>177.0</th>\n",
       "      <td>24660</td>\n",
       "    </tr>\n",
       "    <tr>\n",
       "      <th>76.0</th>\n",
       "      <td>23068</td>\n",
       "    </tr>\n",
       "    <tr>\n",
       "      <th>176.0</th>\n",
       "      <td>21196</td>\n",
       "    </tr>\n",
       "    <tr>\n",
       "      <th>268.0</th>\n",
       "      <td>20107</td>\n",
       "    </tr>\n",
       "  </tbody>\n",
       "</table>\n",
       "</div>"
      ],
      "text/plain": [
       "                  count\n",
       "start_station_id       \n",
       "35.0              27199\n",
       "177.0             24660\n",
       "76.0              23068\n",
       "176.0             21196\n",
       "268.0             20107"
      ]
     },
     "execution_count": 76,
     "metadata": {},
     "output_type": "execute_result"
    }
   ],
   "source": [
    "top_stations = df.groupby('start_station_id').agg(count=('start_station_id','count')).sort_values('count', ascending=False).head(10)\n",
    "top_stations.head()"
   ]
  },
  {
   "cell_type": "markdown",
   "id": "b8898ffa-55a8-4250-afa3-3b54ac21cd1d",
   "metadata": {},
   "source": [
    "### Create a station key to join with \"Most common station ID\" table"
   ]
  },
  {
   "cell_type": "code",
   "execution_count": 96,
   "id": "afe4ec82-af7c-4609-9d04-b68a237bf7d4",
   "metadata": {},
   "outputs": [
    {
     "name": "stdout",
     "output_type": "stream",
     "text": [
      "<class 'pandas.core.frame.DataFrame'>\n",
      "RangeIndex: 3436555 entries, 0 to 3436554\n",
      "Data columns (total 2 columns):\n",
      " #   Column              Dtype   \n",
      "---  ------              -----   \n",
      " 0   start_station_name  category\n",
      " 1   start_station_id    category\n",
      "dtypes: category(2)\n",
      "memory usage: 13.2 MB\n"
     ]
    }
   ],
   "source": [
    "station_key = pd.read_csv('raw_cyclistic.csv', usecols=['start_station_id', 'start_station_name'], dtype={'start_station_name':'category', 'start_station_id':'category'})\n",
    "\n",
    "station_key.info()"
   ]
  },
  {
   "cell_type": "code",
   "execution_count": 97,
   "id": "d6c003a6-a96c-4051-a884-8050f4fd63db",
   "metadata": {},
   "outputs": [],
   "source": [
    "station_key.columns = ['station', 'id']"
   ]
  },
  {
   "cell_type": "code",
   "execution_count": 98,
   "id": "683bf4f1-7073-47a1-bbdd-c438e7c5fc6e",
   "metadata": {},
   "outputs": [
    {
     "data": {
      "text/plain": [
       "3434654"
      ]
     },
     "execution_count": 98,
     "metadata": {},
     "output_type": "execute_result"
    }
   ],
   "source": [
    "station_key.duplicated().sum()"
   ]
  },
  {
   "cell_type": "code",
   "execution_count": 99,
   "id": "5d41bbf6-2720-4e02-ab5f-e381e0130e7a",
   "metadata": {},
   "outputs": [],
   "source": [
    "station_key = station_key.drop_duplicates()"
   ]
  },
  {
   "cell_type": "code",
   "execution_count": 100,
   "id": "13892c44-1056-4362-917d-48fc735bb5da",
   "metadata": {},
   "outputs": [
    {
     "data": {
      "text/plain": [
       "(1901, 2)"
      ]
     },
     "execution_count": 100,
     "metadata": {},
     "output_type": "execute_result"
    }
   ],
   "source": [
    "station_key.shape"
   ]
  },
  {
   "cell_type": "code",
   "execution_count": 101,
   "id": "fe052e14-c54f-4615-a7b1-b857e4403b40",
   "metadata": {},
   "outputs": [
    {
     "data": {
      "text/html": [
       "<div>\n",
       "<style scoped>\n",
       "    .dataframe tbody tr th:only-of-type {\n",
       "        vertical-align: middle;\n",
       "    }\n",
       "\n",
       "    .dataframe tbody tr th {\n",
       "        vertical-align: top;\n",
       "    }\n",
       "\n",
       "    .dataframe thead th {\n",
       "        text-align: right;\n",
       "    }\n",
       "</style>\n",
       "<table border=\"1\" class=\"dataframe\">\n",
       "  <thead>\n",
       "    <tr style=\"text-align: right;\">\n",
       "      <th></th>\n",
       "      <th>station</th>\n",
       "      <th>id</th>\n",
       "    </tr>\n",
       "  </thead>\n",
       "  <tbody>\n",
       "    <tr>\n",
       "      <th>0</th>\n",
       "      <td>California Ave &amp; Cortez St</td>\n",
       "      <td>17660</td>\n",
       "    </tr>\n",
       "    <tr>\n",
       "      <th>25</th>\n",
       "      <td>Halsted St &amp; North Branch St</td>\n",
       "      <td>KA1504000117</td>\n",
       "    </tr>\n",
       "    <tr>\n",
       "      <th>27</th>\n",
       "      <td>Glenwood Ave &amp; Touhy Ave</td>\n",
       "      <td>525</td>\n",
       "    </tr>\n",
       "    <tr>\n",
       "      <th>32</th>\n",
       "      <td>Michigan Ave &amp; 8th St</td>\n",
       "      <td>623</td>\n",
       "    </tr>\n",
       "    <tr>\n",
       "      <th>39</th>\n",
       "      <td>Shedd Aquarium</td>\n",
       "      <td>15544</td>\n",
       "    </tr>\n",
       "  </tbody>\n",
       "</table>\n",
       "</div>"
      ],
      "text/plain": [
       "                         station            id\n",
       "0     California Ave & Cortez St         17660\n",
       "25  Halsted St & North Branch St  KA1504000117\n",
       "27      Glenwood Ave & Touhy Ave           525\n",
       "32         Michigan Ave & 8th St           623\n",
       "39                Shedd Aquarium         15544"
      ]
     },
     "execution_count": 101,
     "metadata": {},
     "output_type": "execute_result"
    }
   ],
   "source": [
    "station_key.head()"
   ]
  },
  {
   "cell_type": "markdown",
   "id": "d5a0790e-1dd6-40db-ba4e-4046a3b6d062",
   "metadata": {},
   "source": [
    "## Top Stations:"
   ]
  },
  {
   "cell_type": "code",
   "execution_count": 103,
   "id": "45bab777-7cfb-470f-8966-42b755fec40a",
   "metadata": {},
   "outputs": [
    {
     "data": {
      "text/html": [
       "<div>\n",
       "<style scoped>\n",
       "    .dataframe tbody tr th:only-of-type {\n",
       "        vertical-align: middle;\n",
       "    }\n",
       "\n",
       "    .dataframe tbody tr th {\n",
       "        vertical-align: top;\n",
       "    }\n",
       "\n",
       "    .dataframe thead th {\n",
       "        text-align: right;\n",
       "    }\n",
       "</style>\n",
       "<table border=\"1\" class=\"dataframe\">\n",
       "  <thead>\n",
       "    <tr style=\"text-align: right;\">\n",
       "      <th></th>\n",
       "      <th>station</th>\n",
       "      <th>id</th>\n",
       "      <th>count</th>\n",
       "    </tr>\n",
       "  </thead>\n",
       "  <tbody>\n",
       "    <tr>\n",
       "      <th>0</th>\n",
       "      <td>Streeter Dr &amp; Grand Ave</td>\n",
       "      <td>35.0</td>\n",
       "      <td>27199</td>\n",
       "    </tr>\n",
       "    <tr>\n",
       "      <th>1</th>\n",
       "      <td>Theater on the Lake</td>\n",
       "      <td>177.0</td>\n",
       "      <td>24660</td>\n",
       "    </tr>\n",
       "    <tr>\n",
       "      <th>2</th>\n",
       "      <td>Lake Shore Dr &amp; Monroe St</td>\n",
       "      <td>76.0</td>\n",
       "      <td>23068</td>\n",
       "    </tr>\n",
       "    <tr>\n",
       "      <th>3</th>\n",
       "      <td>Clark St &amp; Elm St</td>\n",
       "      <td>176.0</td>\n",
       "      <td>21196</td>\n",
       "    </tr>\n",
       "    <tr>\n",
       "      <th>4</th>\n",
       "      <td>Lake Shore Dr &amp; North Blvd</td>\n",
       "      <td>268.0</td>\n",
       "      <td>20107</td>\n",
       "    </tr>\n",
       "    <tr>\n",
       "      <th>5</th>\n",
       "      <td>Millennium Park</td>\n",
       "      <td>90.0</td>\n",
       "      <td>17699</td>\n",
       "    </tr>\n",
       "    <tr>\n",
       "      <th>6</th>\n",
       "      <td>Wells St &amp; Concord Ln</td>\n",
       "      <td>289.0</td>\n",
       "      <td>17089</td>\n",
       "    </tr>\n",
       "    <tr>\n",
       "      <th>7</th>\n",
       "      <td>Michigan Ave &amp; Oak St</td>\n",
       "      <td>85.0</td>\n",
       "      <td>16781</td>\n",
       "    </tr>\n",
       "    <tr>\n",
       "      <th>8</th>\n",
       "      <td>Indiana Ave &amp; Roosevelt Rd</td>\n",
       "      <td>255.0</td>\n",
       "      <td>16444</td>\n",
       "    </tr>\n",
       "    <tr>\n",
       "      <th>9</th>\n",
       "      <td>Clark St &amp; Armitage Ave</td>\n",
       "      <td>94.0</td>\n",
       "      <td>16424</td>\n",
       "    </tr>\n",
       "  </tbody>\n",
       "</table>\n",
       "</div>"
      ],
      "text/plain": [
       "                      station     id  count\n",
       "0     Streeter Dr & Grand Ave   35.0  27199\n",
       "1         Theater on the Lake  177.0  24660\n",
       "2   Lake Shore Dr & Monroe St   76.0  23068\n",
       "3           Clark St & Elm St  176.0  21196\n",
       "4  Lake Shore Dr & North Blvd  268.0  20107\n",
       "5             Millennium Park   90.0  17699\n",
       "6       Wells St & Concord Ln  289.0  17089\n",
       "7       Michigan Ave & Oak St   85.0  16781\n",
       "8  Indiana Ave & Roosevelt Rd  255.0  16444\n",
       "9     Clark St & Armitage Ave   94.0  16424"
      ]
     },
     "execution_count": 103,
     "metadata": {},
     "output_type": "execute_result"
    }
   ],
   "source": [
    "# join station id's with station names from the station_key table to get the actual station names\n",
    "\n",
    "top_stations.merge(\n",
    "    station_key,\n",
    "    how='left',\n",
    "    left_on='start_station_id',\n",
    "    right_on='id'\n",
    ").loc[:,['station','id','count']]"
   ]
  }
 ],
 "metadata": {
  "kernelspec": {
   "display_name": "Python 3 (ipykernel)",
   "language": "python",
   "name": "python3"
  },
  "language_info": {
   "codemirror_mode": {
    "name": "ipython",
    "version": 3
   },
   "file_extension": ".py",
   "mimetype": "text/x-python",
   "name": "python",
   "nbconvert_exporter": "python",
   "pygments_lexer": "ipython3",
   "version": "3.9.12"
  }
 },
 "nbformat": 4,
 "nbformat_minor": 5
}
