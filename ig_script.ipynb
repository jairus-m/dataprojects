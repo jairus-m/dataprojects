{
 "cells": [
  {
   "cell_type": "markdown",
   "id": "46df2feb-bfae-44f6-964f-8ae321c2e736",
   "metadata": {},
   "source": [
    "# Familes in Schools\n",
    "IG Insights Script Goals:\n",
    "- import data\n",
    "- extract useful data\n",
    "- format a new df\n",
    "- export cleaned df to append to Google Sheets "
   ]
  },
  {
   "cell_type": "code",
   "execution_count": 1,
   "id": "5f16b4ba-b913-4dc4-841b-c8b993b14ffd",
   "metadata": {},
   "outputs": [],
   "source": [
    "import pandas as pd\n",
    "import numpy as np"
   ]
  },
  {
   "cell_type": "markdown",
   "id": "03ac3e31-26e1-466c-b5e6-77bd689ac281",
   "metadata": {},
   "source": [
    "# Import Data"
   ]
  },
  {
   "cell_type": "code",
   "execution_count": 2,
   "id": "0fcfa327-0350-4218-997d-6840699871d7",
   "metadata": {},
   "outputs": [
    {
     "data": {
      "text/html": [
       "<div>\n",
       "<style scoped>\n",
       "    .dataframe tbody tr th:only-of-type {\n",
       "        vertical-align: middle;\n",
       "    }\n",
       "\n",
       "    .dataframe tbody tr th {\n",
       "        vertical-align: top;\n",
       "    }\n",
       "\n",
       "    .dataframe thead th {\n",
       "        text-align: right;\n",
       "    }\n",
       "</style>\n",
       "<table border=\"1\" class=\"dataframe\">\n",
       "  <thead>\n",
       "    <tr style=\"text-align: right;\">\n",
       "      <th></th>\n",
       "      <th>Content</th>\n",
       "      <th>Unnamed: 1</th>\n",
       "      <th>Unnamed: 2</th>\n",
       "      <th>Unnamed: 3</th>\n",
       "      <th>Unnamed: 4</th>\n",
       "      <th>Unnamed: 5</th>\n",
       "      <th>Unnamed: 6</th>\n",
       "      <th>Unnamed: 7</th>\n",
       "      <th>Unnamed: 8</th>\n",
       "      <th>Unnamed: 9</th>\n",
       "      <th>Unnamed: 10</th>\n",
       "      <th>Unnamed: 11</th>\n",
       "    </tr>\n",
       "  </thead>\n",
       "  <tbody>\n",
       "    <tr>\n",
       "      <th>0</th>\n",
       "      <td>Caption</td>\n",
       "      <td>Post time</td>\n",
       "      <td>Content type</td>\n",
       "      <td>Reach</td>\n",
       "      <td>Likes and reactions</td>\n",
       "      <td>Sticker taps</td>\n",
       "      <td>Replies</td>\n",
       "      <td>Link clicks</td>\n",
       "      <td>Comments</td>\n",
       "      <td>Shares</td>\n",
       "      <td>Results</td>\n",
       "      <td>Cost per result</td>\n",
       "    </tr>\n",
       "    <tr>\n",
       "      <th>1</th>\n",
       "      <td>A Tale of Two (Internet) Cities: @Calfund case...</td>\n",
       "      <td>2022-10-25T17:00:57</td>\n",
       "      <td>Instagram post</td>\n",
       "      <td>92</td>\n",
       "      <td>10</td>\n",
       "      <td>NaN</td>\n",
       "      <td>NaN</td>\n",
       "      <td>NaN</td>\n",
       "      <td>0</td>\n",
       "      <td>0</td>\n",
       "      <td>NaN</td>\n",
       "      <td>NaN</td>\n",
       "    </tr>\n",
       "    <tr>\n",
       "      <th>2</th>\n",
       "      <td>A Tale of Two (Internet) Cities: California Co...</td>\n",
       "      <td>2022-10-25T17:00:18</td>\n",
       "      <td>Facebook post</td>\n",
       "      <td>40</td>\n",
       "      <td>0</td>\n",
       "      <td>NaN</td>\n",
       "      <td>NaN</td>\n",
       "      <td>NaN</td>\n",
       "      <td>0</td>\n",
       "      <td>0</td>\n",
       "      <td>NaN</td>\n",
       "      <td>NaN</td>\n",
       "    </tr>\n",
       "    <tr>\n",
       "      <th>3</th>\n",
       "      <td>Are you a dynamic leader who is passionate abo...</td>\n",
       "      <td>2022-10-21T15:00:41</td>\n",
       "      <td>Instagram post</td>\n",
       "      <td>102</td>\n",
       "      <td>8</td>\n",
       "      <td>NaN</td>\n",
       "      <td>NaN</td>\n",
       "      <td>NaN</td>\n",
       "      <td>0</td>\n",
       "      <td>2</td>\n",
       "      <td>NaN</td>\n",
       "      <td>NaN</td>\n",
       "    </tr>\n",
       "    <tr>\n",
       "      <th>4</th>\n",
       "      <td>Are you a dynamic leader who is passionate abo...</td>\n",
       "      <td>2022-10-21T15:00:19</td>\n",
       "      <td>Facebook post</td>\n",
       "      <td>45</td>\n",
       "      <td>1</td>\n",
       "      <td>NaN</td>\n",
       "      <td>NaN</td>\n",
       "      <td>5</td>\n",
       "      <td>0</td>\n",
       "      <td>0</td>\n",
       "      <td>NaN</td>\n",
       "      <td>NaN</td>\n",
       "    </tr>\n",
       "  </tbody>\n",
       "</table>\n",
       "</div>"
      ],
      "text/plain": [
       "                                             Content           Unnamed: 1  \\\n",
       "0                                            Caption            Post time   \n",
       "1  A Tale of Two (Internet) Cities: @Calfund case...  2022-10-25T17:00:57   \n",
       "2  A Tale of Two (Internet) Cities: California Co...  2022-10-25T17:00:18   \n",
       "3  Are you a dynamic leader who is passionate abo...  2022-10-21T15:00:41   \n",
       "4  Are you a dynamic leader who is passionate abo...  2022-10-21T15:00:19   \n",
       "\n",
       "       Unnamed: 2 Unnamed: 3           Unnamed: 4    Unnamed: 5 Unnamed: 6  \\\n",
       "0    Content type      Reach  Likes and reactions  Sticker taps    Replies   \n",
       "1  Instagram post         92                   10           NaN        NaN   \n",
       "2   Facebook post         40                    0           NaN        NaN   \n",
       "3  Instagram post        102                    8           NaN        NaN   \n",
       "4   Facebook post         45                    1           NaN        NaN   \n",
       "\n",
       "    Unnamed: 7 Unnamed: 8 Unnamed: 9 Unnamed: 10      Unnamed: 11  \n",
       "0  Link clicks   Comments     Shares     Results  Cost per result  \n",
       "1          NaN          0          0         NaN              NaN  \n",
       "2          NaN          0          0         NaN              NaN  \n",
       "3          NaN          0          2         NaN              NaN  \n",
       "4            5          0          0         NaN              NaN  "
      ]
     },
     "execution_count": 2,
     "metadata": {},
     "output_type": "execute_result"
    }
   ],
   "source": [
    "df = pd.read_csv('ig_insights_data.csv')\n",
    "df.head()"
   ]
  },
  {
   "cell_type": "markdown",
   "id": "c1a46eeb-02f7-4efd-8087-895407e8166d",
   "metadata": {},
   "source": [
    "# Clean Up Columns"
   ]
  },
  {
   "cell_type": "code",
   "execution_count": 3,
   "id": "43c243de-7216-4019-8fba-38fbcfb056ba",
   "metadata": {},
   "outputs": [],
   "source": [
    "# set 0 index as the column headers\n",
    "df.columns = list(df.iloc[0])"
   ]
  },
  {
   "cell_type": "code",
   "execution_count": 4,
   "id": "2967e02f-f256-426e-ad1a-db3d1500131a",
   "metadata": {},
   "outputs": [],
   "source": [
    "# drop 0 index and reset index\n",
    "df = df.drop(index=0, axis=0).reset_index()"
   ]
  },
  {
   "cell_type": "code",
   "execution_count": 5,
   "id": "9f122b0c-21b3-4983-a952-837dc88796c1",
   "metadata": {},
   "outputs": [],
   "source": [
    "# drop uneeded columns\n",
    "df = df.drop(columns=['index','Sticker taps', 'Replies', 'Link clicks', 'Results', 'Cost per result'])"
   ]
  },
  {
   "cell_type": "code",
   "execution_count": 6,
   "id": "f3b55d2a-7b6a-44ea-be16-148bb90677d6",
   "metadata": {},
   "outputs": [],
   "source": [
    "# rename columns\n",
    "df = df.rename(columns={'Post time': 'Post Date', 'Likes and reactions': 'Likes'})"
   ]
  },
  {
   "cell_type": "markdown",
   "id": "0d596edb-e684-4198-89dd-cabc263cc876",
   "metadata": {},
   "source": [
    "# Set datetime64 dtype"
   ]
  },
  {
   "cell_type": "code",
   "execution_count": 7,
   "id": "6d81b069-77c9-4300-a045-38150af246ea",
   "metadata": {},
   "outputs": [
    {
     "data": {
      "text/plain": [
       "0     05:00 PM\n",
       "1     05:00 PM\n",
       "2     03:00 PM\n",
       "3     03:00 PM\n",
       "4     01:17 PM\n",
       "5     11:59 AM\n",
       "6     02:37 PM\n",
       "7     02:37 PM\n",
       "8     03:01 PM\n",
       "9     03:00 PM\n",
       "10    11:44 AM\n",
       "11    04:30 PM\n",
       "12    04:30 PM\n",
       "13    11:45 AM\n",
       "14    11:45 AM\n",
       "15    11:45 AM\n",
       "16    04:30 PM\n",
       "17    04:30 PM\n",
       "18    11:01 AM\n",
       "19    12:45 PM\n",
       "20    12:45 PM\n",
       "21    06:00 PM\n",
       "22    05:45 PM\n",
       "23    12:00 PM\n",
       "24    11:45 AM\n",
       "25    12:22 PM\n",
       "26    12:21 PM\n",
       "27    04:56 PM\n",
       "28    05:15 PM\n",
       "29    05:00 PM\n",
       "30    09:01 AM\n",
       "31    09:01 AM\n",
       "32         NaN\n",
       "33         NaN\n",
       "34    05:31 PM\n",
       "35         NaN\n",
       "36         NaN\n",
       "37    05:28 PM\n",
       "38    01:05 PM\n",
       "39    01:05 PM\n",
       "40    04:00 PM\n",
       "41    04:00 PM\n",
       "42    11:45 AM\n",
       "43    11:45 AM\n",
       "44    05:00 PM\n",
       "45    05:00 PM\n",
       "46    10:20 AM\n",
       "47    10:20 AM\n",
       "Name: Post Date, dtype: object"
      ]
     },
     "execution_count": 7,
     "metadata": {},
     "output_type": "execute_result"
    }
   ],
   "source": [
    "# set Post Date to datetime64\n",
    "df['Post Date'].astype('datetime64').dt.strftime('%I:%M %p')"
   ]
  },
  {
   "cell_type": "markdown",
   "id": "2bb50c7f-9364-49c4-8f9a-cd0ad3a63172",
   "metadata": {},
   "source": [
    "# Filter data "
   ]
  },
  {
   "cell_type": "code",
   "execution_count": 8,
   "id": "ac15201e-03f8-4133-a5a0-21a8ea697cbf",
   "metadata": {},
   "outputs": [],
   "source": [
    "# filter for IG posts only\n",
    "\n",
    "df = df.loc[df['Content type'] == 'Instagram post'].reset_index()"
   ]
  },
  {
   "cell_type": "markdown",
   "id": "cd1db0d1-e910-47d5-9f06-7789730fd77b",
   "metadata": {},
   "source": [
    "# Create New Calculated Columns and Format"
   ]
  },
  {
   "cell_type": "code",
   "execution_count": 9,
   "id": "a467f642-d8da-4bae-8210-67659460df84",
   "metadata": {},
   "outputs": [],
   "source": [
    "# create some columns\n",
    "df = df.assign(\n",
    "    time=df['Post Date'].astype('datetime64').dt.strftime('%I:%M %p'),\n",
    "    tot_eng=df['Likes'] + df['Comments'] + df['Shares'],\n",
    "    eng_rate=lambda x: (x['tot_eng'] / df['Reach'] * 100).astype('float64').round(1)\n",
    ")"
   ]
  },
  {
   "cell_type": "code",
   "execution_count": 10,
   "id": "fac21f2a-585d-48a0-a86d-39b7e9b8c128",
   "metadata": {},
   "outputs": [],
   "source": [
    "# rename column names to match google sheets\n",
    "df = df.rename(columns={'time': 'Post Time', 'tot_eng': 'Total Engagement', 'eng_rate': 'Engagement Rate'})"
   ]
  },
  {
   "cell_type": "code",
   "execution_count": 11,
   "id": "597e3022-b917-4655-bcce-952cecdd5a34",
   "metadata": {},
   "outputs": [],
   "source": [
    "df = df.loc[:,['Caption', 'Post Date', 'Post Time', 'Content type', 'Reach', 'Likes', 'Comments',\n",
    "       'Shares', 'Total Engagement', 'Engagement Rate']]"
   ]
  },
  {
   "cell_type": "markdown",
   "id": "36854846-bd56-4c69-946d-47f8c86ac2c1",
   "metadata": {},
   "source": [
    "# Export Data"
   ]
  },
  {
   "cell_type": "code",
   "execution_count": 12,
   "id": "83c03bf9-c33c-44f5-8398-afebc71c6192",
   "metadata": {},
   "outputs": [],
   "source": [
    "df.to_excel('ig_toCopy.xlsx', index=False)"
   ]
  }
 ],
 "metadata": {
  "kernelspec": {
   "display_name": "Python 3 (ipykernel)",
   "language": "python",
   "name": "python3"
  },
  "language_info": {
   "codemirror_mode": {
    "name": "ipython",
    "version": 3
   },
   "file_extension": ".py",
   "mimetype": "text/x-python",
   "name": "python",
   "nbconvert_exporter": "python",
   "pygments_lexer": "ipython3",
   "version": "3.9.12"
  }
 },
 "nbformat": 4,
 "nbformat_minor": 5
}
