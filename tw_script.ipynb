{
 "cells": [
  {
   "cell_type": "markdown",
   "id": "69581839-bf2e-4d97-8013-1e54f886dd94",
   "metadata": {},
   "source": [
    "# Objectives\n",
    "\n",
    "- import data\n",
    "- retrieve relevant columns\n",
    "- format data\n"
   ]
  },
  {
   "cell_type": "code",
   "execution_count": 1,
   "id": "cd6e2f13-7567-4d86-a689-4f4259f1a48e",
   "metadata": {},
   "outputs": [],
   "source": [
    "import pandas as pd\n",
    "import numpy as np"
   ]
  },
  {
   "cell_type": "code",
   "execution_count": null,
   "id": "5461fb74-995f-4eb8-8281-df880590f9b0",
   "metadata": {},
   "outputs": [],
   "source": [
    "df = pd.read_csv('twitter_insights_data.csv')"
   ]
  },
  {
   "cell_type": "code",
   "execution_count": 3,
   "id": "70c6a19f-7d1c-425c-a20e-e8e16927a4fa",
   "metadata": {},
   "outputs": [],
   "source": [
    "# make all column names in title caps\n",
    "df.columns = [str(col).title() for col in df.columns]"
   ]
  },
  {
   "cell_type": "code",
   "execution_count": 4,
   "id": "0b63dd64-c92d-45ad-b6dd-a4fd015c2460",
   "metadata": {},
   "outputs": [],
   "source": [
    "# filter to be used to retrieve relevant data\n",
    "mask = list(range(0,14)) + list(range(20,22))"
   ]
  },
  {
   "cell_type": "code",
   "execution_count": 5,
   "id": "d75d9bbf-9ef7-4bc5-aad6-26081d586d5f",
   "metadata": {},
   "outputs": [],
   "source": [
    "df = df.iloc[:, mask]"
   ]
  },
  {
   "cell_type": "code",
   "execution_count": 6,
   "id": "dcbfefe6-10d6-410b-9a7f-4d255aadee64",
   "metadata": {},
   "outputs": [],
   "source": [
    "# export\n",
    "df.to_excel('tw_toCopy.xlsx', index=False)"
   ]
  }
 ],
 "metadata": {
  "kernelspec": {
   "display_name": "Python 3 (ipykernel)",
   "language": "python",
   "name": "python3"
  },
  "language_info": {
   "codemirror_mode": {
    "name": "ipython",
    "version": 3
   },
   "file_extension": ".py",
   "mimetype": "text/x-python",
   "name": "python",
   "nbconvert_exporter": "python",
   "pygments_lexer": "ipython3",
   "version": "3.9.12"
  }
 },
 "nbformat": 4,
 "nbformat_minor": 5
}
