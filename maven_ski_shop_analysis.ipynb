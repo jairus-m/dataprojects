{
 "cells": [
  {
   "cell_type": "markdown",
   "id": "2d7d830c",
   "metadata": {},
   "source": [
    "# Final Project: Black Friday Excel Data"
   ]
  },
  {
   "cell_type": "code",
   "execution_count": null,
   "id": "59343dde",
   "metadata": {},
   "outputs": [],
   "source": [
    "import openpyxl as xl\n",
    "\n",
    "# pprint prints dictionaries a bit more nicely than print\n",
    "from pprint import pprint"
   ]
  },
  {
   "cell_type": "markdown",
   "id": "b323bd31",
   "metadata": {},
   "source": [
    "## Part 1\n",
    "\n",
    "First, read in maven_ski_shop_data.xlsx\n",
    "\n",
    "Then, assign the orders worksheet to an intuitive variable name. "
   ]
  },
  {
   "cell_type": "code",
   "execution_count": null,
   "id": "d4407995",
   "metadata": {},
   "outputs": [],
   "source": [
    "# import the excel data \n",
    "shop_data = xl.load_workbook('maven_ski_shop_data.xlsx')\n",
    "\n",
    "# check sheet names \n",
    "shop_data.sheetnames\n",
    "\n",
    "orders = shop_data['Orders_Info']"
   ]
  },
  {
   "cell_type": "markdown",
   "id": "0fdff76c",
   "metadata": {},
   "source": [
    "### Column Printer Function\n",
    "\n",
    "Since we'll be working with Excel frequently, let's create a helper function to print all the rows a specified column.\n",
    "\n",
    "This will help us view imported data without looking at Excel, and review the data we've written into columns without needing to save a file to review the changes.\n",
    "\n",
    "Your function should take two arguments:\n",
    "\n",
    "* Worksheet where data is located\n",
    "* Column Letter of data to print\n",
    "\n",
    "Your function should:\n",
    "\n",
    "* Print Cell Coordinate (e.g. A1, D4).\n",
    "* Print the contents of the cell.\n",
    "\n",
    "Then call your function twice:\n",
    "\n",
    "* Once to print Order ID (column A in 'Orders_Info')\n",
    "* Once to print subtotal (column D in 'Orders_Info')"
   ]
  },
  {
   "cell_type": "code",
   "execution_count": null,
   "id": "ed27a6ca-f593-4e2c-a4d4-2ac8addac1fc",
   "metadata": {},
   "outputs": [],
   "source": [
    "# preview the printing of column\n",
    "for row in range(1, orders.max_row +1):\n",
    "        print(orders['A' + f'{row}'].value)"
   ]
  },
  {
   "cell_type": "code",
   "execution_count": null,
   "id": "239d64b3",
   "metadata": {},
   "outputs": [],
   "source": [
    "# creating the column printer funciton \n",
    "def column_printer(sheet, column):\n",
    "    for row in range(1, sheet.max_row +1):\n",
    "        print(f'{column}{row}', sheet[column + f'{row}'].value)"
   ]
  },
  {
   "cell_type": "code",
   "execution_count": null,
   "id": "90b52fc9-9315-47f7-b303-cae51d894b78",
   "metadata": {},
   "outputs": [],
   "source": [
    "column_printer(orders, 'A')"
   ]
  },
  {
   "cell_type": "markdown",
   "id": "b4b6d8ea",
   "metadata": {},
   "source": [
    "### Order Data Dictionary\n",
    "\n",
    "Create a dictionary with all of the information contained in the 'Orders_Info' Worksheet.\n",
    "\n",
    "* The dictionary keys should be Order IDs (Column A)\n",
    "* The values should a list storing the data in the rest of the columns.\n",
    "* The columns in the list stored as values should be B, C, D, G, and H (after converting to list). \n",
    "* For example: The first order, column H should be the nested list: [10001, 10002]\n",
    "\n",
    "\n",
    "A few notes:\n",
    "\n",
    "* Convert the Items_Ordered field into a list (we covered a helpful string method for this)\n",
    "* This can be done with a dictionary comprehension\n",
    "* DO NOT INCLUDE EXCEL COLUMN HEADERS"
   ]
  },
  {
   "cell_type": "code",
   "execution_count": null,
   "id": "9932d43c-9b0e-4f4a-8b70-37d0b5a3ca2f",
   "metadata": {},
   "outputs": [],
   "source": [
    "# create a function that can create a list from the columns\n",
    "def column_list(sheet, column):\n",
    "    list = []\n",
    "    for row in range(2, sheet.max_row +1):\n",
    "        list.append(sheet[column + f'{row}'].value)\n",
    "    return list"
   ]
  },
  {
   "cell_type": "code",
   "execution_count": null,
   "id": "5b2e2088-f13d-48dd-8ee2-40b22656576e",
   "metadata": {},
   "outputs": [],
   "source": [
    "# create lists so that we can create the dictionaries \n",
    "order_ids = column_list(orders, 'A')\n",
    "customer_ids = column_list(orders, 'B')\n",
    "order_dates = column_list(orders, 'C')\n",
    "subtotals = column_list(orders, 'D')\n",
    "locations = column_list(orders, 'G')\n",
    "items_ordered_wrong = column_list(orders, 'H')"
   ]
  },
  {
   "cell_type": "code",
   "execution_count": null,
   "id": "268d8003-eab4-4f16-986a-bd77e3d93a5c",
   "metadata": {},
   "outputs": [],
   "source": [
    "items_ordered = []\n",
    "for items in items_ordered_wrong:\n",
    "    items_ordered.append(str(items).split(', '))\n",
    "items_ordered"
   ]
  },
  {
   "cell_type": "code",
   "execution_count": null,
   "id": "ff2c5898-211a-4069-a778-b9ff90d82924",
   "metadata": {},
   "outputs": [],
   "source": [
    "order_dict = {\n",
    "    order_ids: {'id': customer_ids, 'date': order_dates, 'subtotal': subtotals, 'location': locations, 'items_ordered': items_ordered}\n",
    "    for order_ids, customer_ids, order_dates, subtotals, locations, items_ordered in zip(\n",
    "    order_ids, customer_ids, order_dates, subtotals, locations, items_ordered\n",
    "    )\n",
    "}\n",
    "\n",
    "pprint(order_dict)\n"
   ]
  },
  {
   "cell_type": "code",
   "execution_count": null,
   "id": "b7a4087b-12ab-412a-b00d-983f073aee8e",
   "metadata": {},
   "outputs": [],
   "source": [
    "order_dict_maven = {\n",
    "    orders[f'A{order}'].value:[\n",
    "        orders[f'B{order}'].value,\n",
    "        orders[f'C{order}'].value,\n",
    "        orders[f'D{order}'].value,\n",
    "        orders[f'G{order}'].value,\n",
    "        orders[f'H{order}'].value\n",
    "        ]\n",
    "        for order in range(2, orders.max_row + 1)\n",
    "}"
   ]
  },
  {
   "cell_type": "code",
   "execution_count": null,
   "id": "ae6db506-1afb-4362-8ce9-972f65a4b590",
   "metadata": {},
   "outputs": [],
   "source": [
    "order_dict_maven = {\n",
    "    orders[f'A{order}'].value:[\n",
    "        orders[f'B{order}'].value,\n",
    "        orders[f'C{order}'].value,\n",
    "        orders[f'D{order}'].value,\n",
    "        orders[f'G{order}'].value,\n",
    "        str(orders[f'H{order}'].value).split(', ')\n",
    "        ]\n",
    "        for order in range(2, orders.max_row + 1)\n",
    "}"
   ]
  },
  {
   "cell_type": "code",
   "execution_count": 66,
   "id": "7969a11f-bc4f-4ef3-904f-05c6b75a7758",
   "metadata": {},
   "outputs": [
    {
     "name": "stdout",
     "output_type": "stream",
     "text": [
      "{100000: ['C00004', '11/26/2021', 15.98, 'Sun Valley', ['10001', '10002']],\n",
      " 100001: ['C00007', '11/26/2021', 899.97, 'Stowe', ['10008', '10009', '10010']],\n",
      " 100002: ['C00015',\n",
      "          '11/26/2021',\n",
      "          799.97,\n",
      "          'Mammoth',\n",
      "          ['10011', '10012', '10013']],\n",
      " 100003: ['C00016',\n",
      "          '11/26/2021',\n",
      "          117.96,\n",
      "          'Stowe',\n",
      "          ['10002', '10003', '10004', '10006']],\n",
      " 100004: ['C00020', '11/26/2021', 5.99, 'Sun Valley', ['10001']],\n",
      " 100005: ['C00010', '11/26/2021', 599.99, 'Mammoth', ['10010']],\n",
      " 100006: ['C00006', '11/26/2021', 24.99, 'Mammoth', ['10004']],\n",
      " 100007: ['C00001',\n",
      "          '11/26/2021',\n",
      "          1799.94,\n",
      "          'Mammoth',\n",
      "          ['10008', '10008', '10009', '10009', '10009', '10010', '10010']],\n",
      " 100008: ['C00003', '11/26/2021', 99.99, 'Sun Valley', ['10005']],\n",
      " 100009: ['C00014',\n",
      "          '11/26/2021',\n",
      "          254.95,\n",
      "          'Sun Valley',\n",
      "          ['10002', '10003', '10004', '10006', '10007']],\n",
      " 100010: ['C00001', '11/26/2021', 29.98, 'Mammoth', ['10002', '10003']],\n",
      " 100011: ['C00001', '11/26/2021', 99.99, 'Mammoth', ['10005']],\n",
      " 100012: ['C00005', '11/26/2021', 25.98, 'Sun Valley', ['10001', '10003']],\n",
      " 100013: ['C00008', '11/26/2021', 649.98, 'Stowe', ['10012', '10013']],\n",
      " 100014: ['C00013', '11/26/2021', 89.99, 'Sun Valley', ['10014']],\n",
      " 100020: ['C00004', '11/27/2021', 119.99, 'Sun Valley', ['10007']],\n",
      " 100021: ['C00017', '11/27/2021', 599.99, 'Stowe', ['10010']],\n",
      " 100022: ['C00019', '11/27/2021', 649.98, 'Sun Valley', ['10012', '10013']],\n",
      " 100023: ['C00002', '11/27/2021', 24.99, 'Stowe', ['10004']],\n",
      " 100024: ['C00008', '11/27/2021', 99.99, 'Stowe', ['10005']],\n",
      " 100025: ['C00021', '11/27/2021', 99.99, 'Mammoth', ['10008']],\n",
      " 100026: ['C00022', '11/27/2021', 5.99, 'Sun Valley', ['10001']],\n",
      " 100027: ['C00006', '11/28/2021', 24.99, 'Mammoth', ['10002']],\n",
      " 100031: ['C00018',\n",
      "          '11/28/2021',\n",
      "          999.96,\n",
      "          'Stowe',\n",
      "          ['10005', '10008', '10009', '10010']],\n",
      " 100032: ['C00018', '11/28/2021', 99.99, 'Stowe', ['10006']],\n",
      " 100033: ['C00010',\n",
      "          '11/28/2021',\n",
      "          399.97,\n",
      "          'Mammoth',\n",
      "          ['10005', '10008', '10009']],\n",
      " 100034: ['C00016', '11/28/2021', 89.99, 'Stowe', ['10014']]}\n"
     ]
    }
   ],
   "source": [
    "pprint(order_dict_maven)"
   ]
  },
  {
   "cell_type": "markdown",
   "id": "0a01af28",
   "metadata": {},
   "source": [
    "### Sales Tax Calculation (Last time!)\n",
    "\n",
    "We need to calculate the sales tax and total amount owed for every order in this sheet.\n",
    "\n",
    "* If location is Sun Valley, apply a sales tax of 8%\n",
    "* If location is Mammoth, apply a sales tax of 7.75%.\n",
    "* If location is Stowe, apply a sales tax of 6%\n",
    "\n",
    "Use the tax_calculator function to apply sales tax to each subtotal.\n",
    "\n",
    "**Insert** the calculated sales tax and total amounts into your customer dictionary immediately after subtotal.\n",
    "\n",
    "**Tip**: Figure out how to do this once and then loop through the column."
   ]
  },
  {
   "cell_type": "code",
   "execution_count": null,
   "id": "dfb8a623-2c2a-4a90-af4e-e448af2a19d0",
   "metadata": {},
   "outputs": [],
   "source": [
    "import tax_calculator as tx"
   ]
  },
  {
   "cell_type": "code",
   "execution_count": 79,
   "id": "4e1c1e6a",
   "metadata": {},
   "outputs": [
    {
     "name": "stdout",
     "output_type": "stream",
     "text": [
      "15.98 in Sun Valley has a tax of 8%\n",
      "5.99 in Sun Valley has a tax of 8%\n",
      "99.99 in Sun Valley has a tax of 8%\n",
      "254.95 in Sun Valley has a tax of 8%\n",
      "25.98 in Sun Valley has a tax of 8%\n",
      "89.99 in Sun Valley has a tax of 8%\n",
      "119.99 in Sun Valley has a tax of 8%\n",
      "649.98 in Sun Valley has a tax of 8%\n",
      "5.99 in Sun Valley has a tax of 8%\n"
     ]
    }
   ],
   "source": [
    "# figure out how to iterate through the dictionary (unpack)\n",
    "for order in order_dict.values():\n",
    "    if order['location'] == 'Sun Valley':\n",
    "        print(str(order['subtotal'])+ ' in ' + str(order['location']) + ' has a tax of 8%')\n",
    "    elif order['location'] == 'Mammoth':\n",
    "        print(str(order['subtotal'])+ ' in ' + str(order['location']) +  ' has a tax of 7.75%')\n",
    "    elif order['location'] == 'Stowe':\n",
    "         print(str(order['subtotal'])+ ' in ' + str(order['location']) +  ' has a tax of 6%')"
   ]
  },
  {
   "cell_type": "code",
   "execution_count": 90,
   "id": "d8c68b70-c3d8-4e90-b582-23ea762a7fb6",
   "metadata": {},
   "outputs": [],
   "source": [
    "# using maven to calc tax\n",
    "tax_calc_maven = []\n",
    "\n",
    "for order in order_dict_maven.values():\n",
    "    if order[3] == 'Sun Valley':\n",
    "         tax_calc_maven.append(tx.tax_calculator(order[2], .08))\n",
    "    if order[3] == 'Mammoth':\n",
    "         tax_calc_maven.append(tx.tax_calculator(order[2], .775))\n",
    "    if order[3] == 'Stowe':\n",
    "         tax_calc_maven.append(tx.tax_calculator(order[2], .06)) "
   ]
  },
  {
   "cell_type": "code",
   "execution_count": 89,
   "id": "c3150cc2-798d-4ccb-a1d9-fefcad172065",
   "metadata": {},
   "outputs": [],
   "source": [
    "# figure out how to use the tax_calc funtion with dictionary \n",
    "tax_calc = []\n",
    "\n",
    "for order in order_dict.values():\n",
    "    if order['location'] == 'Sun Valley':\n",
    "         tax_calc.append(tx.tax_calculator(order['subtotal'], .08))\n",
    "    if order['location'] == 'Mammoth':\n",
    "         tax_calc.append(tx.tax_calculator(order['subtotal'], .775))\n",
    "    if order['location'] == 'Stowe':\n",
    "         tax_calc.append(tx.tax_calculator(order['subtotal'], .06))    "
   ]
  },
  {
   "cell_type": "code",
   "execution_count": 88,
   "id": "77b870b9-4963-4854-a4c9-7fae13cad877",
   "metadata": {},
   "outputs": [],
   "source": [
    "# create a list for the tax based off extracting tax_calc data\n",
    "taxes = []\n",
    "for items in tax_calc:\n",
    "    taxes.append(items[1])"
   ]
  },
  {
   "cell_type": "code",
   "execution_count": 87,
   "id": "ca41bec9-efb0-4e9e-9eb5-9ebc918299da",
   "metadata": {},
   "outputs": [],
   "source": [
    "# create a list for the tax based off extracting tax_calc_maven data\n",
    "taxes_maven = []\n",
    "for items in tax_calc_maven:\n",
    "    taxes_maven.append(items[1])\n",
    "\n",
    "totals_maven = []\n",
    "for items in tax_calc:\n",
    "    totals_maven.append(items[2])\n"
   ]
  },
  {
   "cell_type": "code",
   "execution_count": null,
   "id": "ae14ca3d-f55a-4a57-b9a4-e21f6aa1dee3",
   "metadata": {},
   "outputs": [],
   "source": [
    "# create a list for the total based off extracting tax_calc data\n",
    "totals = []\n",
    "for items in tax_calc:\n",
    "    totals.append(items[2])\n",
    "totals"
   ]
  },
  {
   "cell_type": "code",
   "execution_count": null,
   "id": "a0d8d395",
   "metadata": {},
   "outputs": [],
   "source": [
    "# pprint(order_dict)"
   ]
  },
  {
   "cell_type": "markdown",
   "id": "5d3460da",
   "metadata": {},
   "source": [
    "### Write Sales Tax and Total Into the Excel Sheet\n",
    "\n",
    "\n",
    "Great job! Now we just need to write this data into the workbook.\n",
    "\n",
    "Write the sales tax and total you just calculated into the workbook, then save!\n",
    "\n",
    "Call this workbook 'maven_ski_shop_data_fixed'.\n",
    "\n",
    "**Tip:** There are a few ways to do this. As always, be patient, solve one step at a time."
   ]
  },
  {
   "cell_type": "code",
   "execution_count": null,
   "id": "c684ad05-5464-4e3a-917c-2f07c6ecc0c6",
   "metadata": {
    "tags": []
   },
   "outputs": [],
   "source": [
    "# orders.delete_cols(idx = 5)"
   ]
  },
  {
   "cell_type": "code",
   "execution_count": 91,
   "id": "5bd0be52-2f94-4fa4-bc9a-73da707d7a96",
   "metadata": {},
   "outputs": [
    {
     "data": {
      "text/plain": [
       "54.0"
      ]
     },
     "execution_count": 91,
     "metadata": {},
     "output_type": "execute_result"
    }
   ],
   "source": [
    "tax_calc[1][1]"
   ]
  },
  {
   "cell_type": "code",
   "execution_count": null,
   "id": "28bc0a4e-e56d-4ad7-901c-82bddd96f7f3",
   "metadata": {},
   "outputs": [],
   "source": [
    "taxes[0]"
   ]
  },
  {
   "cell_type": "code",
   "execution_count": 99,
   "id": "957e2656",
   "metadata": {},
   "outputs": [
    {
     "name": "stdout",
     "output_type": "stream",
     "text": [
      "E1 Tax\n",
      "E2 1.28\n",
      "E3 54.0\n",
      "E4 619.98\n",
      "E5 7.08\n",
      "E6 0.48\n",
      "E7 464.99\n",
      "E8 19.37\n",
      "E9 1394.95\n",
      "E10 8.0\n",
      "E11 20.4\n",
      "E12 23.23\n",
      "E13 77.49\n",
      "E14 2.08\n",
      "E15 39.0\n",
      "E16 7.2\n",
      "E17 9.6\n",
      "E18 36.0\n",
      "E19 52.0\n",
      "E20 1.5\n",
      "E21 6.0\n",
      "E22 77.49\n",
      "E23 0.48\n",
      "E24 19.37\n",
      "E25 60.0\n",
      "E26 6.0\n",
      "E27 309.98\n",
      "E28 5.4\n"
     ]
    }
   ],
   "source": [
    "orders['E1'].value = 'Tax'\n",
    "\n",
    "for i, cell in enumerate(orders['E']):\n",
    "    if i < 27:\n",
    "        orders[f'E{i + 2}'].value = taxes[i]\n",
    "        \n",
    "column_printer(orders, 'E')"
   ]
  },
  {
   "cell_type": "code",
   "execution_count": 100,
   "id": "ddb4858c-72ed-4c28-b04a-cc3967e2df8e",
   "metadata": {},
   "outputs": [
    {
     "name": "stdout",
     "output_type": "stream",
     "text": [
      "F1 Total\n",
      "F2 17.26\n",
      "F3 953.97\n",
      "F4 1419.95\n",
      "F5 125.04\n",
      "F6 6.47\n",
      "F7 1064.98\n",
      "F8 44.36\n",
      "F9 3194.89\n",
      "F10 107.99\n",
      "F11 275.35\n",
      "F12 53.21\n",
      "F13 177.48\n",
      "F14 28.06\n",
      "F15 688.98\n",
      "F16 97.19\n",
      "F17 129.59\n",
      "F18 635.99\n",
      "F19 701.98\n",
      "F20 26.49\n",
      "F21 105.99\n",
      "F22 177.48\n",
      "F23 6.47\n",
      "F24 44.36\n",
      "F25 1059.96\n",
      "F26 105.99\n",
      "F27 709.95\n",
      "F28 95.39\n"
     ]
    }
   ],
   "source": [
    "orders['E1'].value = 'Total'\n",
    "\n",
    "for i, cell in enumerate(orders['E']):\n",
    "    if i < 27:\n",
    "        orders[f'F{i + 2}'].value = totals[i]\n",
    "        \n",
    "column_printer(orders, 'F')"
   ]
  },
  {
   "cell_type": "code",
   "execution_count": 92,
   "id": "f20ab101-3239-4d66-b18d-62c178e09c39",
   "metadata": {},
   "outputs": [],
   "source": [
    "shop_data.save('maven_ski_shop_data_fixed.xlsx')"
   ]
  },
  {
   "cell_type": "code",
   "execution_count": 94,
   "id": "8cc2f6bf-2205-4e97-9faa-7883c15e554b",
   "metadata": {},
   "outputs": [
    {
     "ename": "TypeError",
     "evalue": "'generator' object is not callable",
     "output_type": "error",
     "traceback": [
      "\u001b[0;31m---------------------------------------------------------------------------\u001b[0m",
      "\u001b[0;31mTypeError\u001b[0m                                 Traceback (most recent call last)",
      "Input \u001b[0;32mIn [94]\u001b[0m, in \u001b[0;36m<cell line: 1>\u001b[0;34m()\u001b[0m\n\u001b[0;32m----> 1\u001b[0m \u001b[43morders\u001b[49m\u001b[38;5;241;43m.\u001b[39;49m\u001b[43mvalues\u001b[49m\u001b[43m(\u001b[49m\u001b[43m)\u001b[49m\n",
      "\u001b[0;31mTypeError\u001b[0m: 'generator' object is not callable"
     ]
    }
   ],
   "source": [
    "orders"
   ]
  },
  {
   "cell_type": "markdown",
   "id": "328ba670",
   "metadata": {},
   "source": [
    "## Part 2\n",
    "\n",
    "### Analysis Time!\n",
    "\n",
    "\n",
    "Now that we've fixed the data - it's time to perform analysis on our sales.\n",
    "\n",
    "Our starting point will be the order_dict we created, after we added the taxes and totals columns.\n",
    "\n",
    "Our first step will be to write a function that calculates the sum of a 'column' of data in our dictionary.\n",
    "\n",
    "A 'column' for example, would be subtotals, which is at index 2 in the list stored as our dictionary values.\n",
    "\n",
    "Your function should take the following arguments:\n",
    "\n",
    "* Column Index (the index of the data of interest in the list stored in our dictionary values)\n",
    "* Dictionary Name\n",
    "\n",
    "It should output:\n",
    "\n",
    "* The sum of values in the column (rounded to two decimal places)\n",
    "\n",
    "Assume only numeric values will be in the column (You can develop cleaning logic later :D)\n",
    "\n",
    "**Tip:** Use a list comprehension to retrieve the values of interest."
   ]
  },
  {
   "cell_type": "code",
   "execution_count": 112,
   "id": "d4152962-332a-4810-ae05-958fc6ae133d",
   "metadata": {},
   "outputs": [],
   "source": [
    "order_dict2 = {\n",
    "    order_ids: {'customer_id': customer_ids, 'date': order_dates, 'subtotals': subtotals,\n",
    "                'taxes': taxes, 'totals': totals,\n",
    "                'location': locations, 'items_ordered': items_ordered,\n",
    "               }\n",
    "    for order_ids, customer_ids, order_dates, subtotals, taxes, totals, locations, items_ordered in zip(\n",
    "    order_ids, customer_ids, order_dates, subtotals, taxes, totals, locations, items_ordered\n",
    "    )\n",
    "}"
   ]
  },
  {
   "cell_type": "code",
   "execution_count": 103,
   "id": "6e77c34b-584d-4d8d-8490-e7c59a787360",
   "metadata": {},
   "outputs": [],
   "source": [
    "order_dict_maven_2 = {\n",
    "    orders[f'A{order}'].value:[\n",
    "        orders[f'B{order}'].value,\n",
    "        orders[f'C{order}'].value,\n",
    "        orders[f'D{order}'].value,\n",
    "        orders[f'E{order}'].value,\n",
    "        orders[f'F{order}'].value,\n",
    "        orders[f'G{order}'].value,\n",
    "        str(orders[f'H{order}'].value).split(', ')\n",
    "        ]\n",
    "        for order in range(2, orders.max_row + 1)\n",
    "}"
   ]
  },
  {
   "cell_type": "code",
   "execution_count": 104,
   "id": "a1566a9b-7b70-468b-86d9-1940a7f42549",
   "metadata": {},
   "outputs": [
    {
     "data": {
      "text/plain": [
       "['C00007',\n",
       " '11/26/2021',\n",
       " 899.97,\n",
       " 54.0,\n",
       " 953.97,\n",
       " 'Stowe',\n",
       " ['10008', '10009', '10010']]"
      ]
     },
     "execution_count": 104,
     "metadata": {},
     "output_type": "execute_result"
    }
   ],
   "source": [
    "order_dict_maven_2[100001]"
   ]
  },
  {
   "cell_type": "code",
   "execution_count": null,
   "id": "f51dffbb-2f59-407f-a6a7-983af368c87a",
   "metadata": {},
   "outputs": [],
   "source": [
    "for order in order_dict2.values():\n",
    "       print(order['subtotals'])\n",
    "        "
   ]
  },
  {
   "cell_type": "code",
   "execution_count": 108,
   "id": "6e2e9631-e023-4f2d-afbd-21d4edc42405",
   "metadata": {},
   "outputs": [],
   "source": [
    "def column_sum(col_name, dictionary_name):\n",
    "    list = []\n",
    "    for orders in dictionary_name.values():\n",
    "        list.append(orders[col_name])\n",
    "    return round(sum(list), 2)     "
   ]
  },
  {
   "cell_type": "code",
   "execution_count": 105,
   "id": "c1afaf27-7f64-4de7-b312-b3312b7744d9",
   "metadata": {},
   "outputs": [],
   "source": [
    "def column_sum_maven(col_index, dictionary):\n",
    "    list = []\n",
    "    for orders in dictionary.values():\n",
    "        list.append(orders[col_index])\n",
    "    return round(sum(list), 2)      "
   ]
  },
  {
   "cell_type": "code",
   "execution_count": 113,
   "id": "8a8dfd10-9ed9-4cd4-8a59-ec3f66df956d",
   "metadata": {},
   "outputs": [
    {
     "data": {
      "text/plain": [
       "8731.47"
      ]
     },
     "execution_count": 113,
     "metadata": {},
     "output_type": "execute_result"
    }
   ],
   "source": [
    "column_sum('subtotals', order_dict2)"
   ]
  },
  {
   "cell_type": "code",
   "execution_count": 114,
   "id": "eb74293d-95e3-48ad-86e2-75df70809522",
   "metadata": {},
   "outputs": [
    {
     "data": {
      "text/plain": [
       "8731.47"
      ]
     },
     "execution_count": 114,
     "metadata": {},
     "output_type": "execute_result"
    }
   ],
   "source": [
    "column_sum_maven(2, order_dict_maven_2)"
   ]
  },
  {
   "cell_type": "markdown",
   "id": "d83413fe",
   "metadata": {},
   "source": [
    "#### Sum The Subtotal, Tax, and Total Columns \n",
    "\n",
    "Now that we have our column sum function, calculate the sum of:\n",
    "\n",
    "* Subtotals\n",
    "* Taxes\n",
    "* Totals"
   ]
  },
  {
   "cell_type": "code",
   "execution_count": 115,
   "id": "f96d2f45",
   "metadata": {
    "scrolled": true
   },
   "outputs": [
    {
     "name": "stdout",
     "output_type": "stream",
     "text": [
      "8731.47\n",
      "3323.35\n",
      "12054.82\n"
     ]
    }
   ],
   "source": [
    "print(column_sum('subtotals', order_dict2))\n",
    "print(column_sum('taxes', order_dict2))\n",
    "print(column_sum('totals', order_dict2))"
   ]
  },
  {
   "cell_type": "code",
   "execution_count": 116,
   "id": "fc6542f2-e5ac-4db7-b356-5d5cd6ab1668",
   "metadata": {
    "scrolled": true
   },
   "outputs": [
    {
     "name": "stdout",
     "output_type": "stream",
     "text": [
      "8731.47\n",
      "3323.35\n",
      "12054.82\n"
     ]
    }
   ],
   "source": [
    "print(column_sum_maven(2, order_dict_maven_2))\n",
    "print(column_sum_maven(3, order_dict_maven_2))\n",
    "print(column_sum_maven(4, order_dict_maven_2))"
   ]
  },
  {
   "cell_type": "markdown",
   "id": "b2720242",
   "metadata": {},
   "source": [
    "### What is the average of our subtotals?\n",
    "\n",
    "Calculate the average value of our transactions.\n",
    "\n",
    "Remember that each entry in your dictionary is one order."
   ]
  },
  {
   "cell_type": "code",
   "execution_count": 117,
   "id": "1aa1093a",
   "metadata": {},
   "outputs": [
    {
     "data": {
      "text/plain": [
       "323.39"
      ]
     },
     "execution_count": 117,
     "metadata": {},
     "output_type": "execute_result"
    }
   ],
   "source": [
    "avg_subtotals = round(column_sum('subtotals', order_dict2) / len(column_list(orders, 'D')), 2)\n",
    "avg_subtotals"
   ]
  },
  {
   "cell_type": "markdown",
   "id": "fa8f7168",
   "metadata": {},
   "source": [
    "### How many unique customers did we have?\n",
    "\n",
    "Calculate the total number of unique customers in our sales data.\n",
    "\n",
    "Then calculate the number of orders per customer (total orders / unique customers)"
   ]
  },
  {
   "cell_type": "code",
   "execution_count": 123,
   "id": "cfac7167-6349-42ed-aa32-613f7fab1bb5",
   "metadata": {},
   "outputs": [
    {
     "data": {
      "text/plain": [
       "19"
      ]
     },
     "execution_count": 123,
     "metadata": {},
     "output_type": "execute_result"
    }
   ],
   "source": [
    "len({order[0] for order in order_dict_maven_2.values()}) # what the fuck!"
   ]
  },
  {
   "cell_type": "code",
   "execution_count": 124,
   "id": "7af182d6",
   "metadata": {},
   "outputs": [
    {
     "data": {
      "text/plain": [
       "19"
      ]
     },
     "execution_count": 124,
     "metadata": {},
     "output_type": "execute_result"
    }
   ],
   "source": [
    "unique_cust = set(column_list(orders, 'B'))\n",
    "\n",
    "len(unique_cust)"
   ]
  },
  {
   "cell_type": "code",
   "execution_count": 135,
   "id": "51e10c99-d2ba-4d4d-94fb-e6744e31763c",
   "metadata": {},
   "outputs": [
    {
     "data": {
      "text/plain": [
       "1.42"
      ]
     },
     "execution_count": 135,
     "metadata": {},
     "output_type": "execute_result"
    }
   ],
   "source": [
    "orders_per_cust = round(len(order_dict_maven_2) / len(unique_cust), 2)\n",
    "orders_per_cust"
   ]
  },
  {
   "cell_type": "markdown",
   "id": "ff483459",
   "metadata": {},
   "source": [
    "### How many items in total did we sell?\n",
    "\n",
    "Calculate the total number of items we sold in across all orders. \n",
    "\n",
    "This information is in Column H, which should be the last element in order_dict's values."
   ]
  },
  {
   "cell_type": "code",
   "execution_count": null,
   "id": "d3c166e4-b41d-4e30-a79a-94374c668dd7",
   "metadata": {},
   "outputs": [],
   "source": [
    "# orders nested in lists were strings but sperated by commaas\n",
    "# had to turn list into string, then split them by comma and then create a new list \n",
    "# can implement a data validation step that will chec to see if nested lists or nested lists in dictionaries are properly read in\n",
    "# can put this fiz at the very beginning of the notebook \n",
    "items_ordered_fixed = []\n",
    "for items in items_ordered:\n",
    "    items_ordered_fixed.append(str(items).split(','))\n",
    "items_ordered_fixed    "
   ]
  },
  {
   "cell_type": "code",
   "execution_count": 134,
   "id": "e06538ee-eb3d-4cf4-9678-0feec2ab81bb",
   "metadata": {},
   "outputs": [
    {
     "data": {
      "text/plain": [
       "54"
      ]
     },
     "execution_count": 134,
     "metadata": {},
     "output_type": "execute_result"
    }
   ],
   "source": [
    "total_items = []\n",
    "for items in items_ordered:\n",
    "    for item in items:\n",
    "        total_items.append(item)\n",
    "len(total_items)"
   ]
  },
  {
   "cell_type": "code",
   "execution_count": 142,
   "id": "6aa40fcf-b5b4-4fb1-9c33-a78bf706da06",
   "metadata": {},
   "outputs": [
    {
     "data": {
      "text/plain": [
       "54"
      ]
     },
     "execution_count": 142,
     "metadata": {},
     "output_type": "execute_result"
    }
   ],
   "source": [
    "total_items_maven = 0\n",
    "for order in order_dict_maven_2.values():\n",
    "    total_items_maven += len(order[6])\n",
    "total_items_maven"
   ]
  },
  {
   "cell_type": "code",
   "execution_count": 160,
   "id": "582d2ecb-68d2-403f-b2aa-2f3a47678bbb",
   "metadata": {},
   "outputs": [
    {
     "data": {
      "text/plain": [
       "54"
      ]
     },
     "execution_count": 160,
     "metadata": {},
     "output_type": "execute_result"
    }
   ],
   "source": [
    "sum(len(order[6]) for order in order_dict_maven_2.values())"
   ]
  },
  {
   "cell_type": "markdown",
   "id": "05abd311",
   "metadata": {},
   "source": [
    "### Sales By Location\n",
    "\n",
    "Calculate the sum of subtotals by location.\n",
    "\n",
    "Create a dictionary to store them, where location is the key, and revenue for that location is the value.\n",
    "\n",
    "A few steps to consider:\n",
    "\n",
    "* Loop through your dictionary\n",
    "* build a dictionary as you go with location as key\n",
    "* increment revenue every time a transaction matches the location.\n",
    "\n",
    "\n",
    "Your output should look like \n",
    "{'Location1': sum of subtotals for 'Location1'}\n",
    "\n",
    "With an entry for each location."
   ]
  },
  {
   "cell_type": "code",
   "execution_count": 144,
   "id": "960a8d1b",
   "metadata": {},
   "outputs": [
    {
     "name": "stdout",
     "output_type": "stream",
     "text": [
      "{'Sun Valley': 1268.84, 'Stowe': 3582.82, 'Mammoth': 3879.81}\n"
     ]
    }
   ],
   "source": [
    "sun_valley_totals = [] \n",
    "stowe_totals = []\n",
    "mammoth_totals = []\n",
    "\n",
    "for order in order_dict2.values():\n",
    "    if order['location'] == 'Sun Valley':\n",
    "        sun_valley_totals.append(order['subtotals'])\n",
    "    elif order['location'] == 'Stowe':\n",
    "        stowe_totals.append(order['subtotals'])\n",
    "    elif order['location'] == 'Mammoth':\n",
    "        mammoth_totals.append(order['subtotals'])\n",
    "        \n",
    "sun_sum = round(sum(sun_valley_totals), 2)\n",
    "stowe_sum = round(sum(stowe_totals), 2)\n",
    "mammoth_sum = round(sum(mammoth_totals), 2)\n",
    "\n",
    "sales_dict = {\n",
    "    'Sun Valley' : sun_sum, 'Stowe' : stowe_sum, 'Mammoth' : mammoth_sum\n",
    "}\n",
    "\n",
    "print(sales_dict)"
   ]
  },
  {
   "cell_type": "code",
   "execution_count": 163,
   "id": "99ab1f63-f9c8-4633-8b86-c2004c377e5e",
   "metadata": {},
   "outputs": [
    {
     "data": {
      "text/plain": [
       "{'Sun Valley': 1268.84, 'Stowe': 3582.82, 'Mammoth': 3879.81}"
      ]
     },
     "execution_count": 163,
     "metadata": {},
     "output_type": "execute_result"
    }
   ],
   "source": [
    "total_sales_by_location = {}\n",
    "sun_tot = 0\n",
    "sto_tot = 0\n",
    "mam_tot = 0\n",
    "\n",
    "for order in order_dict2.values():\n",
    "    if order['location'] == 'Sun Valley':\n",
    "        sun_tot += order['subtotals']\n",
    "        total_sales_by_location['Sun Valley'] = round(sun_tot, 2)\n",
    "    elif order['location'] == 'Stowe':\n",
    "        sto_tot += order['subtotals']\n",
    "        total_sales_by_location['Stowe'] = round(sto_tot, 2)\n",
    "    elif order['location'] == 'Mammoth':\n",
    "        mam_tot += order['subtotals']\n",
    "        total_sales_by_location['Mammoth'] = round(mam_tot, 2)\n",
    "\n",
    "total_sales_by_location"
   ]
  },
  {
   "cell_type": "code",
   "execution_count": 154,
   "id": "f0e4b8de-369b-458e-9079-76952be8c160",
   "metadata": {},
   "outputs": [
    {
     "name": "stdout",
     "output_type": "stream",
     "text": [
      "15.98 Sun Valley\n",
      "899.97 Stowe\n",
      "799.97 Mammoth\n",
      "117.96 Stowe\n",
      "5.99 Sun Valley\n",
      "599.99 Mammoth\n",
      "24.99 Mammoth\n",
      "1799.94 Mammoth\n",
      "99.99 Sun Valley\n",
      "254.95 Sun Valley\n",
      "29.98 Mammoth\n",
      "99.99 Mammoth\n",
      "25.98 Sun Valley\n",
      "649.98 Stowe\n",
      "89.99 Sun Valley\n",
      "119.99 Sun Valley\n",
      "599.99 Stowe\n",
      "649.98 Sun Valley\n",
      "24.99 Stowe\n",
      "99.99 Stowe\n",
      "99.99 Mammoth\n",
      "5.99 Sun Valley\n",
      "24.99 Mammoth\n",
      "999.96 Stowe\n",
      "99.99 Stowe\n",
      "399.97 Mammoth\n",
      "89.99 Stowe\n"
     ]
    }
   ],
   "source": [
    "for order in order_dict_maven_2.values():\n",
    "    print(order[2], order[5])"
   ]
  },
  {
   "cell_type": "code",
   "execution_count": 169,
   "id": "66c10a4c-038c-4fa8-8487-0620d994fad3",
   "metadata": {},
   "outputs": [
    {
     "data": {
      "text/plain": [
       "{'Sun Valley': 1268.84, 'Stowe': 3582.82, 'Mammoth': 3879.81}"
      ]
     },
     "execution_count": 169,
     "metadata": {},
     "output_type": "execute_result"
    }
   ],
   "source": [
    "total_sales_by_location_maven = {}\n",
    "sun_tot = 0\n",
    "sto_tot = 0\n",
    "mam_tot = 0\n",
    "\n",
    "for order in order_dict_maven_2.values():\n",
    "    if order[5] == 'Sun Valley':\n",
    "        sun_tot += order[2]\n",
    "        total_sales_by_location_maven['Sun Valley'] = round(sun_tot, 2)\n",
    "    elif order[5] == 'Stowe':\n",
    "        sto_tot += order[2]\n",
    "        total_sales_by_location_maven['Stowe'] = round(sto_tot, 2)\n",
    "    elif order[5] == 'Mammoth':                       \n",
    "        mam_tot += order[2]\n",
    "        total_sales_by_location_maven['Mammoth'] = round(mam_tot, 2)       \n",
    "total_sales_by_location_maven"
   ]
  },
  {
   "cell_type": "code",
   "execution_count": 171,
   "id": "6b9059da-20c0-43f8-bb0e-fc5fde431f9a",
   "metadata": {},
   "outputs": [
    {
     "data": {
      "text/plain": [
       "{'Sun Valley': 1268.84,\n",
       " 'Stowe': 3582.8199999999993,\n",
       " 'Mammoth': 3879.8099999999995}"
      ]
     },
     "execution_count": 171,
     "metadata": {},
     "output_type": "execute_result"
    }
   ],
   "source": [
    "location_sums = {}\n",
    "\n",
    "for data in order_dict_maven_2.values():\n",
    "    location = data[5]\n",
    "    if location not in location_sums:\n",
    "        location_sums[location] = 0\n",
    "    location_sums[location] += data[2]\n",
    "location_sums"
   ]
  },
  {
   "cell_type": "code",
   "execution_count": 225,
   "id": "1b8f30d5-e95a-4dc3-8d38-9ab74f2625dc",
   "metadata": {},
   "outputs": [
    {
     "data": {
      "text/plain": [
       "{'Sun Valley': 1268.84,\n",
       " 'Stowe': 3582.8199999999993,\n",
       " 'Mammoth': 3879.8099999999995}"
      ]
     },
     "execution_count": 225,
     "metadata": {},
     "output_type": "execute_result"
    }
   ],
   "source": [
    "location_sums2 = {}\n",
    "\n",
    "for data in order_dict_maven_2.values():\n",
    "    location = data[5]\n",
    "    location_sums2[location] = location_sums2.get(location, 0) + data[2]\n",
    "location_sums2"
   ]
  },
  {
   "cell_type": "markdown",
   "id": "a9ffa683",
   "metadata": {
    "tags": []
   },
   "source": [
    "### Challenge: Aggregator Function\n",
    "\n",
    "Now that you've summed revenue by category (you just summed by location), can you write a function to generalize calculating a sum of a column, grouped by the unique values in another column? (for example, sum of totals by date or customer_id).\n",
    "\n",
    "Your function should take the following arguments:\n",
    "* index of the 'column' (index position in order_dict) to group by\n",
    "* index of the 'column' (index position in order_dict) to sum by category\n",
    "* the dictionary where the data is located (assume the same structure as order_dict.\n",
    "\n",
    "It should return:\n",
    "* A dictionary with the categories as keys, and the sum by category as value.\n",
    "\n",
    "Once you've done so use your function to sum totals by date and customer_id."
   ]
  },
  {
   "cell_type": "code",
   "execution_count": 250,
   "id": "32c8ca53",
   "metadata": {},
   "outputs": [],
   "source": [
    "def aggregator(group_index, sum_index, dictionary):\n",
    "    sum_dict = {}\n",
    "    \n",
    "    for data in dictionary.values():\n",
    "        group = data[group_index]\n",
    "        if group not in sum_dict:\n",
    "            sum_dict[group] = 0\n",
    "        sum_dict[group] += round(data[sum_index], 2)\n",
    "    return sum_dict"
   ]
  },
  {
   "cell_type": "code",
   "execution_count": 249,
   "id": "a07ac406-4fce-4077-8406-a378c52fb953",
   "metadata": {},
   "outputs": [],
   "source": [
    "def aggregator2(group_index, sum_index, dictionary):\n",
    "    sum_dict2 = {}\n",
    "    \n",
    "    for data in dictionary.values():\n",
    "        group = data[group_index]\n",
    "        sum_dict2[group] = sum_dict2.get(group, 0) + data[sum_index]\n",
    "    return sum_dict2"
   ]
  },
  {
   "cell_type": "code",
   "execution_count": 253,
   "id": "b034d599",
   "metadata": {},
   "outputs": [
    {
     "data": {
      "text/plain": [
       "{'11/26/2021': 8255.18, '11/27/2021': 1783.99, '11/28/2021': 2015.65}"
      ]
     },
     "execution_count": 253,
     "metadata": {},
     "output_type": "execute_result"
    }
   ],
   "source": [
    "# index 1 = date, index 4 = total\n",
    "aggregator(1, 4, order_dict_maven_2)"
   ]
  },
  {
   "cell_type": "code",
   "execution_count": 246,
   "id": "92703b3d",
   "metadata": {},
   "outputs": [
    {
     "data": {
      "text/plain": [
       "{'C00004': 146.85,\n",
       " 'C00007': 953.97,\n",
       " 'C00015': 1419.95,\n",
       " 'C00016': 220.43,\n",
       " 'C00020': 6.47,\n",
       " 'C00010': 1774.93,\n",
       " 'C00006': 88.72,\n",
       " 'C00001': 3425.58,\n",
       " 'C00003': 107.99,\n",
       " 'C00014': 275.35,\n",
       " 'C00005': 28.06,\n",
       " 'C00008': 794.97,\n",
       " 'C00013': 97.19,\n",
       " 'C00017': 635.99,\n",
       " 'C00019': 701.98,\n",
       " 'C00002': 26.49,\n",
       " 'C00021': 177.48,\n",
       " 'C00022': 6.47,\n",
       " 'C00018': 1165.95}"
      ]
     },
     "execution_count": 246,
     "metadata": {},
     "output_type": "execute_result"
    }
   ],
   "source": [
    "# index 0 = customer_id\n",
    "aggregator(0, 4, order_dict_maven_2)"
   ]
  },
  {
   "cell_type": "code",
   "execution_count": 247,
   "id": "03483866",
   "metadata": {
    "tags": []
   },
   "outputs": [
    {
     "data": {
      "text/plain": [
       "{'Sun Valley': 1268.84,\n",
       " 'Stowe': 3582.8199999999993,\n",
       " 'Mammoth': 3879.8099999999995}"
      ]
     },
     "execution_count": 247,
     "metadata": {},
     "output_type": "execute_result"
    }
   ],
   "source": [
    "aggregator(5, 2, order_dict_maven_2)"
   ]
  },
  {
   "cell_type": "code",
   "execution_count": null,
   "id": "bbe525a6-5b3b-4446-b318-115564230ca3",
   "metadata": {},
   "outputs": [],
   "source": []
  }
 ],
 "metadata": {
  "kernelspec": {
   "display_name": "Python 3 (ipykernel)",
   "language": "python",
   "name": "python3"
  },
  "language_info": {
   "codemirror_mode": {
    "name": "ipython",
    "version": 3
   },
   "file_extension": ".py",
   "mimetype": "text/x-python",
   "name": "python",
   "nbconvert_exporter": "python",
   "pygments_lexer": "ipython3",
   "version": "3.9.12"
  }
 },
 "nbformat": 4,
 "nbformat_minor": 5
}
