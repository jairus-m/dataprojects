{
 "cells": [
  {
   "cell_type": "markdown",
   "id": "89075297-c7ae-429d-8011-befaa983a1ca",
   "metadata": {},
   "source": [
    "# Familes in Schools\n",
    "Facebook Insights Script Goals:\n",
    "- import data\n",
    "- extract useful data\n",
    "- format a new df\n",
    "- export cleaned df to append to Google Sheets "
   ]
  },
  {
   "cell_type": "code",
   "execution_count": 1,
   "id": "8a846a85-ca89-4537-9bef-8fcc0e71d345",
   "metadata": {},
   "outputs": [],
   "source": [
    "import pandas as pd\n",
    "import numpy as np"
   ]
  },
  {
   "cell_type": "markdown",
   "id": "23d5aa8f-6ef8-4702-9a9d-49ed657fd94a",
   "metadata": {},
   "source": [
    "# Extracting from Sheet 1\n",
    "- Post ID\n",
    "- Permalink\n",
    "- Post Message\n",
    "- Type\n",
    "- Post Date\n",
    "- Post Time\n",
    "- Total Reach\n",
    "- Organic Reach\n",
    "- Total Impressions\n",
    "- Organic Impressions"
   ]
  },
  {
   "cell_type": "code",
   "execution_count": 2,
   "id": "e8e8ca08-d913-4ab1-91cc-378b1e923091",
   "metadata": {},
   "outputs": [],
   "source": [
    "# import the sheets where we get data from\n",
    "\n",
    "fb_1 = pd.read_excel('/Users/jairusmartinez/Desktop/fb_insights_data.xlsx', sheet_name=0) "
   ]
  },
  {
   "cell_type": "code",
   "execution_count": 3,
   "id": "64cdd541-c267-4857-8b7c-03c496249e0d",
   "metadata": {},
   "outputs": [],
   "source": [
    "# drop unwanted columns and keep relevant\n",
    "\n",
    "fb_1 = (fb_1.loc[:, ['Post ID', 'Permalink', 'Post Message', 'Type', 'Posted', \n",
    "                     'Lifetime Post Total Reach', 'Lifetime Post organic reach',\n",
    "                     'Lifetime Post Total Impressions','Lifetime Post Organic Impressions']])"
   ]
  },
  {
   "cell_type": "code",
   "execution_count": 4,
   "id": "933691a0-e4ee-4f13-ad6d-8c9cae2d799e",
   "metadata": {},
   "outputs": [],
   "source": [
    "# drop the uncesarry first row as formatted by FB\n",
    "\n",
    "fb_1 = fb_1.drop(index=0, axis=0).reset_index()"
   ]
  },
  {
   "cell_type": "code",
   "execution_count": 5,
   "id": "30e64516-09c2-433c-8adb-22b925850d4c",
   "metadata": {},
   "outputs": [],
   "source": [
    "# drop the additional index column\n",
    "\n",
    "fb_1 = fb_1.drop(columns=['index'])"
   ]
  },
  {
   "cell_type": "code",
   "execution_count": 6,
   "id": "f303f638-83d8-4660-bafe-964b6be93f7d",
   "metadata": {},
   "outputs": [],
   "source": [
    "# change the name to match the Google Sheets\n",
    "\n",
    "fb_1.columns = (['Post ID', 'Permalink', 'Post Message', 'Type', 'Post Date',\n",
    "                 'Total Reach (Unique Users)', 'Organic reach',\n",
    "                 'Total Impressions (Non-Unique)', 'Organic Impressions'])"
   ]
  },
  {
   "cell_type": "code",
   "execution_count": null,
   "id": "a326cdcd-b920-4550-9ad2-02a97e0d9825",
   "metadata": {},
   "outputs": [],
   "source": []
  },
  {
   "cell_type": "markdown",
   "id": "7c56fdeb-68c5-4abe-b0ea-32bc6293dc27",
   "metadata": {},
   "source": [
    "# Extracting from Sheet 3\n",
    "- Like\n",
    "- Comment\n",
    "- Share"
   ]
  },
  {
   "cell_type": "code",
   "execution_count": 7,
   "id": "4bde32e9-0a93-4413-8c06-831bbb569869",
   "metadata": {},
   "outputs": [],
   "source": [
    "# import sheet 3\n",
    "\n",
    "fb_3 = pd.read_excel('/Users/jairusmartinez/Desktop/fb_insights_data.xlsx', sheet_name=2) "
   ]
  },
  {
   "cell_type": "code",
   "execution_count": 8,
   "id": "48e27f21-36bc-41d8-93b2-9c4e8f5435cc",
   "metadata": {},
   "outputs": [],
   "source": [
    "# grab the columns we need, along with primary key\n",
    "\n",
    "fb_3 = fb_3.loc[:, ['Post ID', 'like', 'share', 'comment']]"
   ]
  },
  {
   "cell_type": "code",
   "execution_count": 9,
   "id": "6036786a-9298-4bb3-9955-b6fcd2a66d38",
   "metadata": {},
   "outputs": [],
   "source": [
    "# rename columns\n",
    "\n",
    "fb_3.columns = ['Post ID', 'Likes', 'Shares', 'Comments']"
   ]
  },
  {
   "cell_type": "markdown",
   "id": "898eec93-0e00-454d-8b78-c204813fa87d",
   "metadata": {},
   "source": [
    "# Extracting from Sheet 5\n",
    "- Photo View\n",
    "- Link Clicks\n",
    "- Other Clicks"
   ]
  },
  {
   "cell_type": "code",
   "execution_count": 10,
   "id": "c215169f-1ade-41ca-a024-7c3c71b36bf9",
   "metadata": {},
   "outputs": [],
   "source": [
    "# import sheet 5\n",
    "\n",
    "fb_5 = pd.read_excel('/Users/jairusmartinez/Desktop/fb_insights_data.xlsx', sheet_name=4) "
   ]
  },
  {
   "cell_type": "code",
   "execution_count": 11,
   "id": "8685d2e7-0ee3-4494-9d44-b38b5bc99323",
   "metadata": {},
   "outputs": [],
   "source": [
    "# grab columns and primary key\n",
    "\n",
    "fb_5 = fb_5.loc[:,['Post ID', 'other clicks', 'photo view', 'link clicks']]"
   ]
  },
  {
   "cell_type": "code",
   "execution_count": 12,
   "id": "a92dbc3a-726f-435a-a258-dd56cb3f8dfb",
   "metadata": {},
   "outputs": [],
   "source": [
    "# rename to match google sheets\n",
    "\n",
    "fb_5.columns = ['Post ID', 'Other Clicks', 'Photo Views', 'Link Clicks']"
   ]
  },
  {
   "cell_type": "markdown",
   "id": "aa63438b-339f-449b-902e-8fdbae641ab5",
   "metadata": {},
   "source": [
    "# Join the DataFrames\n",
    "1. join df_1 with df_3\n",
    "2. add df_5"
   ]
  },
  {
   "cell_type": "code",
   "execution_count": 13,
   "id": "ee39d492-3de4-4e59-bb7e-c6de9e7db8eb",
   "metadata": {},
   "outputs": [],
   "source": [
    "# join df_ 1 with fb_3\n",
    "\n",
    "merge13 = fb_1.merge(\n",
    "    fb_3,\n",
    "    how='outer',\n",
    "    left_on='Post ID',\n",
    "    right_on='Post ID')"
   ]
  },
  {
   "cell_type": "code",
   "execution_count": 14,
   "id": "4f42b003-2768-4ae8-ac01-63b5f5aeb1e9",
   "metadata": {},
   "outputs": [],
   "source": [
    "# join merge13 with fb_5\n",
    "\n",
    "df = merge13.merge(\n",
    "    fb_5,\n",
    "    how='inner',\n",
    "    on='Post ID')"
   ]
  },
  {
   "cell_type": "markdown",
   "id": "7a30da5d-dca3-422e-bd35-33c43023b3bd",
   "metadata": {},
   "source": [
    "# Clean all NaN Values and replace with 0"
   ]
  },
  {
   "cell_type": "code",
   "execution_count": 15,
   "id": "470611b1-369c-4ba9-87f0-3c9969db7ea8",
   "metadata": {},
   "outputs": [],
   "source": [
    "for col in df.columns:\n",
    "    df[str(col)] = df[str(col)].fillna(0)"
   ]
  },
  {
   "cell_type": "markdown",
   "id": "90fdff52-685b-4c2e-9c39-1acbc6a17349",
   "metadata": {},
   "source": [
    "# Set Post Date to datetime64"
   ]
  },
  {
   "cell_type": "code",
   "execution_count": 16,
   "id": "f536ea2e-5672-45a8-ba2f-48d33c6e3a28",
   "metadata": {},
   "outputs": [
    {
     "data": {
      "text/plain": [
       "0    2022-12-01 17:31:56\n",
       "1    2022-11-29 16:00:18\n",
       "2    2022-11-24 09:00:56\n",
       "3    2022-11-18 15:00:16\n",
       "4    2022-11-17 16:00:13\n",
       "5    2022-11-14 12:00:18\n",
       "6    2022-11-11 17:30:11\n",
       "7    2022-11-11 11:45:12\n",
       "8    2022-11-10 17:00:16\n",
       "9    2022-11-02 15:00:25\n",
       "10   2022-10-28 16:00:05\n",
       "11   2022-10-27 17:00:24\n",
       "12   2022-10-26 17:00:14\n",
       "13   2022-10-25 17:00:18\n",
       "14   2022-10-21 15:00:19\n",
       "15   2022-10-10 14:37:10\n",
       "16   2022-10-07 15:00:43\n",
       "17   2022-10-05 16:30:11\n",
       "18   2022-10-05 11:45:13\n",
       "Name: Post Date, dtype: datetime64[ns]"
      ]
     },
     "execution_count": 16,
     "metadata": {},
     "output_type": "execute_result"
    }
   ],
   "source": [
    "# set datetime64\n",
    "\n",
    "df['Post Date'].astype('datetime64')"
   ]
  },
  {
   "cell_type": "code",
   "execution_count": 17,
   "id": "ff7761ba-6bac-4ea1-bda3-8c458efd21cd",
   "metadata": {},
   "outputs": [],
   "source": [
    "# extract time and create a new column\n",
    "#df['Post Time'] = df['Post Date'].dt.strftime('%I:%M %p')"
   ]
  },
  {
   "cell_type": "code",
   "execution_count": 18,
   "id": "05e9aecf-51e0-46ac-b18f-b10861c70fba",
   "metadata": {},
   "outputs": [],
   "source": [
    "df = df.assign(\n",
    "    Post_Time=df['Post Date'].dt.strftime('%I:%M %p'),\n",
    "    Engagement=df['Likes'] + df['Shares'] + df['Comments'],\n",
    "    Engagement_clicks=df['Other Clicks'] + df['Photo Views'] + df['Link Clicks'],\n",
    "    Total_Engagement=lambda x: x['Engagement'] + x['Engagement_clicks'],\n",
    "    Engagement_rate=lambda x: round((x['Total_Engagement'] / df['Total Reach (Unique Users)']) * 100, 1)   \n",
    ")"
   ]
  },
  {
   "cell_type": "code",
   "execution_count": 19,
   "id": "60bd5d2c-d63f-4469-b12d-02b50dc8489c",
   "metadata": {},
   "outputs": [
    {
     "data": {
      "text/plain": [
       "Index(['Post ID', 'Permalink', 'Post Message', 'Type', 'Post Date',\n",
       "       'Total Reach (Unique Users)', 'Organic reach',\n",
       "       'Total Impressions (Non-Unique)', 'Organic Impressions', 'Likes',\n",
       "       'Shares', 'Comments', 'Other Clicks', 'Photo Views', 'Link Clicks',\n",
       "       'Post_Time', 'Engagement', 'Engagement_clicks', 'Total_Engagement',\n",
       "       'Engagement_rate'],\n",
       "      dtype='object')"
      ]
     },
     "execution_count": 19,
     "metadata": {},
     "output_type": "execute_result"
    }
   ],
   "source": [
    "df.columns"
   ]
  },
  {
   "cell_type": "code",
   "execution_count": 20,
   "id": "699ed507-8061-495d-abfc-a580b716829b",
   "metadata": {},
   "outputs": [],
   "source": [
    "# reorder columns to match google sheets\n",
    "df = (df.loc[:,['Post ID', 'Permalink', 'Post Message', 'Type', 'Post Date', 'Post_Time', \n",
    "       'Engagement_rate','Total Reach (Unique Users)', 'Organic reach',\n",
    "       'Total Impressions (Non-Unique)', 'Organic Impressions', 'Likes',\n",
    "       'Shares', 'Comments', 'Engagement', 'Other Clicks', 'Photo Views', 'Link Clicks',\n",
    "       'Engagement_clicks', 'Total_Engagement']])"
   ]
  },
  {
   "cell_type": "code",
   "execution_count": 21,
   "id": "2f1a5fcf-b316-4a1f-ad65-757b2f9f4510",
   "metadata": {},
   "outputs": [],
   "source": [
    "df = df.rename(columns={'Engagement_clicks': 'Engagement (Clicks)', 'Engaement_rate': 'Engagement Rate',\n",
    "                  'Engagement': 'Engagement (Reactions, Shares, Comments, etc.)',\n",
    "                  'Total_Engagement': 'Total Engagement', 'Post_Time':'Post Time'})"
   ]
  },
  {
   "cell_type": "markdown",
   "id": "5fa356e5-7e1e-4738-8743-76f805b5be6c",
   "metadata": {},
   "source": [
    "# Export df"
   ]
  },
  {
   "cell_type": "code",
   "execution_count": 23,
   "id": "c80c181f-a2e8-4dde-8030-ec262ea2f357",
   "metadata": {},
   "outputs": [],
   "source": [
    "df.to_excel('fb_toCopy.xlsx', index=False)"
   ]
  }
 ],
 "metadata": {
  "kernelspec": {
   "display_name": "Python 3 (ipykernel)",
   "language": "python",
   "name": "python3"
  },
  "language_info": {
   "codemirror_mode": {
    "name": "ipython",
    "version": 3
   },
   "file_extension": ".py",
   "mimetype": "text/x-python",
   "name": "python",
   "nbconvert_exporter": "python",
   "pygments_lexer": "ipython3",
   "version": "3.9.12"
  }
 },
 "nbformat": 4,
 "nbformat_minor": 5
}
