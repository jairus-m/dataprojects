{
 "cells": [
  {
   "cell_type": "code",
   "execution_count": 1,
   "id": "6a0f851d-4cfe-48bb-892c-d9576ed02e4a",
   "metadata": {},
   "outputs": [],
   "source": [
    "import pandas as pd\n",
    "import numpy as np"
   ]
  },
  {
   "cell_type": "markdown",
   "id": "5fd21d8b-0297-45d6-9c09-81b1e8b6491b",
   "metadata": {},
   "source": [
    "# Cleaning and Formatting FB Likes and IG Followers"
   ]
  },
  {
   "cell_type": "code",
   "execution_count": 2,
   "id": "b55c0f44-df80-417a-a30c-b66ba2e91464",
   "metadata": {},
   "outputs": [
    {
     "data": {
      "text/html": [
       "<div>\n",
       "<style scoped>\n",
       "    .dataframe tbody tr th:only-of-type {\n",
       "        vertical-align: middle;\n",
       "    }\n",
       "\n",
       "    .dataframe tbody tr th {\n",
       "        vertical-align: top;\n",
       "    }\n",
       "\n",
       "    .dataframe thead th {\n",
       "        text-align: right;\n",
       "    }\n",
       "</style>\n",
       "<table border=\"1\" class=\"dataframe\">\n",
       "  <thead>\n",
       "    <tr style=\"text-align: right;\">\n",
       "      <th></th>\n",
       "      <th>Facebook Page new likes</th>\n",
       "      <th>Unnamed: 1</th>\n",
       "    </tr>\n",
       "  </thead>\n",
       "  <tbody>\n",
       "    <tr>\n",
       "      <th>0</th>\n",
       "      <td>Date</td>\n",
       "      <td>New Facebook Page likes</td>\n",
       "    </tr>\n",
       "    <tr>\n",
       "      <th>1</th>\n",
       "      <td>2021-07-01T00:00:00</td>\n",
       "      <td>0</td>\n",
       "    </tr>\n",
       "    <tr>\n",
       "      <th>2</th>\n",
       "      <td>2021-07-02T00:00:00</td>\n",
       "      <td>0</td>\n",
       "    </tr>\n",
       "    <tr>\n",
       "      <th>3</th>\n",
       "      <td>2021-07-03T00:00:00</td>\n",
       "      <td>1</td>\n",
       "    </tr>\n",
       "    <tr>\n",
       "      <th>4</th>\n",
       "      <td>2021-07-04T00:00:00</td>\n",
       "      <td>0</td>\n",
       "    </tr>\n",
       "  </tbody>\n",
       "</table>\n",
       "</div>"
      ],
      "text/plain": [
       "  Facebook Page new likes               Unnamed: 1\n",
       "0                    Date  New Facebook Page likes\n",
       "1     2021-07-01T00:00:00                        0\n",
       "2     2021-07-02T00:00:00                        0\n",
       "3     2021-07-03T00:00:00                        1\n",
       "4     2021-07-04T00:00:00                        0"
      ]
     },
     "execution_count": 2,
     "metadata": {},
     "output_type": "execute_result"
    }
   ],
   "source": [
    "df = pd.read_excel('meta_likes_follows.xlsx', header=0)\n",
    "df.head()"
   ]
  },
  {
   "cell_type": "code",
   "execution_count": 3,
   "id": "b44888ee-99d2-4ab5-9079-72539f366f0d",
   "metadata": {},
   "outputs": [],
   "source": [
    "df.columns = list(df.iloc[0])"
   ]
  },
  {
   "cell_type": "code",
   "execution_count": 4,
   "id": "7fe383b9-8111-44d9-82b0-a75b4d5eb973",
   "metadata": {},
   "outputs": [],
   "source": [
    "df = df.drop(index=0, axis=0)"
   ]
  },
  {
   "cell_type": "code",
   "execution_count": 5,
   "id": "f11bac82-f0ae-4b75-af41-8ceda14b1e0d",
   "metadata": {},
   "outputs": [],
   "source": [
    "# at what row index, does the FB data stop?\n",
    "limit = df[df['Date'].isnull() & df['New Facebook Page likes'].isnull()].index.values[0]"
   ]
  },
  {
   "cell_type": "code",
   "execution_count": 6,
   "id": "d1608a61-a6d7-4bc6-92f5-0e346ed573ca",
   "metadata": {},
   "outputs": [],
   "source": [
    "df_fb = df[:limit-1]"
   ]
  },
  {
   "cell_type": "code",
   "execution_count": 7,
   "id": "82d0bc2f-c078-4977-a0d8-b371ec45430f",
   "metadata": {},
   "outputs": [
    {
     "data": {
      "text/html": [
       "<div>\n",
       "<style scoped>\n",
       "    .dataframe tbody tr th:only-of-type {\n",
       "        vertical-align: middle;\n",
       "    }\n",
       "\n",
       "    .dataframe tbody tr th {\n",
       "        vertical-align: top;\n",
       "    }\n",
       "\n",
       "    .dataframe thead th {\n",
       "        text-align: right;\n",
       "    }\n",
       "</style>\n",
       "<table border=\"1\" class=\"dataframe\">\n",
       "  <thead>\n",
       "    <tr style=\"text-align: right;\">\n",
       "      <th></th>\n",
       "      <th>Date</th>\n",
       "      <th>New Facebook Page likes</th>\n",
       "    </tr>\n",
       "  </thead>\n",
       "  <tbody>\n",
       "    <tr>\n",
       "      <th>487</th>\n",
       "      <td>Date</td>\n",
       "      <td>New Instagram followers</td>\n",
       "    </tr>\n",
       "    <tr>\n",
       "      <th>488</th>\n",
       "      <td>2022-03-10T00:00:00</td>\n",
       "      <td>2</td>\n",
       "    </tr>\n",
       "    <tr>\n",
       "      <th>489</th>\n",
       "      <td>2022-03-17T00:00:00</td>\n",
       "      <td>1</td>\n",
       "    </tr>\n",
       "    <tr>\n",
       "      <th>490</th>\n",
       "      <td>2022-03-18T00:00:00</td>\n",
       "      <td>2</td>\n",
       "    </tr>\n",
       "    <tr>\n",
       "      <th>491</th>\n",
       "      <td>2022-03-19T00:00:00</td>\n",
       "      <td>1</td>\n",
       "    </tr>\n",
       "  </tbody>\n",
       "</table>\n",
       "</div>"
      ],
      "text/plain": [
       "                    Date  New Facebook Page likes\n",
       "487                 Date  New Instagram followers\n",
       "488  2022-03-10T00:00:00                        2\n",
       "489  2022-03-17T00:00:00                        1\n",
       "490  2022-03-18T00:00:00                        2\n",
       "491  2022-03-19T00:00:00                        1"
      ]
     },
     "execution_count": 7,
     "metadata": {},
     "output_type": "execute_result"
    }
   ],
   "source": [
    "df_ig = df[limit + 1:]\n",
    "\n",
    "df_ig.head()"
   ]
  },
  {
   "cell_type": "code",
   "execution_count": 8,
   "id": "bbdc33a8-ff6a-41fd-ab15-f474531bd725",
   "metadata": {},
   "outputs": [],
   "source": [
    "df_ig.columns = list(df_ig.loc[limit + 2])"
   ]
  },
  {
   "cell_type": "code",
   "execution_count": 9,
   "id": "16bd5d1f-b46d-4153-b9ef-f8f1511b40c0",
   "metadata": {},
   "outputs": [
    {
     "data": {
      "text/html": [
       "<div>\n",
       "<style scoped>\n",
       "    .dataframe tbody tr th:only-of-type {\n",
       "        vertical-align: middle;\n",
       "    }\n",
       "\n",
       "    .dataframe tbody tr th {\n",
       "        vertical-align: top;\n",
       "    }\n",
       "\n",
       "    .dataframe thead th {\n",
       "        text-align: right;\n",
       "    }\n",
       "</style>\n",
       "<table border=\"1\" class=\"dataframe\">\n",
       "  <thead>\n",
       "    <tr style=\"text-align: right;\">\n",
       "      <th></th>\n",
       "      <th>Date</th>\n",
       "      <th>New Instagram followers</th>\n",
       "    </tr>\n",
       "  </thead>\n",
       "  <tbody>\n",
       "    <tr>\n",
       "      <th>0</th>\n",
       "      <td>2022-03-10T00:00:00</td>\n",
       "      <td>2</td>\n",
       "    </tr>\n",
       "    <tr>\n",
       "      <th>1</th>\n",
       "      <td>2022-03-17T00:00:00</td>\n",
       "      <td>1</td>\n",
       "    </tr>\n",
       "    <tr>\n",
       "      <th>2</th>\n",
       "      <td>2022-03-18T00:00:00</td>\n",
       "      <td>2</td>\n",
       "    </tr>\n",
       "    <tr>\n",
       "      <th>3</th>\n",
       "      <td>2022-03-19T00:00:00</td>\n",
       "      <td>1</td>\n",
       "    </tr>\n",
       "    <tr>\n",
       "      <th>4</th>\n",
       "      <td>2022-03-22T00:00:00</td>\n",
       "      <td>2</td>\n",
       "    </tr>\n",
       "    <tr>\n",
       "      <th>...</th>\n",
       "      <td>...</td>\n",
       "      <td>...</td>\n",
       "    </tr>\n",
       "    <tr>\n",
       "      <th>82</th>\n",
       "      <td>2022-10-07T00:00:00</td>\n",
       "      <td>1</td>\n",
       "    </tr>\n",
       "    <tr>\n",
       "      <th>83</th>\n",
       "      <td>2022-10-10T00:00:00</td>\n",
       "      <td>1</td>\n",
       "    </tr>\n",
       "    <tr>\n",
       "      <th>84</th>\n",
       "      <td>2022-10-11T00:00:00</td>\n",
       "      <td>1</td>\n",
       "    </tr>\n",
       "    <tr>\n",
       "      <th>85</th>\n",
       "      <td>2022-10-17T00:00:00</td>\n",
       "      <td>2</td>\n",
       "    </tr>\n",
       "    <tr>\n",
       "      <th>86</th>\n",
       "      <td>2022-10-25T00:00:00</td>\n",
       "      <td>1</td>\n",
       "    </tr>\n",
       "  </tbody>\n",
       "</table>\n",
       "<p>87 rows × 2 columns</p>\n",
       "</div>"
      ],
      "text/plain": [
       "                   Date New Instagram followers\n",
       "0   2022-03-10T00:00:00                       2\n",
       "1   2022-03-17T00:00:00                       1\n",
       "2   2022-03-18T00:00:00                       2\n",
       "3   2022-03-19T00:00:00                       1\n",
       "4   2022-03-22T00:00:00                       2\n",
       "..                  ...                     ...\n",
       "82  2022-10-07T00:00:00                       1\n",
       "83  2022-10-10T00:00:00                       1\n",
       "84  2022-10-11T00:00:00                       1\n",
       "85  2022-10-17T00:00:00                       2\n",
       "86  2022-10-25T00:00:00                       1\n",
       "\n",
       "[87 rows x 2 columns]"
      ]
     },
     "execution_count": 9,
     "metadata": {},
     "output_type": "execute_result"
    }
   ],
   "source": [
    "df_ig.drop(index=limit + 2).reset_index(drop=True)"
   ]
  },
  {
   "cell_type": "code",
   "execution_count": 10,
   "id": "8a3f6784-db1e-40fd-a605-bf628f945179",
   "metadata": {},
   "outputs": [],
   "source": [
    "df_merged = df_fb.merge(\n",
    "                    df_ig,\n",
    "                    how='left',\n",
    "                    left_on='Date',\n",
    "                    right_on='Date'\n",
    "                )"
   ]
  },
  {
   "cell_type": "code",
   "execution_count": 11,
   "id": "8410a106-e4e2-48df-a316-6a4815917406",
   "metadata": {},
   "outputs": [],
   "source": [
    "df_merged['New Instagram followers'] = df_merged['New Instagram followers'].fillna(0)"
   ]
  },
  {
   "cell_type": "markdown",
   "id": "3f8b4af2-f989-49c6-a928-2c8aad157f1f",
   "metadata": {},
   "source": [
    "# Cleaning and Formatting FB page and IF profile visits "
   ]
  },
  {
   "cell_type": "code",
   "execution_count": 12,
   "id": "4e922f29-f021-4c75-b4ae-30b713c239ac",
   "metadata": {},
   "outputs": [
    {
     "data": {
      "text/html": [
       "<div>\n",
       "<style scoped>\n",
       "    .dataframe tbody tr th:only-of-type {\n",
       "        vertical-align: middle;\n",
       "    }\n",
       "\n",
       "    .dataframe tbody tr th {\n",
       "        vertical-align: top;\n",
       "    }\n",
       "\n",
       "    .dataframe thead th {\n",
       "        text-align: right;\n",
       "    }\n",
       "</style>\n",
       "<table border=\"1\" class=\"dataframe\">\n",
       "  <thead>\n",
       "    <tr style=\"text-align: right;\">\n",
       "      <th></th>\n",
       "      <th>Facebook Page visits</th>\n",
       "      <th>Unnamed: 1</th>\n",
       "    </tr>\n",
       "  </thead>\n",
       "  <tbody>\n",
       "    <tr>\n",
       "      <th>0</th>\n",
       "      <td>Date</td>\n",
       "      <td>Facebook Page likes</td>\n",
       "    </tr>\n",
       "    <tr>\n",
       "      <th>1</th>\n",
       "      <td>2021-07-01T00:00:00</td>\n",
       "      <td>11</td>\n",
       "    </tr>\n",
       "    <tr>\n",
       "      <th>2</th>\n",
       "      <td>2021-07-02T00:00:00</td>\n",
       "      <td>3</td>\n",
       "    </tr>\n",
       "    <tr>\n",
       "      <th>3</th>\n",
       "      <td>2021-07-03T00:00:00</td>\n",
       "      <td>1</td>\n",
       "    </tr>\n",
       "    <tr>\n",
       "      <th>4</th>\n",
       "      <td>2021-07-04T00:00:00</td>\n",
       "      <td>5</td>\n",
       "    </tr>\n",
       "    <tr>\n",
       "      <th>...</th>\n",
       "      <td>...</td>\n",
       "      <td>...</td>\n",
       "    </tr>\n",
       "    <tr>\n",
       "      <th>967</th>\n",
       "      <td>2022-10-23T00:00:00</td>\n",
       "      <td>2</td>\n",
       "    </tr>\n",
       "    <tr>\n",
       "      <th>968</th>\n",
       "      <td>2022-10-24T00:00:00</td>\n",
       "      <td>3</td>\n",
       "    </tr>\n",
       "    <tr>\n",
       "      <th>969</th>\n",
       "      <td>2022-10-25T00:00:00</td>\n",
       "      <td>8</td>\n",
       "    </tr>\n",
       "    <tr>\n",
       "      <th>970</th>\n",
       "      <td>2022-10-26T00:00:00</td>\n",
       "      <td>3</td>\n",
       "    </tr>\n",
       "    <tr>\n",
       "      <th>971</th>\n",
       "      <td>2022-10-27T00:00:00</td>\n",
       "      <td>4</td>\n",
       "    </tr>\n",
       "  </tbody>\n",
       "</table>\n",
       "<p>972 rows × 2 columns</p>\n",
       "</div>"
      ],
      "text/plain": [
       "    Facebook Page visits           Unnamed: 1\n",
       "0                   Date  Facebook Page likes\n",
       "1    2021-07-01T00:00:00                   11\n",
       "2    2021-07-02T00:00:00                    3\n",
       "3    2021-07-03T00:00:00                    1\n",
       "4    2021-07-04T00:00:00                    5\n",
       "..                   ...                  ...\n",
       "967  2022-10-23T00:00:00                    2\n",
       "968  2022-10-24T00:00:00                    3\n",
       "969  2022-10-25T00:00:00                    8\n",
       "970  2022-10-26T00:00:00                    3\n",
       "971  2022-10-27T00:00:00                    4\n",
       "\n",
       "[972 rows x 2 columns]"
      ]
     },
     "execution_count": 12,
     "metadata": {},
     "output_type": "execute_result"
    }
   ],
   "source": [
    "df = pd.read_excel('meta_page_profile.xlsx', header=0)\n",
    "df"
   ]
  },
  {
   "cell_type": "code",
   "execution_count": 13,
   "id": "e11bc68e-2cc3-4d70-9a43-4aa74b7e0f93",
   "metadata": {},
   "outputs": [],
   "source": [
    "df.columns = ['Date', 'Facebook Page visits']"
   ]
  },
  {
   "cell_type": "code",
   "execution_count": 14,
   "id": "e4dffb64-24ad-467e-9448-92cbf972d2d8",
   "metadata": {},
   "outputs": [],
   "source": [
    "df = df.drop(index=0).reset_index()"
   ]
  },
  {
   "cell_type": "code",
   "execution_count": 15,
   "id": "cc929b44-039c-47f0-83e7-66ca2391c7f8",
   "metadata": {},
   "outputs": [],
   "source": [
    "# at what row index, does the FB data stop?\n",
    "limit2 = df[df['Date'].isnull() & df['Facebook Page visits'].isnull()].index.values[0]"
   ]
  },
  {
   "cell_type": "code",
   "execution_count": 16,
   "id": "bebb30f5-7f6b-4d3c-ad3f-6c532f15e9be",
   "metadata": {},
   "outputs": [
    {
     "data": {
      "text/html": [
       "<div>\n",
       "<style scoped>\n",
       "    .dataframe tbody tr th:only-of-type {\n",
       "        vertical-align: middle;\n",
       "    }\n",
       "\n",
       "    .dataframe tbody tr th {\n",
       "        vertical-align: top;\n",
       "    }\n",
       "\n",
       "    .dataframe thead th {\n",
       "        text-align: right;\n",
       "    }\n",
       "</style>\n",
       "<table border=\"1\" class=\"dataframe\">\n",
       "  <thead>\n",
       "    <tr style=\"text-align: right;\">\n",
       "      <th></th>\n",
       "      <th>Date</th>\n",
       "      <th>Facebook Page visits</th>\n",
       "    </tr>\n",
       "  </thead>\n",
       "  <tbody>\n",
       "    <tr>\n",
       "      <th>0</th>\n",
       "      <td>2021-07-01T00:00:00</td>\n",
       "      <td>11</td>\n",
       "    </tr>\n",
       "    <tr>\n",
       "      <th>1</th>\n",
       "      <td>2021-07-02T00:00:00</td>\n",
       "      <td>3</td>\n",
       "    </tr>\n",
       "    <tr>\n",
       "      <th>2</th>\n",
       "      <td>2021-07-03T00:00:00</td>\n",
       "      <td>1</td>\n",
       "    </tr>\n",
       "    <tr>\n",
       "      <th>3</th>\n",
       "      <td>2021-07-04T00:00:00</td>\n",
       "      <td>5</td>\n",
       "    </tr>\n",
       "    <tr>\n",
       "      <th>4</th>\n",
       "      <td>2021-07-05T00:00:00</td>\n",
       "      <td>3</td>\n",
       "    </tr>\n",
       "    <tr>\n",
       "      <th>...</th>\n",
       "      <td>...</td>\n",
       "      <td>...</td>\n",
       "    </tr>\n",
       "    <tr>\n",
       "      <th>479</th>\n",
       "      <td>2022-10-23T00:00:00</td>\n",
       "      <td>3</td>\n",
       "    </tr>\n",
       "    <tr>\n",
       "      <th>480</th>\n",
       "      <td>2022-10-24T00:00:00</td>\n",
       "      <td>0</td>\n",
       "    </tr>\n",
       "    <tr>\n",
       "      <th>481</th>\n",
       "      <td>2022-10-25T00:00:00</td>\n",
       "      <td>1</td>\n",
       "    </tr>\n",
       "    <tr>\n",
       "      <th>482</th>\n",
       "      <td>2022-10-26T00:00:00</td>\n",
       "      <td>2</td>\n",
       "    </tr>\n",
       "    <tr>\n",
       "      <th>483</th>\n",
       "      <td>2022-10-27T00:00:00</td>\n",
       "      <td>0</td>\n",
       "    </tr>\n",
       "  </tbody>\n",
       "</table>\n",
       "<p>484 rows × 2 columns</p>\n",
       "</div>"
      ],
      "text/plain": [
       "                    Date Facebook Page visits\n",
       "0    2021-07-01T00:00:00                   11\n",
       "1    2021-07-02T00:00:00                    3\n",
       "2    2021-07-03T00:00:00                    1\n",
       "3    2021-07-04T00:00:00                    5\n",
       "4    2021-07-05T00:00:00                    3\n",
       "..                   ...                  ...\n",
       "479  2022-10-23T00:00:00                    3\n",
       "480  2022-10-24T00:00:00                    0\n",
       "481  2022-10-25T00:00:00                    1\n",
       "482  2022-10-26T00:00:00                    2\n",
       "483  2022-10-27T00:00:00                    0\n",
       "\n",
       "[484 rows x 2 columns]"
      ]
     },
     "execution_count": 16,
     "metadata": {},
     "output_type": "execute_result"
    }
   ],
   "source": [
    "df_fb2 = df[:limit2].reset_index(drop=True).drop(columns='index')\n",
    "df_fb2 "
   ]
  },
  {
   "cell_type": "code",
   "execution_count": 17,
   "id": "ef17d651-b673-4cba-abbb-53b3a79d9b2b",
   "metadata": {},
   "outputs": [],
   "source": [
    "df_ig2 = df[limit2+3:].reset_index(drop=True).drop(columns='index')"
   ]
  },
  {
   "cell_type": "code",
   "execution_count": 18,
   "id": "e70bb3f5-bc64-4845-bef9-c69e084872ef",
   "metadata": {},
   "outputs": [],
   "source": [
    "df_ig2.columns = ['Date', 'Instagram Profile Visits']"
   ]
  },
  {
   "cell_type": "code",
   "execution_count": 19,
   "id": "021f941e-4584-44d9-b56d-a6bdc4105815",
   "metadata": {},
   "outputs": [],
   "source": [
    "df_merged2 = df_fb2.merge(\n",
    "    df_ig2,\n",
    "    how='outer',\n",
    "    left_on='Date',\n",
    "    right_on='Date'\n",
    ")"
   ]
  },
  {
   "cell_type": "code",
   "execution_count": null,
   "id": "df5350c3-3a62-45f4-8ea6-5a2a061af71a",
   "metadata": {},
   "outputs": [],
   "source": []
  },
  {
   "cell_type": "markdown",
   "id": "8889269a-616b-4a5c-9e1e-b7a144f9e122",
   "metadata": {},
   "source": [
    "# Cleaning and Formatting FB and IG Reach"
   ]
  },
  {
   "cell_type": "code",
   "execution_count": 20,
   "id": "a7cd12b0-19f1-4b56-a308-308b97fc9863",
   "metadata": {},
   "outputs": [],
   "source": [
    "df = pd.read_excel('meta_reach.xlsx')"
   ]
  },
  {
   "cell_type": "code",
   "execution_count": 21,
   "id": "f6393549-185b-48fa-b414-19b0cddc2cac",
   "metadata": {},
   "outputs": [],
   "source": [
    "df.columns = df.iloc[0]"
   ]
  },
  {
   "cell_type": "code",
   "execution_count": 22,
   "id": "ed4985d6-436a-431b-a5b8-edb3bf74a468",
   "metadata": {},
   "outputs": [],
   "source": [
    "df = df.drop(index=0, axis=0)"
   ]
  },
  {
   "cell_type": "code",
   "execution_count": 23,
   "id": "b8278c44-9425-433d-91de-d70f5f98cd30",
   "metadata": {},
   "outputs": [
    {
     "data": {
      "text/plain": [
       "Index(['Date', 'Facebook Page reach'], dtype='object', name=0)"
      ]
     },
     "execution_count": 23,
     "metadata": {},
     "output_type": "execute_result"
    }
   ],
   "source": [
    "df.columns"
   ]
  },
  {
   "cell_type": "code",
   "execution_count": 24,
   "id": "07b8494c-fcee-411e-8df6-8fd200bbdf93",
   "metadata": {},
   "outputs": [],
   "source": [
    "limit3 = df[df['Date'].isna() & df['Facebook Page reach'].isna()].index.values[0]"
   ]
  },
  {
   "cell_type": "code",
   "execution_count": 25,
   "id": "796f29cd-5821-45f1-a330-d7b4d525ccad",
   "metadata": {},
   "outputs": [],
   "source": [
    "df_fb3 = df[:limit3-1]"
   ]
  },
  {
   "cell_type": "code",
   "execution_count": 26,
   "id": "e38251ad-8230-4974-b1e4-a382c1395c76",
   "metadata": {},
   "outputs": [],
   "source": [
    "df_ig3 = df[limit + 2:].reset_index(drop=True)"
   ]
  },
  {
   "cell_type": "code",
   "execution_count": 27,
   "id": "e09fe59a-0097-43f1-95f9-d0036554728b",
   "metadata": {},
   "outputs": [],
   "source": [
    "df_ig3.columns = ['Date', 'Instagram reach']"
   ]
  },
  {
   "cell_type": "code",
   "execution_count": 28,
   "id": "4e8b42ce-440a-4ffc-9dd5-17342b799777",
   "metadata": {},
   "outputs": [],
   "source": [
    "df_merged3 = df_fb3.merge(\n",
    "    df_ig3,\n",
    "    how='outer',\n",
    "    left_on='Date',\n",
    "    right_on='Date'\n",
    ")"
   ]
  },
  {
   "cell_type": "markdown",
   "id": "b0d49c7d-6b3c-4f45-a29d-0fc194c10a75",
   "metadata": {},
   "source": [
    "# Merge the three datasets"
   ]
  },
  {
   "cell_type": "code",
   "execution_count": 29,
   "id": "1ee76e14-9b5e-4cfd-a1de-b73b04e1e0b9",
   "metadata": {},
   "outputs": [
    {
     "data": {
      "text/html": [
       "<div>\n",
       "<style scoped>\n",
       "    .dataframe tbody tr th:only-of-type {\n",
       "        vertical-align: middle;\n",
       "    }\n",
       "\n",
       "    .dataframe tbody tr th {\n",
       "        vertical-align: top;\n",
       "    }\n",
       "\n",
       "    .dataframe thead th {\n",
       "        text-align: right;\n",
       "    }\n",
       "</style>\n",
       "<table border=\"1\" class=\"dataframe\">\n",
       "  <thead>\n",
       "    <tr style=\"text-align: right;\">\n",
       "      <th></th>\n",
       "      <th>Date</th>\n",
       "      <th>New Facebook Page likes</th>\n",
       "      <th>New Instagram followers</th>\n",
       "    </tr>\n",
       "  </thead>\n",
       "  <tbody>\n",
       "    <tr>\n",
       "      <th>0</th>\n",
       "      <td>2021-07-01T00:00:00</td>\n",
       "      <td>0</td>\n",
       "      <td>0</td>\n",
       "    </tr>\n",
       "    <tr>\n",
       "      <th>1</th>\n",
       "      <td>2021-07-02T00:00:00</td>\n",
       "      <td>0</td>\n",
       "      <td>0</td>\n",
       "    </tr>\n",
       "    <tr>\n",
       "      <th>2</th>\n",
       "      <td>2021-07-03T00:00:00</td>\n",
       "      <td>1</td>\n",
       "      <td>0</td>\n",
       "    </tr>\n",
       "    <tr>\n",
       "      <th>3</th>\n",
       "      <td>2021-07-04T00:00:00</td>\n",
       "      <td>0</td>\n",
       "      <td>0</td>\n",
       "    </tr>\n",
       "    <tr>\n",
       "      <th>4</th>\n",
       "      <td>2021-07-05T00:00:00</td>\n",
       "      <td>0</td>\n",
       "      <td>0</td>\n",
       "    </tr>\n",
       "    <tr>\n",
       "      <th>...</th>\n",
       "      <td>...</td>\n",
       "      <td>...</td>\n",
       "      <td>...</td>\n",
       "    </tr>\n",
       "    <tr>\n",
       "      <th>479</th>\n",
       "      <td>2022-10-23T00:00:00</td>\n",
       "      <td>0</td>\n",
       "      <td>0</td>\n",
       "    </tr>\n",
       "    <tr>\n",
       "      <th>480</th>\n",
       "      <td>2022-10-24T00:00:00</td>\n",
       "      <td>0</td>\n",
       "      <td>0</td>\n",
       "    </tr>\n",
       "    <tr>\n",
       "      <th>481</th>\n",
       "      <td>2022-10-25T00:00:00</td>\n",
       "      <td>0</td>\n",
       "      <td>1</td>\n",
       "    </tr>\n",
       "    <tr>\n",
       "      <th>482</th>\n",
       "      <td>2022-10-26T00:00:00</td>\n",
       "      <td>0</td>\n",
       "      <td>0</td>\n",
       "    </tr>\n",
       "    <tr>\n",
       "      <th>483</th>\n",
       "      <td>2022-10-27T00:00:00</td>\n",
       "      <td>0</td>\n",
       "      <td>0</td>\n",
       "    </tr>\n",
       "  </tbody>\n",
       "</table>\n",
       "<p>484 rows × 3 columns</p>\n",
       "</div>"
      ],
      "text/plain": [
       "                    Date New Facebook Page likes  New Instagram followers\n",
       "0    2021-07-01T00:00:00                       0                        0\n",
       "1    2021-07-02T00:00:00                       0                        0\n",
       "2    2021-07-03T00:00:00                       1                        0\n",
       "3    2021-07-04T00:00:00                       0                        0\n",
       "4    2021-07-05T00:00:00                       0                        0\n",
       "..                   ...                     ...                      ...\n",
       "479  2022-10-23T00:00:00                       0                        0\n",
       "480  2022-10-24T00:00:00                       0                        0\n",
       "481  2022-10-25T00:00:00                       0                        1\n",
       "482  2022-10-26T00:00:00                       0                        0\n",
       "483  2022-10-27T00:00:00                       0                        0\n",
       "\n",
       "[484 rows x 3 columns]"
      ]
     },
     "execution_count": 29,
     "metadata": {},
     "output_type": "execute_result"
    }
   ],
   "source": [
    "df_merged"
   ]
  },
  {
   "cell_type": "code",
   "execution_count": 30,
   "id": "665b95e5-6c45-4a66-986d-f7a7c40c555e",
   "metadata": {},
   "outputs": [
    {
     "data": {
      "text/html": [
       "<div>\n",
       "<style scoped>\n",
       "    .dataframe tbody tr th:only-of-type {\n",
       "        vertical-align: middle;\n",
       "    }\n",
       "\n",
       "    .dataframe tbody tr th {\n",
       "        vertical-align: top;\n",
       "    }\n",
       "\n",
       "    .dataframe thead th {\n",
       "        text-align: right;\n",
       "    }\n",
       "</style>\n",
       "<table border=\"1\" class=\"dataframe\">\n",
       "  <thead>\n",
       "    <tr style=\"text-align: right;\">\n",
       "      <th></th>\n",
       "      <th>Date</th>\n",
       "      <th>Facebook Page visits</th>\n",
       "      <th>Instagram Profile Visits</th>\n",
       "    </tr>\n",
       "  </thead>\n",
       "  <tbody>\n",
       "    <tr>\n",
       "      <th>0</th>\n",
       "      <td>2021-07-01T00:00:00</td>\n",
       "      <td>11</td>\n",
       "      <td>11</td>\n",
       "    </tr>\n",
       "    <tr>\n",
       "      <th>1</th>\n",
       "      <td>2021-07-02T00:00:00</td>\n",
       "      <td>3</td>\n",
       "      <td>15</td>\n",
       "    </tr>\n",
       "    <tr>\n",
       "      <th>2</th>\n",
       "      <td>2021-07-03T00:00:00</td>\n",
       "      <td>1</td>\n",
       "      <td>0</td>\n",
       "    </tr>\n",
       "    <tr>\n",
       "      <th>3</th>\n",
       "      <td>2021-07-04T00:00:00</td>\n",
       "      <td>5</td>\n",
       "      <td>6</td>\n",
       "    </tr>\n",
       "    <tr>\n",
       "      <th>4</th>\n",
       "      <td>2021-07-05T00:00:00</td>\n",
       "      <td>3</td>\n",
       "      <td>10</td>\n",
       "    </tr>\n",
       "    <tr>\n",
       "      <th>...</th>\n",
       "      <td>...</td>\n",
       "      <td>...</td>\n",
       "      <td>...</td>\n",
       "    </tr>\n",
       "    <tr>\n",
       "      <th>479</th>\n",
       "      <td>2022-10-23T00:00:00</td>\n",
       "      <td>3</td>\n",
       "      <td>2</td>\n",
       "    </tr>\n",
       "    <tr>\n",
       "      <th>480</th>\n",
       "      <td>2022-10-24T00:00:00</td>\n",
       "      <td>0</td>\n",
       "      <td>3</td>\n",
       "    </tr>\n",
       "    <tr>\n",
       "      <th>481</th>\n",
       "      <td>2022-10-25T00:00:00</td>\n",
       "      <td>1</td>\n",
       "      <td>8</td>\n",
       "    </tr>\n",
       "    <tr>\n",
       "      <th>482</th>\n",
       "      <td>2022-10-26T00:00:00</td>\n",
       "      <td>2</td>\n",
       "      <td>3</td>\n",
       "    </tr>\n",
       "    <tr>\n",
       "      <th>483</th>\n",
       "      <td>2022-10-27T00:00:00</td>\n",
       "      <td>0</td>\n",
       "      <td>4</td>\n",
       "    </tr>\n",
       "  </tbody>\n",
       "</table>\n",
       "<p>484 rows × 3 columns</p>\n",
       "</div>"
      ],
      "text/plain": [
       "                    Date Facebook Page visits Instagram Profile Visits\n",
       "0    2021-07-01T00:00:00                   11                       11\n",
       "1    2021-07-02T00:00:00                    3                       15\n",
       "2    2021-07-03T00:00:00                    1                        0\n",
       "3    2021-07-04T00:00:00                    5                        6\n",
       "4    2021-07-05T00:00:00                    3                       10\n",
       "..                   ...                  ...                      ...\n",
       "479  2022-10-23T00:00:00                    3                        2\n",
       "480  2022-10-24T00:00:00                    0                        3\n",
       "481  2022-10-25T00:00:00                    1                        8\n",
       "482  2022-10-26T00:00:00                    2                        3\n",
       "483  2022-10-27T00:00:00                    0                        4\n",
       "\n",
       "[484 rows x 3 columns]"
      ]
     },
     "execution_count": 30,
     "metadata": {},
     "output_type": "execute_result"
    }
   ],
   "source": [
    "df_merged2"
   ]
  },
  {
   "cell_type": "code",
   "execution_count": 31,
   "id": "2f6d8340-6867-4391-bc10-af54f8456b9c",
   "metadata": {},
   "outputs": [
    {
     "data": {
      "text/html": [
       "<div>\n",
       "<style scoped>\n",
       "    .dataframe tbody tr th:only-of-type {\n",
       "        vertical-align: middle;\n",
       "    }\n",
       "\n",
       "    .dataframe tbody tr th {\n",
       "        vertical-align: top;\n",
       "    }\n",
       "\n",
       "    .dataframe thead th {\n",
       "        text-align: right;\n",
       "    }\n",
       "</style>\n",
       "<table border=\"1\" class=\"dataframe\">\n",
       "  <thead>\n",
       "    <tr style=\"text-align: right;\">\n",
       "      <th></th>\n",
       "      <th>Date</th>\n",
       "      <th>Facebook Page reach</th>\n",
       "      <th>Instagram reach</th>\n",
       "    </tr>\n",
       "  </thead>\n",
       "  <tbody>\n",
       "    <tr>\n",
       "      <th>0</th>\n",
       "      <td>2021-07-01T00:00:00</td>\n",
       "      <td>132</td>\n",
       "      <td>122</td>\n",
       "    </tr>\n",
       "    <tr>\n",
       "      <th>1</th>\n",
       "      <td>2021-07-02T00:00:00</td>\n",
       "      <td>178</td>\n",
       "      <td>224</td>\n",
       "    </tr>\n",
       "    <tr>\n",
       "      <th>2</th>\n",
       "      <td>2021-07-03T00:00:00</td>\n",
       "      <td>322</td>\n",
       "      <td>177</td>\n",
       "    </tr>\n",
       "    <tr>\n",
       "      <th>3</th>\n",
       "      <td>2021-07-04T00:00:00</td>\n",
       "      <td>189</td>\n",
       "      <td>106</td>\n",
       "    </tr>\n",
       "    <tr>\n",
       "      <th>4</th>\n",
       "      <td>2021-07-05T00:00:00</td>\n",
       "      <td>167</td>\n",
       "      <td>122</td>\n",
       "    </tr>\n",
       "    <tr>\n",
       "      <th>...</th>\n",
       "      <td>...</td>\n",
       "      <td>...</td>\n",
       "      <td>...</td>\n",
       "    </tr>\n",
       "    <tr>\n",
       "      <th>479</th>\n",
       "      <td>2022-10-23T00:00:00</td>\n",
       "      <td>25</td>\n",
       "      <td>25</td>\n",
       "    </tr>\n",
       "    <tr>\n",
       "      <th>480</th>\n",
       "      <td>2022-10-24T00:00:00</td>\n",
       "      <td>27</td>\n",
       "      <td>16</td>\n",
       "    </tr>\n",
       "    <tr>\n",
       "      <th>481</th>\n",
       "      <td>2022-10-25T00:00:00</td>\n",
       "      <td>42</td>\n",
       "      <td>54</td>\n",
       "    </tr>\n",
       "    <tr>\n",
       "      <th>482</th>\n",
       "      <td>2022-10-26T00:00:00</td>\n",
       "      <td>30</td>\n",
       "      <td>102</td>\n",
       "    </tr>\n",
       "    <tr>\n",
       "      <th>483</th>\n",
       "      <td>2022-10-27T00:00:00</td>\n",
       "      <td>35</td>\n",
       "      <td>74</td>\n",
       "    </tr>\n",
       "  </tbody>\n",
       "</table>\n",
       "<p>484 rows × 3 columns</p>\n",
       "</div>"
      ],
      "text/plain": [
       "                    Date Facebook Page reach Instagram reach\n",
       "0    2021-07-01T00:00:00                 132             122\n",
       "1    2021-07-02T00:00:00                 178             224\n",
       "2    2021-07-03T00:00:00                 322             177\n",
       "3    2021-07-04T00:00:00                 189             106\n",
       "4    2021-07-05T00:00:00                 167             122\n",
       "..                   ...                 ...             ...\n",
       "479  2022-10-23T00:00:00                  25              25\n",
       "480  2022-10-24T00:00:00                  27              16\n",
       "481  2022-10-25T00:00:00                  42              54\n",
       "482  2022-10-26T00:00:00                  30             102\n",
       "483  2022-10-27T00:00:00                  35              74\n",
       "\n",
       "[484 rows x 3 columns]"
      ]
     },
     "execution_count": 31,
     "metadata": {},
     "output_type": "execute_result"
    }
   ],
   "source": [
    "df_merged3"
   ]
  },
  {
   "cell_type": "code",
   "execution_count": 32,
   "id": "16f0c999-9930-4c6d-a9f9-20102fa07e24",
   "metadata": {},
   "outputs": [],
   "source": [
    "df_mega_merge = df_merged.merge(df_merged2)"
   ]
  },
  {
   "cell_type": "code",
   "execution_count": 33,
   "id": "11419b61-8de9-44ff-9bbc-d5f4e6d644ed",
   "metadata": {},
   "outputs": [],
   "source": [
    "df_mega_merge = df_mega_merge.merge(df_merged3)"
   ]
  },
  {
   "cell_type": "code",
   "execution_count": 34,
   "id": "8bd02853-e400-4c1c-a337-f01177731411",
   "metadata": {},
   "outputs": [],
   "source": [
    "df_mega_merge.to_excel('meta_toCopy.xlsx', index=False)"
   ]
  }
 ],
 "metadata": {
  "kernelspec": {
   "display_name": "Python 3 (ipykernel)",
   "language": "python",
   "name": "python3"
  },
  "language_info": {
   "codemirror_mode": {
    "name": "ipython",
    "version": 3
   },
   "file_extension": ".py",
   "mimetype": "text/x-python",
   "name": "python",
   "nbconvert_exporter": "python",
   "pygments_lexer": "ipython3",
   "version": "3.9.12"
  }
 },
 "nbformat": 4,
 "nbformat_minor": 5
}
