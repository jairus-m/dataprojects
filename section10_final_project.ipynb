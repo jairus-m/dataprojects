{
 "cells": [
  {
   "cell_type": "markdown",
   "id": "a279c454",
   "metadata": {
    "tags": []
   },
   "source": [
    "# Final Project: Maven Mart Analysis\n",
    "\n",
    "### Main Skills to focus on:\n",
    "    - utilizing the Pandas, Numpy, Matplotlib libraries\n",
    "    - importing specific data in the cleanest and most efficient way possible while optimizing memory useage\n",
    "    - exploratory data analysis (descrciptive statistics, missing data, outliers, understanding data, data cleaning, etc.)\n",
    "    - creating columns and ammending currnet ones for analysis\n",
    "    - data agggregations (pivot tables, grouping, etc.)\n",
    "    - filtering data with SQL syntax via PowerQuery and iloc/loc methods\n",
    "    - visualization of data \n",
    "    - exporting data with proper formats \n",
    "\n",
    "# Project Outline:\n",
    "\n",
    "## Objective 1: Import Store Transactions Data\n",
    "1. set the appropiate data types\n",
    "2. use certain columns only (`household_key`, `BASKET_ID`, `DAY`, `PRODUCT_ID`, `QUANTITY`, and `SALES_VALUE`)\n",
    "\n",
    "## Objective 2: Time Based Analysis \n",
    "1. create additional columns 'total_sales' and 'date'\n",
    "2. set the index of transactions df to 'date'\n",
    "3. Analysis\n",
    "    - Plot the sum of sales by month. Are sales growing over time?\n",
    "    - Next, plot the same series after filtering down to dates April 2016 and October 2017.\n",
    "    - Then, plot the sum of monthly sales in 2016 vs the monthly sales 2017.\n",
    "    - Finally, plot total sales by day of week.\n",
    "    \n",
    "## Objective 3: Demographic Data Analysis\n",
    "1. read in the hh_demographic.csv file \n",
    "3. use certain columns only ('AGE_DESC', 'INCOME_DESC', 'household_key', and 'HH_COMP_DESC'\n",
    "4. convert the appropriate columns to the category dtype\n",
    "5. Analysis\n",
    "    - Group the transactions table by household_id, and calculate the sum of SALES VALUE by household.\n",
    "    - Once you've done that, join the demographics DataFrame to the aggregated transactions table. Since we're interested in analyzing the demographic data we have, make sure not to include rows from transactions that don't match.\n",
    "    - Plot the sum of sales by age_desc and income_desc (in separate charts).\n",
    "    - Then, create a pivot table of the mean household sales by AGE_DESC and HH_COMP_DESC. Which of our demographics have the highest average sales?\n",
    "    \n",
    "## Objective 4: Export\n",
    "1. Export your pivot table (from the last part of objective 3) to an excel file. Make sure to provide a sheet name."
   ]
  },
  {
   "cell_type": "code",
   "execution_count": 43,
   "id": "e57f5a81",
   "metadata": {},
   "outputs": [],
   "source": [
    "import pandas as pd\n",
    "import numpy as np\n",
    "import seaborn as sns\n",
    "import calmap"
   ]
  },
  {
   "cell_type": "code",
   "execution_count": 2,
   "id": "c6fa5da7",
   "metadata": {},
   "outputs": [],
   "source": [
    "# import store transactions data\n",
    "# set appropriate dtypes\n",
    "# use certain columns only \n",
    "\n",
    "transactions = pd.read_csv('/Users/jairusmartinez/Desktop/Python_Data_Analysis /Pandas Course Resources/project_data/project_transactions.csv',\n",
    "                           dtype={'household_key': 'Int16', 'DAY': 'Int16', 'QUANTITY': 'Int32'},\n",
    "                           usecols=['household_key', 'BASKET_ID', 'DAY', 'PRODUCT_ID', 'QUANTITY', 'SALES_VALUE']\n",
    "                          )"
   ]
  },
  {
   "cell_type": "code",
   "execution_count": 5,
   "id": "20d7e7ad",
   "metadata": {},
   "outputs": [
    {
     "name": "stdout",
     "output_type": "stream",
     "text": [
      "<class 'pandas.core.frame.DataFrame'>\n",
      "RangeIndex: 2146311 entries, 0 to 2146310\n",
      "Data columns (total 6 columns):\n",
      " #   Column         Dtype  \n",
      "---  ------         -----  \n",
      " 0   household_key  Int16  \n",
      " 1   BASKET_ID      int64  \n",
      " 2   DAY            Int16  \n",
      " 3   PRODUCT_ID     int64  \n",
      " 4   QUANTITY       Int32  \n",
      " 5   SALES_VALUE    float64\n",
      "dtypes: Int16(2), Int32(1), float64(1), int64(2)\n",
      "memory usage: 71.6 MB\n"
     ]
    }
   ],
   "source": [
    "# look at the dtypes, columns, and memory useage\n",
    "\n",
    "transactions.info(memory_usage='deep')"
   ]
  },
  {
   "cell_type": "code",
   "execution_count": 6,
   "id": "2cc2f57b-e989-4aac-954b-e2d89a5ec99f",
   "metadata": {},
   "outputs": [
    {
     "data": {
      "text/html": [
       "<div>\n",
       "<style scoped>\n",
       "    .dataframe tbody tr th:only-of-type {\n",
       "        vertical-align: middle;\n",
       "    }\n",
       "\n",
       "    .dataframe tbody tr th {\n",
       "        vertical-align: top;\n",
       "    }\n",
       "\n",
       "    .dataframe thead th {\n",
       "        text-align: right;\n",
       "    }\n",
       "</style>\n",
       "<table border=\"1\" class=\"dataframe\">\n",
       "  <thead>\n",
       "    <tr style=\"text-align: right;\">\n",
       "      <th></th>\n",
       "      <th>household_key</th>\n",
       "      <th>BASKET_ID</th>\n",
       "      <th>DAY</th>\n",
       "      <th>PRODUCT_ID</th>\n",
       "      <th>QUANTITY</th>\n",
       "      <th>SALES_VALUE</th>\n",
       "    </tr>\n",
       "  </thead>\n",
       "  <tbody>\n",
       "    <tr>\n",
       "      <th>0</th>\n",
       "      <td>1364</td>\n",
       "      <td>26984896261</td>\n",
       "      <td>1</td>\n",
       "      <td>842930</td>\n",
       "      <td>1</td>\n",
       "      <td>2.19</td>\n",
       "    </tr>\n",
       "    <tr>\n",
       "      <th>1</th>\n",
       "      <td>1364</td>\n",
       "      <td>26984896261</td>\n",
       "      <td>1</td>\n",
       "      <td>897044</td>\n",
       "      <td>1</td>\n",
       "      <td>2.99</td>\n",
       "    </tr>\n",
       "    <tr>\n",
       "      <th>2</th>\n",
       "      <td>1364</td>\n",
       "      <td>26984896261</td>\n",
       "      <td>1</td>\n",
       "      <td>920955</td>\n",
       "      <td>1</td>\n",
       "      <td>3.09</td>\n",
       "    </tr>\n",
       "    <tr>\n",
       "      <th>3</th>\n",
       "      <td>1364</td>\n",
       "      <td>26984896261</td>\n",
       "      <td>1</td>\n",
       "      <td>937406</td>\n",
       "      <td>1</td>\n",
       "      <td>2.50</td>\n",
       "    </tr>\n",
       "    <tr>\n",
       "      <th>4</th>\n",
       "      <td>1364</td>\n",
       "      <td>26984896261</td>\n",
       "      <td>1</td>\n",
       "      <td>981760</td>\n",
       "      <td>1</td>\n",
       "      <td>0.60</td>\n",
       "    </tr>\n",
       "    <tr>\n",
       "      <th>...</th>\n",
       "      <td>...</td>\n",
       "      <td>...</td>\n",
       "      <td>...</td>\n",
       "      <td>...</td>\n",
       "      <td>...</td>\n",
       "      <td>...</td>\n",
       "    </tr>\n",
       "    <tr>\n",
       "      <th>2146306</th>\n",
       "      <td>1598</td>\n",
       "      <td>42305362535</td>\n",
       "      <td>711</td>\n",
       "      <td>92130</td>\n",
       "      <td>1</td>\n",
       "      <td>0.99</td>\n",
       "    </tr>\n",
       "    <tr>\n",
       "      <th>2146307</th>\n",
       "      <td>1598</td>\n",
       "      <td>42305362535</td>\n",
       "      <td>711</td>\n",
       "      <td>114102</td>\n",
       "      <td>1</td>\n",
       "      <td>8.89</td>\n",
       "    </tr>\n",
       "    <tr>\n",
       "      <th>2146308</th>\n",
       "      <td>1598</td>\n",
       "      <td>42305362535</td>\n",
       "      <td>711</td>\n",
       "      <td>133449</td>\n",
       "      <td>1</td>\n",
       "      <td>6.99</td>\n",
       "    </tr>\n",
       "    <tr>\n",
       "      <th>2146309</th>\n",
       "      <td>1598</td>\n",
       "      <td>42305362535</td>\n",
       "      <td>711</td>\n",
       "      <td>6923644</td>\n",
       "      <td>1</td>\n",
       "      <td>4.50</td>\n",
       "    </tr>\n",
       "    <tr>\n",
       "      <th>2146310</th>\n",
       "      <td>1598</td>\n",
       "      <td>42305362535</td>\n",
       "      <td>711</td>\n",
       "      <td>14055192</td>\n",
       "      <td>1</td>\n",
       "      <td>6.99</td>\n",
       "    </tr>\n",
       "  </tbody>\n",
       "</table>\n",
       "<p>2146311 rows × 6 columns</p>\n",
       "</div>"
      ],
      "text/plain": [
       "         household_key    BASKET_ID  DAY  PRODUCT_ID  QUANTITY  SALES_VALUE\n",
       "0                 1364  26984896261    1      842930         1         2.19\n",
       "1                 1364  26984896261    1      897044         1         2.99\n",
       "2                 1364  26984896261    1      920955         1         3.09\n",
       "3                 1364  26984896261    1      937406         1         2.50\n",
       "4                 1364  26984896261    1      981760         1         0.60\n",
       "...                ...          ...  ...         ...       ...          ...\n",
       "2146306           1598  42305362535  711       92130         1         0.99\n",
       "2146307           1598  42305362535  711      114102         1         8.89\n",
       "2146308           1598  42305362535  711      133449         1         6.99\n",
       "2146309           1598  42305362535  711     6923644         1         4.50\n",
       "2146310           1598  42305362535  711    14055192         1         6.99\n",
       "\n",
       "[2146311 rows x 6 columns]"
      ]
     },
     "execution_count": 6,
     "metadata": {},
     "output_type": "execute_result"
    }
   ],
   "source": [
    "# preview data\n",
    "\n",
    "transactions"
   ]
  },
  {
   "cell_type": "code",
   "execution_count": 7,
   "id": "6f0f87d1",
   "metadata": {},
   "outputs": [
    {
     "data": {
      "text/html": [
       "<div>\n",
       "<style scoped>\n",
       "    .dataframe tbody tr th:only-of-type {\n",
       "        vertical-align: middle;\n",
       "    }\n",
       "\n",
       "    .dataframe tbody tr th {\n",
       "        vertical-align: top;\n",
       "    }\n",
       "\n",
       "    .dataframe thead th {\n",
       "        text-align: right;\n",
       "    }\n",
       "</style>\n",
       "<table border=\"1\" class=\"dataframe\">\n",
       "  <thead>\n",
       "    <tr style=\"text-align: right;\">\n",
       "      <th></th>\n",
       "      <th>household_key</th>\n",
       "      <th>BASKET_ID</th>\n",
       "      <th>DAY</th>\n",
       "      <th>PRODUCT_ID</th>\n",
       "      <th>QUANTITY</th>\n",
       "      <th>SALES_VALUE</th>\n",
       "    </tr>\n",
       "  </thead>\n",
       "  <tbody>\n",
       "    <tr>\n",
       "      <th>count</th>\n",
       "      <td>2146311.00</td>\n",
       "      <td>2.146311e+06</td>\n",
       "      <td>2146311.00</td>\n",
       "      <td>2146311.00</td>\n",
       "      <td>2146311.00</td>\n",
       "      <td>2146311.00</td>\n",
       "    </tr>\n",
       "    <tr>\n",
       "      <th>mean</th>\n",
       "      <td>1056.23</td>\n",
       "      <td>3.404897e+10</td>\n",
       "      <td>389.51</td>\n",
       "      <td>2884714.94</td>\n",
       "      <td>100.97</td>\n",
       "      <td>3.11</td>\n",
       "    </tr>\n",
       "    <tr>\n",
       "      <th>std</th>\n",
       "      <td>605.01</td>\n",
       "      <td>4.723748e+09</td>\n",
       "      <td>190.05</td>\n",
       "      <td>3831949.29</td>\n",
       "      <td>1152.36</td>\n",
       "      <td>4.19</td>\n",
       "    </tr>\n",
       "    <tr>\n",
       "      <th>min</th>\n",
       "      <td>1.00</td>\n",
       "      <td>2.698490e+10</td>\n",
       "      <td>1.00</td>\n",
       "      <td>25671.00</td>\n",
       "      <td>0.00</td>\n",
       "      <td>0.00</td>\n",
       "    </tr>\n",
       "    <tr>\n",
       "      <th>25%</th>\n",
       "      <td>548.00</td>\n",
       "      <td>3.040798e+10</td>\n",
       "      <td>229.00</td>\n",
       "      <td>917231.00</td>\n",
       "      <td>1.00</td>\n",
       "      <td>1.29</td>\n",
       "    </tr>\n",
       "    <tr>\n",
       "      <th>50%</th>\n",
       "      <td>1042.00</td>\n",
       "      <td>3.281176e+10</td>\n",
       "      <td>392.00</td>\n",
       "      <td>1027960.00</td>\n",
       "      <td>1.00</td>\n",
       "      <td>2.00</td>\n",
       "    </tr>\n",
       "    <tr>\n",
       "      <th>75%</th>\n",
       "      <td>1581.00</td>\n",
       "      <td>4.012804e+10</td>\n",
       "      <td>555.00</td>\n",
       "      <td>1132771.00</td>\n",
       "      <td>1.00</td>\n",
       "      <td>3.49</td>\n",
       "    </tr>\n",
       "    <tr>\n",
       "      <th>max</th>\n",
       "      <td>2099.00</td>\n",
       "      <td>4.230536e+10</td>\n",
       "      <td>711.00</td>\n",
       "      <td>18316298.00</td>\n",
       "      <td>89638.00</td>\n",
       "      <td>840.00</td>\n",
       "    </tr>\n",
       "  </tbody>\n",
       "</table>\n",
       "</div>"
      ],
      "text/plain": [
       "       household_key     BASKET_ID         DAY   PRODUCT_ID    QUANTITY  \\\n",
       "count     2146311.00  2.146311e+06  2146311.00   2146311.00  2146311.00   \n",
       "mean         1056.23  3.404897e+10      389.51   2884714.94      100.97   \n",
       "std           605.01  4.723748e+09      190.05   3831949.29     1152.36   \n",
       "min             1.00  2.698490e+10        1.00     25671.00        0.00   \n",
       "25%           548.00  3.040798e+10      229.00    917231.00        1.00   \n",
       "50%          1042.00  3.281176e+10      392.00   1027960.00        1.00   \n",
       "75%          1581.00  4.012804e+10      555.00   1132771.00        1.00   \n",
       "max          2099.00  4.230536e+10      711.00  18316298.00    89638.00   \n",
       "\n",
       "       SALES_VALUE  \n",
       "count   2146311.00  \n",
       "mean          3.11  \n",
       "std           4.19  \n",
       "min           0.00  \n",
       "25%           1.29  \n",
       "50%           2.00  \n",
       "75%           3.49  \n",
       "max         840.00  "
      ]
     },
     "execution_count": 7,
     "metadata": {},
     "output_type": "execute_result"
    }
   ],
   "source": [
    "# look at the outliers, means, and ranges \n",
    "# will help understand the data as well as the appropriate dtypes to use\n",
    "\n",
    "transactions.describe().round(2)"
   ]
  },
  {
   "cell_type": "code",
   "execution_count": 8,
   "id": "e798a72f-ab21-4ae6-b3b6-1a57e6077194",
   "metadata": {},
   "outputs": [
    {
     "data": {
      "text/plain": [
       "household_key    0\n",
       "BASKET_ID        0\n",
       "DAY              0\n",
       "PRODUCT_ID       0\n",
       "QUANTITY         0\n",
       "SALES_VALUE      0\n",
       "dtype: int64"
      ]
     },
     "execution_count": 8,
     "metadata": {},
     "output_type": "execute_result"
    }
   ],
   "source": [
    "# check for missing data\n",
    "\n",
    "transactions.isna().sum()"
   ]
  },
  {
   "cell_type": "code",
   "execution_count": 9,
   "id": "51abcb81-7fbb-4c83-9093-bdbb8e30ab3e",
   "metadata": {},
   "outputs": [
    {
     "data": {
      "text/plain": [
       "0           0 days\n",
       "1           0 days\n",
       "2           0 days\n",
       "3           0 days\n",
       "4           0 days\n",
       "            ...   \n",
       "2146306   710 days\n",
       "2146307   710 days\n",
       "2146308   710 days\n",
       "2146309   710 days\n",
       "2146310   710 days\n",
       "Name: DAY, Length: 2146311, dtype: timedelta64[ns]"
      ]
     },
     "execution_count": 9,
     "metadata": {},
     "output_type": "execute_result"
    }
   ],
   "source": [
    "# Creating date column from 'DAY' column:\n",
    "\n",
    "# we need to create a new 'date' column because the only date is thorugh the 'DAY' column which just list an integer representing\n",
    "# what day number relative to the day the first transaction occured \n",
    "    \n",
    "# we will grab day # and subtract 1 so that day 1 starts at 0\n",
    "# turn day into a string and add the string 'days' so it will be in the format '0 days' (which is the format of the timedelta dtype)\n",
    "# convert that into a timedelta dtype\n",
    "\n",
    "pd.to_timedelta(transactions[\"DAY\"].sub(1).astype(str) + ' days')"
   ]
  },
  {
   "cell_type": "code",
   "execution_count": 10,
   "id": "c5c965e3-e4d3-4549-b2d8-17892940de6b",
   "metadata": {},
   "outputs": [
    {
     "data": {
      "text/plain": [
       "Timestamp('2016-01-01 00:00:00')"
      ]
     },
     "execution_count": 10,
     "metadata": {},
     "output_type": "execute_result"
    }
   ],
   "source": [
    "# assume that day 1 starts on 2016-01-01 \n",
    "# therefore, we must create an actual origical datetime timestamp that will represent day 0\n",
    "# from there, we will add the time delta of the row to extrapolate a date\n",
    "\n",
    "pd.to_datetime(\"2016\", format='%Y') "
   ]
  },
  {
   "cell_type": "code",
   "execution_count": 11,
   "id": "80d6770c-ae37-4ac6-b65d-a245027655ff",
   "metadata": {},
   "outputs": [
    {
     "data": {
      "text/plain": [
       "0         2016-01-03\n",
       "1         2016-01-03\n",
       "2         2016-01-03\n",
       "3         2016-01-03\n",
       "4         2016-01-03\n",
       "             ...    \n",
       "2146306   2017-12-13\n",
       "2146307   2017-12-13\n",
       "2146308   2017-12-13\n",
       "2146309   2017-12-13\n",
       "2146310   2017-12-13\n",
       "Name: DAY, Length: 2146311, dtype: datetime64[ns]"
      ]
     },
     "execution_count": 11,
     "metadata": {},
     "output_type": "execute_result"
    }
   ],
   "source": [
    "# timestamp (datetime) + number of days since day 0 (timedelta) will give us a properly formatted date!\n",
    "# in the output, you can see that each row now has a real datetime (can now create a date column)\n",
    "\n",
    "pd.to_datetime('2016', format='%Y') + pd.to_timedelta(transactions['DAY'].sub(-1).astype('str') + ' days')"
   ]
  },
  {
   "cell_type": "code",
   "execution_count": 12,
   "id": "8c90a284",
   "metadata": {},
   "outputs": [],
   "source": [
    "# now create the Date Column!\n",
    "# df = df.assign()\n",
    "# drop the original 'DAY' column so all that is left in terms of a time column is 'date'\n",
    "\n",
    "transactions = (\n",
    "    transactions\n",
    "    .assign(date = (pd.to_datetime(\"2016\", format='%Y') \n",
    "                    + pd.to_timedelta(transactions[\"DAY\"].sub(1).astype(str) + \" days\"))\n",
    "           )\n",
    "    .drop([\"DAY\"], axis=1)\n",
    ")"
   ]
  },
  {
   "cell_type": "code",
   "execution_count": 13,
   "id": "0e679547-20b1-4ce9-8c22-0b57ce058500",
   "metadata": {},
   "outputs": [],
   "source": [
    "# make names all lower case\n",
    "\n",
    "transactions.columns =[ col.lower() for col in transactions.columns]\n",
    "\n",
    "# change household_key to household_id for part 2 \n",
    "\n",
    "transactions = transactions.rename(columns={'household_key': 'household_id'})"
   ]
  },
  {
   "cell_type": "code",
   "execution_count": 14,
   "id": "b0b99554-3f45-4b95-a3a7-a719f82fb8f4",
   "metadata": {},
   "outputs": [
    {
     "data": {
      "text/html": [
       "<div>\n",
       "<style scoped>\n",
       "    .dataframe tbody tr th:only-of-type {\n",
       "        vertical-align: middle;\n",
       "    }\n",
       "\n",
       "    .dataframe tbody tr th {\n",
       "        vertical-align: top;\n",
       "    }\n",
       "\n",
       "    .dataframe thead th {\n",
       "        text-align: right;\n",
       "    }\n",
       "</style>\n",
       "<table border=\"1\" class=\"dataframe\">\n",
       "  <thead>\n",
       "    <tr style=\"text-align: right;\">\n",
       "      <th></th>\n",
       "      <th>household_id</th>\n",
       "      <th>basket_id</th>\n",
       "      <th>product_id</th>\n",
       "      <th>quantity</th>\n",
       "      <th>sales_value</th>\n",
       "      <th>date</th>\n",
       "    </tr>\n",
       "  </thead>\n",
       "  <tbody>\n",
       "    <tr>\n",
       "      <th>0</th>\n",
       "      <td>1364</td>\n",
       "      <td>26984896261</td>\n",
       "      <td>842930</td>\n",
       "      <td>1</td>\n",
       "      <td>2.19</td>\n",
       "      <td>2016-01-01</td>\n",
       "    </tr>\n",
       "    <tr>\n",
       "      <th>1</th>\n",
       "      <td>1364</td>\n",
       "      <td>26984896261</td>\n",
       "      <td>897044</td>\n",
       "      <td>1</td>\n",
       "      <td>2.99</td>\n",
       "      <td>2016-01-01</td>\n",
       "    </tr>\n",
       "    <tr>\n",
       "      <th>2</th>\n",
       "      <td>1364</td>\n",
       "      <td>26984896261</td>\n",
       "      <td>920955</td>\n",
       "      <td>1</td>\n",
       "      <td>3.09</td>\n",
       "      <td>2016-01-01</td>\n",
       "    </tr>\n",
       "    <tr>\n",
       "      <th>3</th>\n",
       "      <td>1364</td>\n",
       "      <td>26984896261</td>\n",
       "      <td>937406</td>\n",
       "      <td>1</td>\n",
       "      <td>2.50</td>\n",
       "      <td>2016-01-01</td>\n",
       "    </tr>\n",
       "    <tr>\n",
       "      <th>4</th>\n",
       "      <td>1364</td>\n",
       "      <td>26984896261</td>\n",
       "      <td>981760</td>\n",
       "      <td>1</td>\n",
       "      <td>0.60</td>\n",
       "      <td>2016-01-01</td>\n",
       "    </tr>\n",
       "    <tr>\n",
       "      <th>...</th>\n",
       "      <td>...</td>\n",
       "      <td>...</td>\n",
       "      <td>...</td>\n",
       "      <td>...</td>\n",
       "      <td>...</td>\n",
       "      <td>...</td>\n",
       "    </tr>\n",
       "    <tr>\n",
       "      <th>2146306</th>\n",
       "      <td>1598</td>\n",
       "      <td>42305362535</td>\n",
       "      <td>92130</td>\n",
       "      <td>1</td>\n",
       "      <td>0.99</td>\n",
       "      <td>2017-12-11</td>\n",
       "    </tr>\n",
       "    <tr>\n",
       "      <th>2146307</th>\n",
       "      <td>1598</td>\n",
       "      <td>42305362535</td>\n",
       "      <td>114102</td>\n",
       "      <td>1</td>\n",
       "      <td>8.89</td>\n",
       "      <td>2017-12-11</td>\n",
       "    </tr>\n",
       "    <tr>\n",
       "      <th>2146308</th>\n",
       "      <td>1598</td>\n",
       "      <td>42305362535</td>\n",
       "      <td>133449</td>\n",
       "      <td>1</td>\n",
       "      <td>6.99</td>\n",
       "      <td>2017-12-11</td>\n",
       "    </tr>\n",
       "    <tr>\n",
       "      <th>2146309</th>\n",
       "      <td>1598</td>\n",
       "      <td>42305362535</td>\n",
       "      <td>6923644</td>\n",
       "      <td>1</td>\n",
       "      <td>4.50</td>\n",
       "      <td>2017-12-11</td>\n",
       "    </tr>\n",
       "    <tr>\n",
       "      <th>2146310</th>\n",
       "      <td>1598</td>\n",
       "      <td>42305362535</td>\n",
       "      <td>14055192</td>\n",
       "      <td>1</td>\n",
       "      <td>6.99</td>\n",
       "      <td>2017-12-11</td>\n",
       "    </tr>\n",
       "  </tbody>\n",
       "</table>\n",
       "<p>2146311 rows × 6 columns</p>\n",
       "</div>"
      ],
      "text/plain": [
       "         household_id    basket_id  product_id  quantity  sales_value  \\\n",
       "0                1364  26984896261      842930         1         2.19   \n",
       "1                1364  26984896261      897044         1         2.99   \n",
       "2                1364  26984896261      920955         1         3.09   \n",
       "3                1364  26984896261      937406         1         2.50   \n",
       "4                1364  26984896261      981760         1         0.60   \n",
       "...               ...          ...         ...       ...          ...   \n",
       "2146306          1598  42305362535       92130         1         0.99   \n",
       "2146307          1598  42305362535      114102         1         8.89   \n",
       "2146308          1598  42305362535      133449         1         6.99   \n",
       "2146309          1598  42305362535     6923644         1         4.50   \n",
       "2146310          1598  42305362535    14055192         1         6.99   \n",
       "\n",
       "              date  \n",
       "0       2016-01-01  \n",
       "1       2016-01-01  \n",
       "2       2016-01-01  \n",
       "3       2016-01-01  \n",
       "4       2016-01-01  \n",
       "...            ...  \n",
       "2146306 2017-12-11  \n",
       "2146307 2017-12-11  \n",
       "2146308 2017-12-11  \n",
       "2146309 2017-12-11  \n",
       "2146310 2017-12-11  \n",
       "\n",
       "[2146311 rows x 6 columns]"
      ]
     },
     "execution_count": 14,
     "metadata": {},
     "output_type": "execute_result"
    }
   ],
   "source": [
    "# check the final dataset\n",
    "\n",
    "transactions"
   ]
  },
  {
   "cell_type": "markdown",
   "id": "64d2e67d",
   "metadata": {},
   "source": [
    "## TIME BASED ANALYSIS\n",
    "\n",
    "* Plot the sum of sales by month. Are sales growing over time?\n",
    "* Next, plot the same series after filtering down to dates April 2016 and October 2017.\n",
    "* Then, plot the sum of monthly sales in 2016 vs the monthly sales 2017.\n",
    "* Finally, plot total sales by day of week."
   ]
  },
  {
   "cell_type": "code",
   "execution_count": 15,
   "id": "b77c12de-63fc-4359-a99c-ef0b432fcaaa",
   "metadata": {},
   "outputs": [],
   "source": [
    "# must create a total_sales column\n",
    "\n",
    "transactions = transactions.assign(total_sales = transactions.quantity * transactions.sales_value)\n",
    "\n",
    "# time based analysis so want to set transaction index to date\n",
    "\n",
    "transactions = transactions.set_index('date')"
   ]
  },
  {
   "cell_type": "code",
   "execution_count": 42,
   "id": "8a68946a",
   "metadata": {},
   "outputs": [
    {
     "data": {
      "image/png": "[encoded data removed]",
      "text/plain": [
       "<Figure size 720x288 with 1 Axes>"
      ]
     },
     "metadata": {
      "needs_background": "light"
     },
     "output_type": "display_data"
    }
   ],
   "source": [
    "# Plot the sum of sales by month. Are sales growing over time? (1/2)\n",
    "\n",
    "monthly_sales = (transactions.groupby(pd.Grouper(freq='M')).agg({'total_sales': 'sum'})) \n",
    "               \n",
    "                 \n",
    "(monthly_sales\n",
    " .plot(kind='bar',\n",
    "       title='Total Sales by Month',\n",
    "       xlabel='Date',\n",
    "       ylabel='Total Sales (USD)',\n",
    "       legend=False, \n",
    "       figsize=(10, 4))\n",
    " .set_xticklabels(monthly_sales.index.format())\n",
    ");\n",
    "\n",
    "\n"
   ]
  },
  {
   "cell_type": "code",
   "execution_count": 23,
   "id": "405e4bca-70f6-44f7-a727-b7ca9d8206a7",
   "metadata": {},
   "outputs": [
    {
     "data": {
      "text/plain": [
       "<AxesSubplot:title={'center':'Total Sales by Month'}, xlabel='Date', ylabel='Total Sales (USD)'>"
      ]
     },
     "execution_count": 23,
     "metadata": {},
     "output_type": "execute_result"
    },
    {
     "data": {
      "image/png": "[encoded data removed]",
      "text/plain": [
       "<Figure size 720x288 with 1 Axes>"
      ]
     },
     "metadata": {
      "needs_background": "light"
     },
     "output_type": "display_data"
    }
   ],
   "source": [
    "# Plot the sum of sales by month. Are sales growing over time? (2/2)\n",
    "\n",
    "(transactions\n",
    " .groupby(pd.Grouper(freq='M'))\n",
    " .agg({'total_sales': 'sum'}) \n",
    " .plot(title='Total Sales by Month',\n",
    "       xlabel='Date',\n",
    "       ylabel='Total Sales (USD)',\n",
    "       legend=False, figsize=(10, 4))\n",
    ")"
   ]
  },
  {
   "cell_type": "code",
   "execution_count": 20,
   "id": "efcc488d-1080-4659-87ea-14e481934721",
   "metadata": {},
   "outputs": [],
   "source": [
    "filt_transactions = transactions.loc['2016-04':'2017-10']"
   ]
  },
  {
   "cell_type": "code",
   "execution_count": null,
   "id": "d4253d37",
   "metadata": {},
   "outputs": [],
   "source": [
    "# Next, plot the same series after filtering down to dates April 2016 and October 2017.\n",
    "(transactions\n",
    " .loc['2016-04':'2017-10']\n",
    " .groupby(filt_transactions.index)\n",
    " .agg({'total_sales': 'sum'}) \n",
    " .plot(\n",
    "     title='Total Sales (2016-04 to 2017-10)',\n",
    "     xlabel='Date',\n",
    "     ylabel='Total Sales (USD)',\n",
    "     legend=False, figsize=(10, 4))\n",
    ")"
   ]
  },
  {
   "cell_type": "code",
   "execution_count": null,
   "id": "5ddf6a6a",
   "metadata": {
    "scrolled": true
   },
   "outputs": [],
   "source": [
    "# Then, plot the sum of monthly sales in 2016 vs the monthly sales 2017.\n",
    "(transactions\n",
    " .pivot_table(\n",
    "     index=transactions.index.month,\n",
    "     columns=transactions.index.year,\n",
    "     aggfunc={'total_sales': 'sum'})\n",
    " .plot.bar(title='Comparison of Total Sales by Month',\n",
    "           xlabel='Month', \n",
    "           ylabel='Total Sales')\n",
    " .legend(bbox_to_anchor=(1,1), \n",
    "         labels=['2016', '2017'])\n",
    ")"
   ]
  },
  {
   "cell_type": "code",
   "execution_count": null,
   "id": "cdfe4610",
   "metadata": {},
   "outputs": [],
   "source": [
    "# Finally, plot total sales by day of week.\n",
    "(transactions\n",
    " .groupby(transactions.index.dayofweek)\n",
    " .agg({'total_sales': 'sum'}) \n",
    " .plot(kind='bar',\n",
    "       title='Total Sales by Day of the Week',\n",
    "       xlabel='Date',\n",
    "       ylabel='Total Sales (USD)',\n",
    "       legend=False, figsize=(10, 4))\n",
    ")"
   ]
  },
  {
   "cell_type": "markdown",
   "id": "2a96c4a4",
   "metadata": {},
   "source": [
    "# DEMOGRAPHICS\n",
    "\n",
    "* Read in the `hh_demographic.csv` file, but only the columns `AGE_DESC`, `INCOME_DESC`, `household_key`, and `HH_COMP_DESC`. Convert the appropriate columns to the category dtype.\n",
    "\n",
    "\n",
    "* Then group the transactions table by household_id, and calculate the sum of SALES VALUE by household.\n",
    "\n",
    "\n",
    "* Once you've done that, join the demographics DataFrame to the aggregated transactions table. Since we're interested in analyzing the demographic data we have, make sure not to include rows from transactions that don't match.\n",
    "\n",
    "\n",
    "* Plot the sum of sales by age_desc and income_desc (in separate charts).\n",
    "\n",
    "\n",
    "* Then, create a pivot table of the mean household sales by `AGE_DESC` and `HH_COMP_DESC`. Which of our demographics have the highest average sales?\n"
   ]
  },
  {
   "cell_type": "code",
   "execution_count": null,
   "id": "b03da735",
   "metadata": {},
   "outputs": [],
   "source": [
    "# Read in the hh_demographic.csv file, \n",
    "# but only the columns AGE_DESC, INCOME_DESC, household_key, and HH_COMP_DESC. \n",
    "# Convert the appropriate columns to the category dtype.\n",
    "\n",
    "demographics = pd.read_csv('/Users/jairusmartinez/Desktop/Python_Data_Analysis /Pandas Course Resources/project_data/hh_demographic.csv',\n",
    "                          usecols=['AGE_DESC', 'INCOME_DESC','household_key', 'HH_COMP_DESC'],\n",
    "                          dtype={'AGE_DESC': 'category', 'INCOME_DESC': 'category', 'HH_COMP_DESC': 'category', 'household_key': 'Int16'}\n",
    "                          )\n",
    "# make the columns all lower case\n",
    "demographics.columns = [col.lower() for col in demographics.columns]\n",
    "\n",
    "# rename household key to household id\n",
    "demographics = demographics.rename(columns={'household_key': 'household_id'})"
   ]
  },
  {
   "cell_type": "code",
   "execution_count": null,
   "id": "7635afb0",
   "metadata": {
    "scrolled": true
   },
   "outputs": [],
   "source": [
    "demographics"
   ]
  },
  {
   "cell_type": "code",
   "execution_count": null,
   "id": "9f1a2ee8",
   "metadata": {},
   "outputs": [],
   "source": [
    "demographics.info()"
   ]
  },
  {
   "cell_type": "code",
   "execution_count": null,
   "id": "ef63184f",
   "metadata": {},
   "outputs": [],
   "source": []
  },
  {
   "cell_type": "code",
   "execution_count": null,
   "id": "ccd5bfe5",
   "metadata": {},
   "outputs": [],
   "source": [
    "# reset the transactions index\n",
    "transactions = transactions.reset_index()"
   ]
  },
  {
   "cell_type": "code",
   "execution_count": null,
   "id": "ec18a861",
   "metadata": {},
   "outputs": [],
   "source": [
    "# Then group the transactions table by household_id, and calculate the sum of SALES VALUE by household.\n",
    "house_transactions = (transactions\n",
    "                      .groupby('household_id')\n",
    "                      .agg({'total_sales': 'sum'})\n",
    "                     )"
   ]
  },
  {
   "cell_type": "code",
   "execution_count": null,
   "id": "a847e93e",
   "metadata": {},
   "outputs": [],
   "source": [
    "# join the demographics DataFrame to the aggregated transactions table. \n",
    "# Since we're interested in analyzing the demographic data we have, make sure not to include rows from transactions that don't match.\n",
    "\n",
    "demo_transactions = house_transactions.merge(demographics,\n",
    "                        how='inner',\n",
    "                        left_on=['household_id'],\n",
    "                        right_on=['household_id'])\n",
    "demo_transactions.head()"
   ]
  },
  {
   "cell_type": "code",
   "execution_count": null,
   "id": "196e806b",
   "metadata": {},
   "outputs": [],
   "source": [
    "# Plot the sum of sales by age_desc \n",
    "(demo_transactions\n",
    " .groupby('age_desc')\n",
    " .agg({'total_sales': 'sum'})\n",
    " .plot(\n",
    "     kind='bar',\n",
    "     title='Total Sales by Age Bracket',\n",
    "     ylabel='Total Sales (USD)',\n",
    "     xlabel='Age Brackets',\n",
    "     legend=False\n",
    " )\n",
    ")"
   ]
  },
  {
   "cell_type": "code",
   "execution_count": null,
   "id": "e561cb93-044d-46e1-a0d5-d8197d1e54e3",
   "metadata": {},
   "outputs": [],
   "source": [
    "list(demo_transactions['income_desc'].unique())"
   ]
  },
  {
   "cell_type": "code",
   "execution_count": null,
   "id": "00532c97-6ae2-4c01-a1c1-04f5a3aa4871",
   "metadata": {},
   "outputs": [],
   "source": [
    "# set an order to the income cateogrical column so that \n",
    "# the plot can be in order (otherwise, python will not order since the ranges are categorical strings)\n",
    "demo_transactions['income_desc'] = pd.Categorical(demo_transactions['income_desc'],\n",
    "                                            categories=['Under 15K','15-24K','25-34K','35-49K','50-74K','75-99K',\n",
    "                                            '100-124K','125-149K','150-174K','175-199K','200-249K','250K+'], \n",
    "                                            ordered=True)"
   ]
  },
  {
   "cell_type": "code",
   "execution_count": null,
   "id": "8b3545c2",
   "metadata": {},
   "outputs": [],
   "source": [
    "# Plot the sum of sales by income_desc \n",
    "(demo_transactions\n",
    " .groupby('income_desc')\n",
    " .agg({'total_sales': 'sum'})\n",
    " #.sort_values('total_sales', ascending=False)\n",
    " .plot(\n",
    "     kind='bar',\n",
    "     title='Total Sales by Income Bracket',\n",
    "     ylabel='Total Sales (USD)',\n",
    "     xlabel='Income Brackets',\n",
    "     legend=False\n",
    " )\n",
    ")"
   ]
  },
  {
   "cell_type": "code",
   "execution_count": null,
   "id": "9353c8d1-9922-4633-85fa-045f0a510721",
   "metadata": {},
   "outputs": [],
   "source": [
    "# Then, create a pivot table of the mean household sales by AGE_DESC and HH_COMP_DESC. \n",
    "# Which of our demographics have the highest average sales?\n",
    "(demo_transactions\n",
    " .query(\"'Unknown' not in hh_comp_desc\")\n",
    " .pivot_table(\n",
    "     index=['age_desc', 'hh_comp_desc'],\n",
    "     aggfunc=({'total_sales': 'mean'}))\n",
    " .sort_values('total_sales', ascending=False)\n",
    ")"
   ]
  },
  {
   "cell_type": "markdown",
   "id": "5081f94d",
   "metadata": {},
   "source": [
    "# PRODUCT DEMOGRAPHICS\n",
    "\n",
    "* Read in the product csv file.\n",
    "\n",
    "* Only read in product_id and department from product (consider converting columns).\n",
    "\n",
    "* Join the product DataFrame to transactions and demographics tables, performing an inner join when joining both tables.\n",
    "\n",
    "* Finally, pivot the fully joined dataframe by AGE_DESC and DEPARTMENT, calculating the sum of sales. Which category does our youngest demographic perform well in?\n",
    "\n"
   ]
  },
  {
   "cell_type": "code",
   "execution_count": null,
   "id": "def3a4b1",
   "metadata": {},
   "outputs": [],
   "source": [
    "products = pd.read_csv('/Users/jairusmartinez/Desktop/Python_Data_Analysis /Pandas Course Resources/project_data/product.csv',\n",
    "                     usecols=['PRODUCT_ID', 'DEPARTMENT'],\n",
    "                     dtype={'DEPARTMENT': 'category'})\n",
    "\n",
    "products.columns = [col.lower() for col in products.columns]"
   ]
  },
  {
   "cell_type": "code",
   "execution_count": null,
   "id": "c2e9b703-10bf-4beb-924a-4f1140572964",
   "metadata": {},
   "outputs": [],
   "source": [
    "products.head()"
   ]
  },
  {
   "cell_type": "code",
   "execution_count": null,
   "id": "65e3618f",
   "metadata": {},
   "outputs": [],
   "source": [
    "# join product with transactions\n",
    "products_transactions =(products.merge(transactions,\n",
    "                                       how='inner',\n",
    "                                       left_on='product_id',\n",
    "                                       right_on='product_id'))"
   ]
  },
  {
   "cell_type": "code",
   "execution_count": null,
   "id": "ed86759d",
   "metadata": {},
   "outputs": [],
   "source": [
    "# join product with demographics\n",
    "# no similar columns so join product with transactions (key='product_id') first \n",
    "# then join demogrpahics (key='household_id')\n",
    "maven_mart = (products_transactions.merge(demographics,\n",
    "                                          how='inner',\n",
    "                                          left_on='household_id',\n",
    "                                          right_on='household_id')\n",
    "             )"
   ]
  },
  {
   "cell_type": "code",
   "execution_count": null,
   "id": "45f030c5-275d-4fb7-8718-177f0382cbd9",
   "metadata": {},
   "outputs": [],
   "source": [
    "list(maven_mart.department.unique())"
   ]
  },
  {
   "cell_type": "code",
   "execution_count": null,
   "id": "da2f389c-958c-42cf-8a1b-0e5329c7f1b1",
   "metadata": {},
   "outputs": [],
   "source": [
    "# in pivot table there is a blank department category \n",
    "# i have explored this data and assessed that I can delete the rows that are contained \n",
    "# this line will return all the indices with the blank value\n",
    "# i will use this to drop all rows with the blank department value\n",
    "maven_mart.loc[maven_mart.department ==  ' '].index"
   ]
  },
  {
   "cell_type": "code",
   "execution_count": null,
   "id": "4922f07d-8f45-4c49-a261-19a867ce69ef",
   "metadata": {},
   "outputs": [],
   "source": [
    "# drop the blank department categories\n",
    "maven_mart = maven_mart.drop(maven_mart.loc[maven_mart.department ==  ' '].index, axis=0)"
   ]
  },
  {
   "cell_type": "code",
   "execution_count": null,
   "id": "0cb046ea-63fd-4a9d-854d-11b29d3d41c8",
   "metadata": {},
   "outputs": [],
   "source": [
    "#Finally, pivot the fully joined dataframe by AGE_DESC and DEPARTMENT, calculating the sum of sales.\n",
    "(maven_mart\n",
    " .pivot_table(\n",
    "     index='department',\n",
    "     columns='age_desc',\n",
    "     aggfunc={'total_sales': 'sum'})\n",
    " .round(1)\n",
    " .sort_values('department')\n",
    " .droplevel(0, axis=1)\n",
    ")"
   ]
  },
  {
   "cell_type": "code",
   "execution_count": null,
   "id": "fdddec0a-c303-4ed4-a19c-33852ac6ecba",
   "metadata": {},
   "outputs": [],
   "source": [
    "# Which category does our youngest demographic perform well in?\n",
    "# must drop the outer index so can index pivot table easily\n",
    "(maven_mart\n",
    " .pivot_table(\n",
    "     index='department',\n",
    "     columns='age_desc',\n",
    "     aggfunc={'total_sales': 'sum'})\n",
    " .round(1)\n",
    " .sort_values('department')\n",
    " .droplevel(0, axis=1)\n",
    ").loc[:, '19-24'].sort_values(ascending=False).head()"
   ]
  },
  {
   "cell_type": "markdown",
   "id": "c761f6ed",
   "metadata": {
    "tags": []
   },
   "source": [
    "# EXPORT\n",
    "\n",
    "Finally, export your pivot table to an excel file. Make sure to provide a sheet name."
   ]
  },
  {
   "cell_type": "code",
   "execution_count": null,
   "id": "abfe3a77",
   "metadata": {},
   "outputs": [],
   "source": [
    "age_department = (maven_mart\n",
    "                     .pivot_table(\n",
    "                         index='department',\n",
    "                         columns='age_desc',\n",
    "                         aggfunc={'total_sales': 'sum'})\n",
    "                     .round(1)\n",
    "                     .sort_values('department')\n",
    "                     .droplevel(0, axis=1)\n",
    "                 )"
   ]
  },
  {
   "cell_type": "code",
   "execution_count": null,
   "id": "4b33a445-501e-4e8a-8ba8-20f6a199b41a",
   "metadata": {},
   "outputs": [],
   "source": [
    "age_department.to_excel('age_departments.xlsx', index=True)"
   ]
  },
  {
   "cell_type": "code",
   "execution_count": null,
   "id": "62a82322-9a38-439d-a158-71d8d7df6a1c",
   "metadata": {},
   "outputs": [],
   "source": [
    "# read it in to check if it worked!\n",
    "df = pd.read_excel('age_departments.xlsx')"
   ]
  },
  {
   "cell_type": "code",
   "execution_count": null,
   "id": "c72a5bf6-981b-49ed-88d4-a32ada69d2f6",
   "metadata": {},
   "outputs": [],
   "source": [
    "# yay it worked :)\n",
    "df"
   ]
  }
 ],
 "metadata": {
  "kernelspec": {
   "display_name": "Python 3 (ipykernel)",
   "language": "python",
   "name": "python3"
  },
  "language_info": {
   "codemirror_mode": {
    "name": "ipython",
    "version": 3
   },
   "file_extension": ".py",
   "mimetype": "text/x-python",
   "name": "python",
   "nbconvert_exporter": "python",
   "pygments_lexer": "ipython3",
   "version": "3.9.12"
  }
 },
 "nbformat": 4,
 "nbformat_minor": 5
}
